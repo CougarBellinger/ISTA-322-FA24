{
  "cells": [
    {
      "cell_type": "markdown",
      "metadata": {
        "id": "LefuP7vrXbPl"
      },
      "source": [
        "In this notebook, we practice with data warehousing. We do have small warehouse with the same star schema as the lecture notes for `salesdb_sales`, `salesdb_item`, `salesdb_customer`, and `salesdb_store`.\n"
      ]
    },
    {
      "cell_type": "markdown",
      "metadata": {
        "id": "UfQ-ih5a7Uua"
      },
      "source": [
        "**Submission Instruction**\n",
        "\n",
        "1- Make a copy and replace blank with your name\n",
        "\n",
        "2- Complete and run all cells\n",
        "\n",
        "3- Download .ipynb and submit on Gradescope"
      ]
    },
    {
      "cell_type": "code",
      "execution_count": null,
      "metadata": {
        "id": "Lu1Qdz6WXUeF"
      },
      "outputs": [],
      "source": [
        "%pip install mysql-connector-python"
      ]
    },
    {
      "cell_type": "code",
      "execution_count": null,
      "metadata": {
        "id": "EOzRueoJdzZc"
      },
      "outputs": [],
      "source": [
        "import mysql.connector\n",
        "import pandas as pd"
      ]
    },
    {
      "cell_type": "code",
      "execution_count": null,
      "metadata": {
        "id": "5Jk7k5q-d4CN"
      },
      "outputs": [],
      "source": [
        "mysql_address  = '131.193.32.85'\n",
        "mysql_username='de_student'\n",
        "mysql_password='DE_Student_PaSS'\n",
        "\n",
        "mysql_database = 'my_dataengineering_dbs'\n",
        "\n",
        "\n",
        "def get_conn_cur():\n",
        "    cnx = mysql.connector.connect(user=mysql_username, password=mysql_password,\n",
        "          host=mysql_address,\n",
        "          database=mysql_database, port='3306');\n",
        "    return (cnx, cnx.cursor())\n",
        "\n",
        "def run_query(query_string):\n",
        "\n",
        "  conn, cur = get_conn_cur() # get connection and cursor\n",
        "  cur.execute(query_string) # executing string as before\n",
        "  my_data = cur.fetchall() # fetch query data as before\n",
        "  result_df = pd.DataFrame(my_data, columns=cur.column_names)\n",
        "\n",
        "\n",
        "  cur.close() # close\n",
        "  conn.close() # close\n",
        "\n",
        "  return result_df\n",
        "\n",
        "\n",
        "def sql_head(table_name):\n",
        "  conn, cur = get_conn_cur() #get connection and cursor\n",
        "\n",
        "  #get head information\n",
        "  table_rows_query = \"\"\" SELECT * FROM %s LIMIT 5; \"\"\" % table_name\n",
        "  cur.execute(table_rows_query)\n",
        "  my_data = cur.fetchall() # fetch results\n",
        "\n",
        "  # Create a dataframe that combines sql table with column names and return\n",
        "  df = pd.DataFrame(my_data, columns=cur.column_names)\n",
        "\n",
        "  cur.close()\n",
        "  conn.close()\n",
        "  return df"
      ]
    },
    {
      "cell_type": "code",
      "execution_count": null,
      "metadata": {
        "id": "NMf-k1gGGT7d"
      },
      "outputs": [],
      "source": [
        "sql_head(\"salesdb_customer\")"
      ]
    },
    {
      "cell_type": "code",
      "execution_count": null,
      "metadata": {
        "id": "Lg23-mzaGZ9I"
      },
      "outputs": [],
      "source": [
        "sql_head('salesdb_store')"
      ]
    },
    {
      "cell_type": "code",
      "execution_count": null,
      "metadata": {
        "id": "Y5nE7zgsGgtM"
      },
      "outputs": [],
      "source": [
        "sql_head('salesdb_item')"
      ]
    },
    {
      "cell_type": "code",
      "execution_count": null,
      "metadata": {
        "id": "eVkmpTmJd-Mc"
      },
      "outputs": [],
      "source": [
        "sql_head(\"salesdb_sales\")"
      ]
    },
    {
      "cell_type": "markdown",
      "metadata": {
        "id": "NRi-jJalGlR2"
      },
      "source": [
        "Now we look at couple of example queries."
      ]
    },
    {
      "cell_type": "markdown",
      "metadata": {
        "id": "bQ_DtZayeOpM"
      },
      "source": [
        " All inexpensive (price < 25) Tshirts sold in California to young people (age < 22)"
      ]
    },
    {
      "cell_type": "code",
      "execution_count": null,
      "metadata": {
        "id": "xRTgKWExeDmJ"
      },
      "outputs": [],
      "source": [
        "sql = \"\"\"\n",
        "SELECT S.city, I.color, C.cName, F.price\n",
        "    FROM salesdb_sales F, salesdb_store S, salesdb_item I, salesdb_customer C\n",
        "    WHERE F.storeID = S.storeID AND F.itemID = I.itemID\n",
        "    AND F.custID = C.custID AND S.state = 'CA'\n",
        "    AND I.category = 'Tshirt' AND C.age < 22 AND F.price < 25; \"\"\"\n",
        "run_query(sql)"
      ]
    },
    {
      "cell_type": "markdown",
      "metadata": {
        "id": "ST7N0Srgeu0p"
      },
      "source": [
        "Total sales by store ID and customer name"
      ]
    },
    {
      "cell_type": "code",
      "execution_count": null,
      "metadata": {
        "id": "hkHq6a6KegF0"
      },
      "outputs": [],
      "source": [
        "sql= \"\"\"\n",
        "SELECT storeID, cName, sum(price)\n",
        "FROM salesdb_sales S, salesdb_customer C\n",
        "WHERE S.custID=C.custID\n",
        "GROUP BY storeID, cName; \"\"\"\n",
        "run_query(sql)"
      ]
    },
    {
      "cell_type": "markdown",
      "metadata": {
        "id": "QvHeJKLgfHse"
      },
      "source": [
        "\"Drill-down\" Total sales by store ID, category, and customer"
      ]
    },
    {
      "cell_type": "code",
      "execution_count": null,
      "metadata": {
        "id": "1fM1uV-afDWT"
      },
      "outputs": [],
      "source": [
        "sql = \"\"\"\n",
        "SELECT storeID, I.category, cName, sum(price)\n",
        "FROM salesdb_sales S, salesdb_customer C, salesdb_item I\n",
        "WHERE S.custID=C.custID AND S.itemID=I.itemID\n",
        "GROUP BY storeID, I.category, cName; \"\"\"\n",
        "run_query(sql)"
      ]
    },
    {
      "cell_type": "markdown",
      "metadata": {
        "id": "9QlXg9ObgF8B"
      },
      "source": [
        "\"Slice\" Total sales by store ID, category, and customer for \"store6\" only\n"
      ]
    },
    {
      "cell_type": "code",
      "execution_count": null,
      "metadata": {
        "id": "tALnFo1-fgkY"
      },
      "outputs": [],
      "source": [
        "sql = \"\"\"\n",
        "SELECT S.storeID, I.category, cName, sum(price)\n",
        "FROM salesdb_sales S, salesdb_customer C, salesdb_item I, salesdb_store T\n",
        "WHERE S.custID=C.custID AND S.itemID=I.itemID\n",
        "AND S.storeID=T.storeID AND T.storeId ='store6'\n",
        "GROUP BY storeID, I.category, cName; \"\"\"\n",
        "run_query(sql)\n"
      ]
    },
    {
      "cell_type": "markdown",
      "metadata": {
        "id": "mHVon6PcgCs1"
      },
      "source": [
        "\"Dice\" Total sales by store ID, category, and customer for \"store6\" and \"Jacket\" only"
      ]
    },
    {
      "cell_type": "code",
      "execution_count": null,
      "metadata": {
        "id": "0dC4ItNBf_Fl"
      },
      "outputs": [],
      "source": [
        "sql = \"\"\"\n",
        "SELECT S.storeID, I.category, cName, sum(price)\n",
        "FROM salesdb_sales S, salesdb_customer C, salesdb_item I, salesdb_store T\n",
        "WHERE S.custID=C.custID AND S.itemID=I.itemID\n",
        "AND S.storeID=T.storeID AND T.storeId ='store6' AND I.category='Jacket'\n",
        "GROUP BY storeID, I.category, cName;\"\"\"\n",
        "\n",
        "run_query(sql)"
      ]
    },
    {
      "cell_type": "markdown",
      "metadata": {
        "id": "eYAlAGnEg1K0"
      },
      "source": [
        "\"Roll-up\" Total sales by category"
      ]
    },
    {
      "cell_type": "code",
      "execution_count": null,
      "metadata": {
        "id": "uQNgyB_hgrMs"
      },
      "outputs": [],
      "source": [
        "sql = \"\"\"\n",
        "SELECT I.category, sum(price)\n",
        "FROM salesdb_sales S, salesdb_item I\n",
        "WHERE S.itemID=I.itemID\n",
        "GROUP BY I.category;\"\"\"\n",
        "run_query(sql)"
      ]
    },
    {
      "cell_type": "markdown",
      "metadata": {
        "id": "ixvT11nplTFU"
      },
      "source": [
        "Total sales by state, county, city"
      ]
    },
    {
      "cell_type": "code",
      "execution_count": null,
      "metadata": {
        "id": "fXI4LDQshJT3"
      },
      "outputs": [],
      "source": [
        "sql = \"\"\"\n",
        "SELECT state, county, city, sum(price)\n",
        "FROM salesdb_sales F, salesdb_store S\n",
        "WHERE F.storeID = S.storeID\n",
        "GROUP BY state, county, city; \"\"\"\n",
        "run_query(sql)"
      ]
    },
    {
      "cell_type": "markdown",
      "metadata": {
        "id": "gBBavrYel9Lg"
      },
      "source": [
        "Total sales by state, county, city WITH ROLLUP. The ROLLUP generates multiple grouping sets based on the columns or expressions specified in the GROUP BY clause, here state, county, and city.\n"
      ]
    },
    {
      "cell_type": "code",
      "execution_count": null,
      "metadata": {
        "id": "rNwVgDyLl4Iv"
      },
      "outputs": [],
      "source": [
        "sql = \"\"\"\n",
        "SELECT state, county, city, sum(price)\n",
        "FROM salesdb_sales F, salesdb_store S\n",
        "WHERE F.storeID = S.storeID\n",
        "GROUP BY state, county, city WITH ROLLUP; \"\"\"\n",
        "run_query(sql)"
      ]
    },
    {
      "cell_type": "markdown",
      "metadata": {
        "id": "WDqtuQMJmW-A"
      },
      "source": [
        "Question 1: Write the query to list total sales by state of store and age of customer - [3 points]"
      ]
    },
    {
      "cell_type": "code",
      "execution_count": null,
      "metadata": {
        "id": "8FKvX_MnmUmD"
      },
      "outputs": [],
      "source": [
        "...\n"
      ]
    },
    {
      "cell_type": "markdown",
      "metadata": {
        "id": "9mpx_23emtKK"
      },
      "source": [
        "Question 2: Drill down to items by item color (on the basis of the previous query) - [3 points]  "
      ]
    },
    {
      "cell_type": "code",
      "execution_count": null,
      "metadata": {
        "id": "nnFGaCJcm4Xc"
      },
      "outputs": [],
      "source": [
        "...\n"
      ]
    },
    {
      "cell_type": "markdown",
      "metadata": {
        "id": "l7EsSHqbm6jR"
      },
      "source": [
        "Question 3: Use \"with rollup\" with the previous query - [3 points]"
      ]
    },
    {
      "cell_type": "code",
      "execution_count": null,
      "metadata": {
        "id": "FUhlfCyinESa"
      },
      "outputs": [],
      "source": [
        "...\n"
      ]
    },
    {
      "cell_type": "markdown",
      "metadata": {
        "id": "GU3WjmpVnGVA"
      },
      "source": [
        "Question 4: Slice by listing only items with blue color (on the basis of query of Question 2) - [3 points]"
      ]
    },
    {
      "cell_type": "code",
      "execution_count": null,
      "metadata": {
        "id": "psPVoM2EnQID"
      },
      "outputs": [],
      "source": [
        ",,,\n"
      ]
    },
    {
      "cell_type": "markdown",
      "metadata": {
        "id": "QwOR8f9NnTGP"
      },
      "source": [
        "Question 5: Rollup total sales by customer age and item color (on the basis of query of Question 2)  -- the remaining dimensions are customer age and item color. [3 points]"
      ]
    },
    {
      "cell_type": "code",
      "execution_count": null,
      "metadata": {
        "id": "Z-ByBRO5nSO-"
      },
      "outputs": [],
      "source": [
        "...\n"
      ]
    }
  ],
  "metadata": {
    "colab": {
      "provenance": []
    },
    "kernelspec": {
      "display_name": "Python 3",
      "name": "python3"
    },
    "language_info": {
      "name": "python"
    }
  },
  "nbformat": 4,
  "nbformat_minor": 0
}
