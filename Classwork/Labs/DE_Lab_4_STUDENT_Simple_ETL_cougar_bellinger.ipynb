{
  "cells": [
    {
      "cell_type": "markdown",
      "metadata": {
        "id": "ulG9Zpbnpcuf"
      },
      "source": [
        "**Submission Instruction**\n",
        "\n",
        "1- Replace blank in the title with your name\n",
        "\n",
        "2- Complete the notebook as instructed\n",
        "\n",
        "3- Run all cells (note that if the cells have already output you don't need to re-run them. That may cause errors when your re-insert identical rows into database)\n",
        "\n",
        "4- Download the .ipynb and Submit on Gradescope (make sure all cells have correct output)"
      ]
    },
    {
      "cell_type": "markdown",
      "metadata": {
        "id": "E7t6TrEQ6SBR"
      },
      "source": [
        "# Wrapping up ETL with the L\n",
        "\n",
        "The goal of this lesson is to teach you the process of uploading data to a database. You already followed a lesson to create a MySQL database on AWS or your local machine. Now it's time to load data to it.\n",
        "\n",
        "Before we do that though, we're going to extract data from a bulk storage and transform it into a more useful analytical format. Thus, we'll be doing a full ETL pipeline today!\n",
        "\n",
        "The data that we'll be extracting contains daily numbers of Covid-19 positive cases and deaths by each county and state in the US. Most dashboards or reporting metrics are going to want values 'rolled up' into a higher level. We're going to do this in two ways:\n",
        "\n",
        "* We're going to want aggregate numbers by state. Hearing about high rates in some specific county might matter for some people, but most sources will want state-level numbers.\n",
        "\n",
        "* We're also going to want to rollup our data into weekly aggregates vs. daily numbers. Daily numbers are problematic as some sources only report on specific days of the week. For example, hospitals might not update their stats on the weekends. Similarly U Arizona doesn't test on the weekends. This means that daily numbers aren't an accurate reflection of the overall trend, while weekly numbers are.\n",
        "\n",
        "The last thing we'll do is some wrangling to make a unique primary key for each row.\n",
        "\n",
        "Once that is done *then* we can upload the table to our database."
      ]
    },
    {
      "cell_type": "markdown",
      "metadata": {
        "id": "Auw-NIWr92Nn"
      },
      "source": [
        "## Extracting our data\n",
        "\n",
        "Extracting data in this case is pretty easy. I have this dataset on Amazon S3 which is their bulk simple storage (S3 stands for Simple Storage Solution).\n",
        "\n",
        "We can bring the data in via our usual `pd.read_csv()`. Then we'll do a quick exploration to figure out what we need to do as far as transforms."
      ]
    },
    {
      "cell_type": "code",
      "execution_count": 32,
      "metadata": {
        "id": "c8J9IVB99Cw7"
      },
      "outputs": [],
      "source": [
        "# Get pandas\n",
        "import pandas as pd"
      ]
    },
    {
      "cell_type": "code",
      "execution_count": 33,
      "metadata": {
        "id": "iikJFXUt9EVJ"
      },
      "outputs": [],
      "source": [
        "# We'll call our data 'covid'\n",
        "covid = pd.read_csv('http://131.193.32.85:9000/mybucket/covid_daily_cases.csv')"
      ]
    },
    {
      "cell_type": "markdown",
      "metadata": {
        "id": "Rai4DP4P-fm-"
      },
      "source": [
        "### Quick explore\n",
        "\n",
        "Let's look at the head, a describe, and shape."
      ]
    },
    {
      "cell_type": "code",
      "execution_count": 34,
      "metadata": {
        "colab": {
          "base_uri": "https://localhost:8080/",
          "height": 204
        },
        "id": "adY6xrly-k4L",
        "outputId": "1a4bead8-d66e-4fbf-ba5c-b92d0902d919"
      },
      "outputs": [
        {
          "data": {
            "text/html": [
              "<div>\n",
              "<style scoped>\n",
              "    .dataframe tbody tr th:only-of-type {\n",
              "        vertical-align: middle;\n",
              "    }\n",
              "\n",
              "    .dataframe tbody tr th {\n",
              "        vertical-align: top;\n",
              "    }\n",
              "\n",
              "    .dataframe thead th {\n",
              "        text-align: right;\n",
              "    }\n",
              "</style>\n",
              "<table border=\"1\" class=\"dataframe\">\n",
              "  <thead>\n",
              "    <tr style=\"text-align: right;\">\n",
              "      <th></th>\n",
              "      <th>date</th>\n",
              "      <th>state</th>\n",
              "      <th>county_code</th>\n",
              "      <th>county</th>\n",
              "      <th>daily_cases</th>\n",
              "      <th>daily_deaths</th>\n",
              "    </tr>\n",
              "  </thead>\n",
              "  <tbody>\n",
              "    <tr>\n",
              "      <th>625620</th>\n",
              "      <td>10/15/2020</td>\n",
              "      <td>Wyoming</td>\n",
              "      <td>56037</td>\n",
              "      <td>Sweetwater</td>\n",
              "      <td>4</td>\n",
              "      <td>0</td>\n",
              "    </tr>\n",
              "    <tr>\n",
              "      <th>625621</th>\n",
              "      <td>10/15/2020</td>\n",
              "      <td>Wyoming</td>\n",
              "      <td>56039</td>\n",
              "      <td>Teton</td>\n",
              "      <td>1</td>\n",
              "      <td>0</td>\n",
              "    </tr>\n",
              "    <tr>\n",
              "      <th>625622</th>\n",
              "      <td>10/15/2020</td>\n",
              "      <td>Wyoming</td>\n",
              "      <td>56041</td>\n",
              "      <td>Uinta</td>\n",
              "      <td>3</td>\n",
              "      <td>0</td>\n",
              "    </tr>\n",
              "    <tr>\n",
              "      <th>625623</th>\n",
              "      <td>10/15/2020</td>\n",
              "      <td>Wyoming</td>\n",
              "      <td>56043</td>\n",
              "      <td>Washakie</td>\n",
              "      <td>0</td>\n",
              "      <td>0</td>\n",
              "    </tr>\n",
              "    <tr>\n",
              "      <th>625624</th>\n",
              "      <td>10/15/2020</td>\n",
              "      <td>Wyoming</td>\n",
              "      <td>56045</td>\n",
              "      <td>Weston</td>\n",
              "      <td>5</td>\n",
              "      <td>0</td>\n",
              "    </tr>\n",
              "  </tbody>\n",
              "</table>\n",
              "</div>"
            ],
            "text/plain": [
              "              date    state  county_code      county  daily_cases  \\\n",
              "625620  10/15/2020  Wyoming        56037  Sweetwater            4   \n",
              "625621  10/15/2020  Wyoming        56039       Teton            1   \n",
              "625622  10/15/2020  Wyoming        56041       Uinta            3   \n",
              "625623  10/15/2020  Wyoming        56043    Washakie            0   \n",
              "625624  10/15/2020  Wyoming        56045      Weston            5   \n",
              "\n",
              "        daily_deaths  \n",
              "625620             0  \n",
              "625621             0  \n",
              "625622             0  \n",
              "625623             0  \n",
              "625624             0  "
            ]
          },
          "execution_count": 34,
          "metadata": {},
          "output_type": "execute_result"
        }
      ],
      "source": [
        "# head\n",
        "covid.tail()"
      ]
    },
    {
      "cell_type": "code",
      "execution_count": 35,
      "metadata": {
        "id": "rHoqRpTwAx_2"
      },
      "outputs": [
        {
          "data": {
            "text/html": [
              "<div>\n",
              "<style scoped>\n",
              "    .dataframe tbody tr th:only-of-type {\n",
              "        vertical-align: middle;\n",
              "    }\n",
              "\n",
              "    .dataframe tbody tr th {\n",
              "        vertical-align: top;\n",
              "    }\n",
              "\n",
              "    .dataframe thead th {\n",
              "        text-align: right;\n",
              "    }\n",
              "</style>\n",
              "<table border=\"1\" class=\"dataframe\">\n",
              "  <thead>\n",
              "    <tr style=\"text-align: right;\">\n",
              "      <th></th>\n",
              "      <th>date</th>\n",
              "      <th>state</th>\n",
              "      <th>county_code</th>\n",
              "      <th>county</th>\n",
              "      <th>daily_cases</th>\n",
              "      <th>daily_deaths</th>\n",
              "    </tr>\n",
              "  </thead>\n",
              "  <tbody>\n",
              "    <tr>\n",
              "      <th>0</th>\n",
              "      <td>1/22/2020</td>\n",
              "      <td>Washington</td>\n",
              "      <td>53061</td>\n",
              "      <td>Snohomish</td>\n",
              "      <td>0</td>\n",
              "      <td>0</td>\n",
              "    </tr>\n",
              "    <tr>\n",
              "      <th>1</th>\n",
              "      <td>1/23/2020</td>\n",
              "      <td>Washington</td>\n",
              "      <td>53061</td>\n",
              "      <td>Snohomish</td>\n",
              "      <td>0</td>\n",
              "      <td>0</td>\n",
              "    </tr>\n",
              "    <tr>\n",
              "      <th>2</th>\n",
              "      <td>1/24/2020</td>\n",
              "      <td>Washington</td>\n",
              "      <td>53061</td>\n",
              "      <td>Snohomish</td>\n",
              "      <td>0</td>\n",
              "      <td>0</td>\n",
              "    </tr>\n",
              "    <tr>\n",
              "      <th>4</th>\n",
              "      <td>1/25/2020</td>\n",
              "      <td>Washington</td>\n",
              "      <td>53061</td>\n",
              "      <td>Snohomish</td>\n",
              "      <td>0</td>\n",
              "      <td>0</td>\n",
              "    </tr>\n",
              "    <tr>\n",
              "      <th>7</th>\n",
              "      <td>1/26/2020</td>\n",
              "      <td>Washington</td>\n",
              "      <td>53061</td>\n",
              "      <td>Snohomish</td>\n",
              "      <td>0</td>\n",
              "      <td>0</td>\n",
              "    </tr>\n",
              "    <tr>\n",
              "      <th>...</th>\n",
              "      <td>...</td>\n",
              "      <td>...</td>\n",
              "      <td>...</td>\n",
              "      <td>...</td>\n",
              "      <td>...</td>\n",
              "      <td>...</td>\n",
              "    </tr>\n",
              "    <tr>\n",
              "      <th>625470</th>\n",
              "      <td>10/15/2020</td>\n",
              "      <td>Washington</td>\n",
              "      <td>53069</td>\n",
              "      <td>Wahkiakum</td>\n",
              "      <td>1</td>\n",
              "      <td>0</td>\n",
              "    </tr>\n",
              "    <tr>\n",
              "      <th>625471</th>\n",
              "      <td>10/15/2020</td>\n",
              "      <td>Washington</td>\n",
              "      <td>53071</td>\n",
              "      <td>Walla Walla</td>\n",
              "      <td>5</td>\n",
              "      <td>0</td>\n",
              "    </tr>\n",
              "    <tr>\n",
              "      <th>625472</th>\n",
              "      <td>10/15/2020</td>\n",
              "      <td>Washington</td>\n",
              "      <td>53073</td>\n",
              "      <td>Whatcom</td>\n",
              "      <td>8</td>\n",
              "      <td>0</td>\n",
              "    </tr>\n",
              "    <tr>\n",
              "      <th>625473</th>\n",
              "      <td>10/15/2020</td>\n",
              "      <td>Washington</td>\n",
              "      <td>53075</td>\n",
              "      <td>Whitman</td>\n",
              "      <td>33</td>\n",
              "      <td>0</td>\n",
              "    </tr>\n",
              "    <tr>\n",
              "      <th>625474</th>\n",
              "      <td>10/15/2020</td>\n",
              "      <td>Washington</td>\n",
              "      <td>53077</td>\n",
              "      <td>Yakima</td>\n",
              "      <td>30</td>\n",
              "      <td>1</td>\n",
              "    </tr>\n",
              "  </tbody>\n",
              "</table>\n",
              "<p>8249 rows × 6 columns</p>\n",
              "</div>"
            ],
            "text/plain": [
              "              date       state  county_code       county  daily_cases  \\\n",
              "0        1/22/2020  Washington        53061    Snohomish            0   \n",
              "1        1/23/2020  Washington        53061    Snohomish            0   \n",
              "2        1/24/2020  Washington        53061    Snohomish            0   \n",
              "4        1/25/2020  Washington        53061    Snohomish            0   \n",
              "7        1/26/2020  Washington        53061    Snohomish            0   \n",
              "...            ...         ...          ...          ...          ...   \n",
              "625470  10/15/2020  Washington        53069    Wahkiakum            1   \n",
              "625471  10/15/2020  Washington        53071  Walla Walla            5   \n",
              "625472  10/15/2020  Washington        53073      Whatcom            8   \n",
              "625473  10/15/2020  Washington        53075      Whitman           33   \n",
              "625474  10/15/2020  Washington        53077       Yakima           30   \n",
              "\n",
              "        daily_deaths  \n",
              "0                  0  \n",
              "1                  0  \n",
              "2                  0  \n",
              "4                  0  \n",
              "7                  0  \n",
              "...              ...  \n",
              "625470             0  \n",
              "625471             0  \n",
              "625472             0  \n",
              "625473             0  \n",
              "625474             1  \n",
              "\n",
              "[8249 rows x 6 columns]"
            ]
          },
          "execution_count": 35,
          "metadata": {},
          "output_type": "execute_result"
        }
      ],
      "source": [
        "covid[covid['state'] == 'Washington']"
      ]
    },
    {
      "cell_type": "code",
      "execution_count": 36,
      "metadata": {
        "id": "CeTPf8wr-ozt"
      },
      "outputs": [
        {
          "data": {
            "text/html": [
              "<div>\n",
              "<style scoped>\n",
              "    .dataframe tbody tr th:only-of-type {\n",
              "        vertical-align: middle;\n",
              "    }\n",
              "\n",
              "    .dataframe tbody tr th {\n",
              "        vertical-align: top;\n",
              "    }\n",
              "\n",
              "    .dataframe thead th {\n",
              "        text-align: right;\n",
              "    }\n",
              "</style>\n",
              "<table border=\"1\" class=\"dataframe\">\n",
              "  <thead>\n",
              "    <tr style=\"text-align: right;\">\n",
              "      <th></th>\n",
              "      <th>county_code</th>\n",
              "      <th>daily_cases</th>\n",
              "      <th>daily_deaths</th>\n",
              "    </tr>\n",
              "  </thead>\n",
              "  <tbody>\n",
              "    <tr>\n",
              "      <th>count</th>\n",
              "      <td>625625.000000</td>\n",
              "      <td>625625.000000</td>\n",
              "      <td>625625.000000</td>\n",
              "    </tr>\n",
              "    <tr>\n",
              "      <th>mean</th>\n",
              "      <td>31175.358971</td>\n",
              "      <td>12.333928</td>\n",
              "      <td>0.307016</td>\n",
              "    </tr>\n",
              "    <tr>\n",
              "      <th>std</th>\n",
              "      <td>16267.627306</td>\n",
              "      <td>67.809433</td>\n",
              "      <td>2.486959</td>\n",
              "    </tr>\n",
              "    <tr>\n",
              "      <th>min</th>\n",
              "      <td>1001.000000</td>\n",
              "      <td>-2321.000000</td>\n",
              "      <td>-512.000000</td>\n",
              "    </tr>\n",
              "    <tr>\n",
              "      <th>25%</th>\n",
              "      <td>18169.000000</td>\n",
              "      <td>0.000000</td>\n",
              "      <td>0.000000</td>\n",
              "    </tr>\n",
              "    <tr>\n",
              "      <th>50%</th>\n",
              "      <td>29195.000000</td>\n",
              "      <td>1.000000</td>\n",
              "      <td>0.000000</td>\n",
              "    </tr>\n",
              "    <tr>\n",
              "      <th>75%</th>\n",
              "      <td>46091.000000</td>\n",
              "      <td>6.000000</td>\n",
              "      <td>0.000000</td>\n",
              "    </tr>\n",
              "    <tr>\n",
              "      <th>max</th>\n",
              "      <td>78030.000000</td>\n",
              "      <td>14129.000000</td>\n",
              "      <td>455.000000</td>\n",
              "    </tr>\n",
              "  </tbody>\n",
              "</table>\n",
              "</div>"
            ],
            "text/plain": [
              "         county_code    daily_cases   daily_deaths\n",
              "count  625625.000000  625625.000000  625625.000000\n",
              "mean    31175.358971      12.333928       0.307016\n",
              "std     16267.627306      67.809433       2.486959\n",
              "min      1001.000000   -2321.000000    -512.000000\n",
              "25%     18169.000000       0.000000       0.000000\n",
              "50%     29195.000000       1.000000       0.000000\n",
              "75%     46091.000000       6.000000       0.000000\n",
              "max     78030.000000   14129.000000     455.000000"
            ]
          },
          "execution_count": 36,
          "metadata": {},
          "output_type": "execute_result"
        }
      ],
      "source": [
        "# describe\n",
        "covid.describe()"
      ]
    },
    {
      "cell_type": "code",
      "execution_count": 37,
      "metadata": {
        "id": "_rjxQ1zK-rrU"
      },
      "outputs": [
        {
          "data": {
            "text/plain": [
              "date            object\n",
              "state           object\n",
              "county_code      int64\n",
              "county          object\n",
              "daily_cases      int64\n",
              "daily_deaths     int64\n",
              "dtype: object"
            ]
          },
          "execution_count": 37,
          "metadata": {},
          "output_type": "execute_result"
        }
      ],
      "source": [
        "# dtypes\n",
        "covid.dtypes"
      ]
    },
    {
      "cell_type": "code",
      "execution_count": 38,
      "metadata": {
        "id": "EQPojiU_-ubT"
      },
      "outputs": [
        {
          "data": {
            "text/plain": [
              "(625625, 6)"
            ]
          },
          "execution_count": 38,
          "metadata": {},
          "output_type": "execute_result"
        }
      ],
      "source": [
        "# shape\n",
        "covid.shape"
      ]
    },
    {
      "cell_type": "markdown",
      "metadata": {
        "id": "9XqzzOsW-xMW"
      },
      "source": [
        "OK, we can see a few things. We have six columns. Our shape tells us that we have over 600,000 rows. Our dtypes call indicates that our `date` column isn't currently a datetime. So if we're going to want to roll up by week then we'll need to convert that."
      ]
    },
    {
      "cell_type": "markdown",
      "metadata": {
        "id": "mWUoi-f7EtFC"
      },
      "source": [
        "## Transforming our data\n",
        "\n",
        "Time to get our transform going. We're going to do the following steps:\n",
        "\n",
        "* Make `date` a datetime\n",
        "* Aggregate our data by week and state and count up the number of cases/deaths\n",
        "* Make a unique key that's needed for our database"
      ]
    },
    {
      "cell_type": "markdown",
      "metadata": {
        "id": "-6RS9s0MJQlo"
      },
      "source": [
        "### Make our datetime\n",
        "\n",
        "You know how this is done. Just convert `date` in place."
      ]
    },
    {
      "cell_type": "code",
      "execution_count": 39,
      "metadata": {
        "id": "IKMJfy0s_H8h"
      },
      "outputs": [],
      "source": [
        "# Convert date to datetime\n",
        "covid['date'] = pd.to_datetime(covid['date'])"
      ]
    },
    {
      "cell_type": "code",
      "execution_count": 40,
      "metadata": {
        "id": "923OwRl2_f-n"
      },
      "outputs": [
        {
          "data": {
            "text/plain": [
              "Timestamp('2020-01-22 00:00:00')"
            ]
          },
          "execution_count": 40,
          "metadata": {},
          "output_type": "execute_result"
        }
      ],
      "source": [
        "# Can we call a method on it to make sure it returns a datetime?\n",
        "covid['date'].min()"
      ]
    },
    {
      "cell_type": "markdown",
      "metadata": {
        "id": "PEaobP9sJpZL"
      },
      "source": [
        "### Groupby and aggregate\n",
        "\n",
        "Time to groupby. We're going to group by two levels. The first is `state`, which is easy. The second is that we want to group by the calendar week. You could go and do something where you extract days and then have some rolling function that counts in groups of seven. But, pandas can actually group by calendar week if we use the `Grouper()` function!\n",
        "\n",
        "To use `pd.Grouper()` you give it two arguments. The first is the key, which in this case is the `date` column. The second is the frequency that you want to group. We want to group on weeks so we can just specify `freq = 'w'`. The `W` tells it to group by calendar week. You can even specify what day you want the week to start on by adding a dash and a day abbreviation. So `W-MON` will tell it to group by weeks where weeks start on Monday.\n",
        "\n",
        "For our `.agg()` we just want to sum up `daily_cases` and `daily_death` which will give us the weekly cases and deaths.\n",
        "\n",
        "OK, let's do it and call the resulting object `covid_grouped`."
      ]
    },
    {
      "cell_type": "code",
      "execution_count": 41,
      "metadata": {
        "id": "KWaBhwKo9upN"
      },
      "outputs": [
        {
          "name": "stderr",
          "output_type": "stream",
          "text": [
            "C:\\Users\\couga\\AppData\\Local\\Temp\\ipykernel_12040\\3734192050.py:2: FutureWarning: 'w' is deprecated and will be removed in a future version, please use 'W' instead.\n",
            "  covid_grouped_test = covid.groupby([covid['state'], pd.Grouper(key = 'date', freq='w')]).agg({'daily_cases': ['sum'], 'daily_deaths': ['sum']})\n"
          ]
        },
        {
          "data": {
            "text/html": [
              "<div>\n",
              "<style scoped>\n",
              "    .dataframe tbody tr th:only-of-type {\n",
              "        vertical-align: middle;\n",
              "    }\n",
              "\n",
              "    .dataframe tbody tr th {\n",
              "        vertical-align: top;\n",
              "    }\n",
              "\n",
              "    .dataframe thead tr th {\n",
              "        text-align: left;\n",
              "    }\n",
              "\n",
              "    .dataframe thead tr:last-of-type th {\n",
              "        text-align: right;\n",
              "    }\n",
              "</style>\n",
              "<table border=\"1\" class=\"dataframe\">\n",
              "  <thead>\n",
              "    <tr>\n",
              "      <th></th>\n",
              "      <th></th>\n",
              "      <th>daily_cases</th>\n",
              "      <th>daily_deaths</th>\n",
              "    </tr>\n",
              "    <tr>\n",
              "      <th></th>\n",
              "      <th></th>\n",
              "      <th>sum</th>\n",
              "      <th>sum</th>\n",
              "    </tr>\n",
              "    <tr>\n",
              "      <th>state</th>\n",
              "      <th>date</th>\n",
              "      <th></th>\n",
              "      <th></th>\n",
              "    </tr>\n",
              "  </thead>\n",
              "  <tbody>\n",
              "    <tr>\n",
              "      <th rowspan=\"10\" valign=\"top\">Alabama</th>\n",
              "      <th>2020-03-15</th>\n",
              "      <td>13</td>\n",
              "      <td>0</td>\n",
              "    </tr>\n",
              "    <tr>\n",
              "      <th>2020-03-22</th>\n",
              "      <td>121</td>\n",
              "      <td>0</td>\n",
              "    </tr>\n",
              "    <tr>\n",
              "      <th>2020-03-29</th>\n",
              "      <td>631</td>\n",
              "      <td>5</td>\n",
              "    </tr>\n",
              "    <tr>\n",
              "      <th>2020-04-05</th>\n",
              "      <td>995</td>\n",
              "      <td>40</td>\n",
              "    </tr>\n",
              "    <tr>\n",
              "      <th>2020-04-12</th>\n",
              "      <td>1740</td>\n",
              "      <td>48</td>\n",
              "    </tr>\n",
              "    <tr>\n",
              "      <th>2020-04-19</th>\n",
              "      <td>1320</td>\n",
              "      <td>67</td>\n",
              "    </tr>\n",
              "    <tr>\n",
              "      <th>2020-04-26</th>\n",
              "      <td>1518</td>\n",
              "      <td>59</td>\n",
              "    </tr>\n",
              "    <tr>\n",
              "      <th>2020-05-03</th>\n",
              "      <td>1467</td>\n",
              "      <td>71</td>\n",
              "    </tr>\n",
              "    <tr>\n",
              "      <th>2020-05-10</th>\n",
              "      <td>2001</td>\n",
              "      <td>103</td>\n",
              "    </tr>\n",
              "    <tr>\n",
              "      <th>2020-05-17</th>\n",
              "      <td>1882</td>\n",
              "      <td>95</td>\n",
              "    </tr>\n",
              "  </tbody>\n",
              "</table>\n",
              "</div>"
            ],
            "text/plain": [
              "                   daily_cases daily_deaths\n",
              "                           sum          sum\n",
              "state   date                               \n",
              "Alabama 2020-03-15          13            0\n",
              "        2020-03-22         121            0\n",
              "        2020-03-29         631            5\n",
              "        2020-04-05         995           40\n",
              "        2020-04-12        1740           48\n",
              "        2020-04-19        1320           67\n",
              "        2020-04-26        1518           59\n",
              "        2020-05-03        1467           71\n",
              "        2020-05-10        2001          103\n",
              "        2020-05-17        1882           95"
            ]
          },
          "execution_count": 41,
          "metadata": {},
          "output_type": "execute_result"
        }
      ],
      "source": [
        "# Test out using grouper. Play around with different freq abbreviations and observe the result\n",
        "covid_grouped_test = covid.groupby([covid['state'], pd.Grouper(key = 'date', freq='w')]).agg({'daily_cases': ['sum'], 'daily_deaths': ['sum']})\n",
        "covid_grouped_test.head(10)"
      ]
    },
    {
      "cell_type": "code",
      "execution_count": 42,
      "metadata": {
        "id": "qnd20-CPJlOh"
      },
      "outputs": [],
      "source": [
        "# Make covid_grouped for real\n",
        "covid_grouped = covid.groupby([covid['state'], pd.Grouper(key = 'date', freq = 'W-MON')]).agg({'daily_cases' : ['sum'], 'daily_deaths': ['sum']})"
      ]
    },
    {
      "cell_type": "code",
      "execution_count": 43,
      "metadata": {
        "id": "NV-_pXOqMaa3"
      },
      "outputs": [
        {
          "data": {
            "text/html": [
              "<div>\n",
              "<style scoped>\n",
              "    .dataframe tbody tr th:only-of-type {\n",
              "        vertical-align: middle;\n",
              "    }\n",
              "\n",
              "    .dataframe tbody tr th {\n",
              "        vertical-align: top;\n",
              "    }\n",
              "\n",
              "    .dataframe thead tr th {\n",
              "        text-align: left;\n",
              "    }\n",
              "\n",
              "    .dataframe thead tr:last-of-type th {\n",
              "        text-align: right;\n",
              "    }\n",
              "</style>\n",
              "<table border=\"1\" class=\"dataframe\">\n",
              "  <thead>\n",
              "    <tr>\n",
              "      <th></th>\n",
              "      <th></th>\n",
              "      <th>daily_cases</th>\n",
              "      <th>daily_deaths</th>\n",
              "    </tr>\n",
              "    <tr>\n",
              "      <th></th>\n",
              "      <th></th>\n",
              "      <th>sum</th>\n",
              "      <th>sum</th>\n",
              "    </tr>\n",
              "    <tr>\n",
              "      <th>state</th>\n",
              "      <th>date</th>\n",
              "      <th></th>\n",
              "      <th></th>\n",
              "    </tr>\n",
              "  </thead>\n",
              "  <tbody>\n",
              "    <tr>\n",
              "      <th rowspan=\"5\" valign=\"top\">Alabama</th>\n",
              "      <th>2020-03-16</th>\n",
              "      <td>19</td>\n",
              "      <td>0</td>\n",
              "    </tr>\n",
              "    <tr>\n",
              "      <th>2020-03-23</th>\n",
              "      <td>151</td>\n",
              "      <td>0</td>\n",
              "    </tr>\n",
              "    <tr>\n",
              "      <th>2020-03-30</th>\n",
              "      <td>707</td>\n",
              "      <td>11</td>\n",
              "    </tr>\n",
              "    <tr>\n",
              "      <th>2020-04-06</th>\n",
              "      <td>1048</td>\n",
              "      <td>42</td>\n",
              "    </tr>\n",
              "    <tr>\n",
              "      <th>2020-04-13</th>\n",
              "      <td>1797</td>\n",
              "      <td>51</td>\n",
              "    </tr>\n",
              "  </tbody>\n",
              "</table>\n",
              "</div>"
            ],
            "text/plain": [
              "                   daily_cases daily_deaths\n",
              "                           sum          sum\n",
              "state   date                               \n",
              "Alabama 2020-03-16          19            0\n",
              "        2020-03-23         151            0\n",
              "        2020-03-30         707           11\n",
              "        2020-04-06        1048           42\n",
              "        2020-04-13        1797           51"
            ]
          },
          "execution_count": 43,
          "metadata": {},
          "output_type": "execute_result"
        }
      ],
      "source": [
        "# Check the head of covid_grouped\n",
        "covid_grouped.head()"
      ]
    },
    {
      "cell_type": "markdown",
      "metadata": {
        "id": "0eWIENbDMd5X"
      },
      "source": [
        "Right now see how the state and date columns are in bold. That means they got assigned as indexes and not columns. Let's reset the index to bring them back as columns. We want them as columns for date manipulation and key generation later."
      ]
    },
    {
      "cell_type": "code",
      "execution_count": 44,
      "metadata": {
        "id": "oNci2u8I_mMB"
      },
      "outputs": [
        {
          "data": {
            "text/html": [
              "<div>\n",
              "<style scoped>\n",
              "    .dataframe tbody tr th:only-of-type {\n",
              "        vertical-align: middle;\n",
              "    }\n",
              "\n",
              "    .dataframe tbody tr th {\n",
              "        vertical-align: top;\n",
              "    }\n",
              "\n",
              "    .dataframe thead tr th {\n",
              "        text-align: left;\n",
              "    }\n",
              "</style>\n",
              "<table border=\"1\" class=\"dataframe\">\n",
              "  <thead>\n",
              "    <tr>\n",
              "      <th></th>\n",
              "      <th>state</th>\n",
              "      <th>date</th>\n",
              "      <th>daily_cases</th>\n",
              "      <th>daily_deaths</th>\n",
              "    </tr>\n",
              "    <tr>\n",
              "      <th></th>\n",
              "      <th></th>\n",
              "      <th></th>\n",
              "      <th>sum</th>\n",
              "      <th>sum</th>\n",
              "    </tr>\n",
              "  </thead>\n",
              "  <tbody>\n",
              "    <tr>\n",
              "      <th>0</th>\n",
              "      <td>Alabama</td>\n",
              "      <td>2020-03-16</td>\n",
              "      <td>19</td>\n",
              "      <td>0</td>\n",
              "    </tr>\n",
              "    <tr>\n",
              "      <th>1</th>\n",
              "      <td>Alabama</td>\n",
              "      <td>2020-03-23</td>\n",
              "      <td>151</td>\n",
              "      <td>0</td>\n",
              "    </tr>\n",
              "    <tr>\n",
              "      <th>2</th>\n",
              "      <td>Alabama</td>\n",
              "      <td>2020-03-30</td>\n",
              "      <td>707</td>\n",
              "      <td>11</td>\n",
              "    </tr>\n",
              "    <tr>\n",
              "      <th>3</th>\n",
              "      <td>Alabama</td>\n",
              "      <td>2020-04-06</td>\n",
              "      <td>1048</td>\n",
              "      <td>42</td>\n",
              "    </tr>\n",
              "    <tr>\n",
              "      <th>4</th>\n",
              "      <td>Alabama</td>\n",
              "      <td>2020-04-13</td>\n",
              "      <td>1797</td>\n",
              "      <td>51</td>\n",
              "    </tr>\n",
              "  </tbody>\n",
              "</table>\n",
              "</div>"
            ],
            "text/plain": [
              "     state       date daily_cases daily_deaths\n",
              "                              sum          sum\n",
              "0  Alabama 2020-03-16          19            0\n",
              "1  Alabama 2020-03-23         151            0\n",
              "2  Alabama 2020-03-30         707           11\n",
              "3  Alabama 2020-04-06        1048           42\n",
              "4  Alabama 2020-04-13        1797           51"
            ]
          },
          "execution_count": 44,
          "metadata": {},
          "output_type": "execute_result"
        }
      ],
      "source": [
        "# Reset index and check head\n",
        "covid_grouped = covid_grouped.reset_index()\n",
        "covid_grouped.head()"
      ]
    },
    {
      "cell_type": "markdown",
      "metadata": {
        "id": "9ihyh0dvM3_7"
      },
      "source": [
        "Let's also rename our columns. We'll leave the first two as 'state' and 'date', but change the last two to 'weekly_cases' and 'weekly_deaths'"
      ]
    },
    {
      "cell_type": "code",
      "execution_count": 45,
      "metadata": {
        "id": "p0Nn8IkUG3oV"
      },
      "outputs": [
        {
          "data": {
            "text/html": [
              "<div>\n",
              "<style scoped>\n",
              "    .dataframe tbody tr th:only-of-type {\n",
              "        vertical-align: middle;\n",
              "    }\n",
              "\n",
              "    .dataframe tbody tr th {\n",
              "        vertical-align: top;\n",
              "    }\n",
              "\n",
              "    .dataframe thead th {\n",
              "        text-align: right;\n",
              "    }\n",
              "</style>\n",
              "<table border=\"1\" class=\"dataframe\">\n",
              "  <thead>\n",
              "    <tr style=\"text-align: right;\">\n",
              "      <th></th>\n",
              "      <th>state</th>\n",
              "      <th>date</th>\n",
              "      <th>weekly_cases</th>\n",
              "      <th>weekly_deaths</th>\n",
              "    </tr>\n",
              "  </thead>\n",
              "  <tbody>\n",
              "    <tr>\n",
              "      <th>0</th>\n",
              "      <td>Alabama</td>\n",
              "      <td>2020-03-16</td>\n",
              "      <td>19</td>\n",
              "      <td>0</td>\n",
              "    </tr>\n",
              "    <tr>\n",
              "      <th>1</th>\n",
              "      <td>Alabama</td>\n",
              "      <td>2020-03-23</td>\n",
              "      <td>151</td>\n",
              "      <td>0</td>\n",
              "    </tr>\n",
              "    <tr>\n",
              "      <th>2</th>\n",
              "      <td>Alabama</td>\n",
              "      <td>2020-03-30</td>\n",
              "      <td>707</td>\n",
              "      <td>11</td>\n",
              "    </tr>\n",
              "    <tr>\n",
              "      <th>3</th>\n",
              "      <td>Alabama</td>\n",
              "      <td>2020-04-06</td>\n",
              "      <td>1048</td>\n",
              "      <td>42</td>\n",
              "    </tr>\n",
              "    <tr>\n",
              "      <th>4</th>\n",
              "      <td>Alabama</td>\n",
              "      <td>2020-04-13</td>\n",
              "      <td>1797</td>\n",
              "      <td>51</td>\n",
              "    </tr>\n",
              "  </tbody>\n",
              "</table>\n",
              "</div>"
            ],
            "text/plain": [
              "     state       date  weekly_cases  weekly_deaths\n",
              "0  Alabama 2020-03-16            19              0\n",
              "1  Alabama 2020-03-23           151              0\n",
              "2  Alabama 2020-03-30           707             11\n",
              "3  Alabama 2020-04-06          1048             42\n",
              "4  Alabama 2020-04-13          1797             51"
            ]
          },
          "execution_count": 45,
          "metadata": {},
          "output_type": "execute_result"
        }
      ],
      "source": [
        "# rename to 'state', 'date', 'weekly_cases', 'weekly_deaths'\n",
        "covid_grouped.columns = ['state', 'date', 'weekly_cases', 'weekly_deaths']\n",
        "covid_grouped.head()"
      ]
    },
    {
      "cell_type": "markdown",
      "metadata": {
        "id": "inCqyvFDNFvY"
      },
      "source": [
        "### A quick validation of our data\n",
        "\n",
        "Let's take a minute and make sure our data makes sense. We'll extract out data from just Arizona and then do a quick barplot of the number of weekly cases in AZ."
      ]
    },
    {
      "cell_type": "code",
      "execution_count": 46,
      "metadata": {
        "id": "QsfR5M_wGoDg"
      },
      "outputs": [],
      "source": [
        "# Extract just AZ observations\n",
        "az_data = covid_grouped[covid_grouped['state'] == 'Arizona']"
      ]
    },
    {
      "cell_type": "code",
      "execution_count": 47,
      "metadata": {
        "id": "ZcmpP2BpGvdh"
      },
      "outputs": [
        {
          "data": {
            "text/plain": [
              "<Axes: xlabel='date', ylabel='weekly_cases'>"
            ]
          },
          "execution_count": 47,
          "metadata": {},
          "output_type": "execute_result"
        },
        {
          "data": {
            "image/png": "[encoded data removed]",
            "text/plain": [
              "<Figure size 640x480 with 1 Axes>"
            ]
          },
          "metadata": {},
          "output_type": "display_data"
        }
      ],
      "source": [
        "# Make barplot using seaborn\n",
        "# The x-axis is a mess but data look right based on what we know about Covid in AZ\n",
        "import seaborn as sns\n",
        "sns.barplot(x = 'date', y = 'weekly_cases', data = az_data)"
      ]
    },
    {
      "cell_type": "markdown",
      "metadata": {
        "id": "Ct9XQL2yYOIL"
      },
      "source": [
        "## Transforms - Making a key\n",
        "\n",
        "OK, our `covid_grouped` dataframe is now rolled up into a format that we want. But since we're going to push to a database we need to also make a key. A **primary key** is a unique identifying value for a row of the table. Such a key must not be duplicated in any of the rows (it wouldn't be unique if it was!).\n",
        "\n",
        "So, we need to make a key. What should we use? There isn't a firm rule here, but ideally you want something that is easy to generate. We could imagine making a table of a bunch of random values and selecting from that. The only issue is that if we want to add more data, every time you do you'd need to make sure the key you're giving a row hasn't already been used. You could also imagine making the ID just from a squence, but again if you update you need to know where the sequence ends.\n",
        "\n",
        "Instead of either of those two options we can do something simpler. Let's just take the date in YYYYMMDD format and then add on a code for the state. Any updates obviously won't duplicate dates. Adding on the state code ensures that each date is then unique as no states will have the same state code.\n",
        "\n",
        "To make the key we'll do the following steps:\n",
        "* Make a column called `week_start` that takes the date the grouped week began on and converts it back into a string.\n",
        "* We'll remove the dashes from the current YYYY-MM-DD format\n",
        "* Make numeric values for each state in the dataset\n",
        "* Add those state numeric values back to the date string"
      ]
    },
    {
      "cell_type": "markdown",
      "metadata": {
        "id": "QuH97sTHagl-"
      },
      "source": [
        "### Making our date string\n",
        "\n",
        "First we'll use our basic wrangling skills to take our date column and convert it back to a string with `.astype(str)`. We'll call the new column 'week_start'."
      ]
    },
    {
      "cell_type": "code",
      "execution_count": 48,
      "metadata": {
        "id": "1AQYUOnrIWMY"
      },
      "outputs": [
        {
          "data": {
            "text/plain": [
              "state                    object\n",
              "date             datetime64[ns]\n",
              "weekly_cases              int64\n",
              "weekly_deaths             int64\n",
              "week_start               object\n",
              "dtype: object"
            ]
          },
          "execution_count": 48,
          "metadata": {},
          "output_type": "execute_result"
        }
      ],
      "source": [
        "# Convert to string and check\n",
        "covid_grouped['week_start'] = covid_grouped['date'].astype(str)\n",
        "covid_grouped.dtypes # can see that week_start is an object"
      ]
    },
    {
      "cell_type": "markdown",
      "metadata": {
        "id": "CXNl5FLta3AS"
      },
      "source": [
        "Removing symbols from strings is really common. Luckily it's also quite easy here and we don't need regular expression. `.replace()` allows you to just specify what symbol you want it to remove first, in this case the \"-\", and then what you want to replace it with, in this case nothing.\n",
        "\n",
        "Let's do this operation on 'week_start'."
      ]
    },
    {
      "cell_type": "code",
      "execution_count": 49,
      "metadata": {
        "id": "cX4q1iTfw1wn"
      },
      "outputs": [
        {
          "data": {
            "text/html": [
              "<div>\n",
              "<style scoped>\n",
              "    .dataframe tbody tr th:only-of-type {\n",
              "        vertical-align: middle;\n",
              "    }\n",
              "\n",
              "    .dataframe tbody tr th {\n",
              "        vertical-align: top;\n",
              "    }\n",
              "\n",
              "    .dataframe thead th {\n",
              "        text-align: right;\n",
              "    }\n",
              "</style>\n",
              "<table border=\"1\" class=\"dataframe\">\n",
              "  <thead>\n",
              "    <tr style=\"text-align: right;\">\n",
              "      <th></th>\n",
              "      <th>state</th>\n",
              "      <th>date</th>\n",
              "      <th>weekly_cases</th>\n",
              "      <th>weekly_deaths</th>\n",
              "      <th>week_start</th>\n",
              "    </tr>\n",
              "  </thead>\n",
              "  <tbody>\n",
              "    <tr>\n",
              "      <th>0</th>\n",
              "      <td>Alabama</td>\n",
              "      <td>2020-03-16</td>\n",
              "      <td>19</td>\n",
              "      <td>0</td>\n",
              "      <td>2020-03-16</td>\n",
              "    </tr>\n",
              "    <tr>\n",
              "      <th>1</th>\n",
              "      <td>Alabama</td>\n",
              "      <td>2020-03-23</td>\n",
              "      <td>151</td>\n",
              "      <td>0</td>\n",
              "      <td>2020-03-23</td>\n",
              "    </tr>\n",
              "    <tr>\n",
              "      <th>2</th>\n",
              "      <td>Alabama</td>\n",
              "      <td>2020-03-30</td>\n",
              "      <td>707</td>\n",
              "      <td>11</td>\n",
              "      <td>2020-03-30</td>\n",
              "    </tr>\n",
              "    <tr>\n",
              "      <th>3</th>\n",
              "      <td>Alabama</td>\n",
              "      <td>2020-04-06</td>\n",
              "      <td>1048</td>\n",
              "      <td>42</td>\n",
              "      <td>2020-04-06</td>\n",
              "    </tr>\n",
              "    <tr>\n",
              "      <th>4</th>\n",
              "      <td>Alabama</td>\n",
              "      <td>2020-04-13</td>\n",
              "      <td>1797</td>\n",
              "      <td>51</td>\n",
              "      <td>2020-04-13</td>\n",
              "    </tr>\n",
              "  </tbody>\n",
              "</table>\n",
              "</div>"
            ],
            "text/plain": [
              "     state       date  weekly_cases  weekly_deaths  week_start\n",
              "0  Alabama 2020-03-16            19              0  2020-03-16\n",
              "1  Alabama 2020-03-23           151              0  2020-03-23\n",
              "2  Alabama 2020-03-30           707             11  2020-03-30\n",
              "3  Alabama 2020-04-06          1048             42  2020-04-06\n",
              "4  Alabama 2020-04-13          1797             51  2020-04-13"
            ]
          },
          "execution_count": 49,
          "metadata": {},
          "output_type": "execute_result"
        }
      ],
      "source": [
        "covid_grouped.head()"
      ]
    },
    {
      "cell_type": "code",
      "execution_count": 50,
      "metadata": {
        "id": "viFlaqTeIhjZ"
      },
      "outputs": [
        {
          "data": {
            "text/html": [
              "<div>\n",
              "<style scoped>\n",
              "    .dataframe tbody tr th:only-of-type {\n",
              "        vertical-align: middle;\n",
              "    }\n",
              "\n",
              "    .dataframe tbody tr th {\n",
              "        vertical-align: top;\n",
              "    }\n",
              "\n",
              "    .dataframe thead th {\n",
              "        text-align: right;\n",
              "    }\n",
              "</style>\n",
              "<table border=\"1\" class=\"dataframe\">\n",
              "  <thead>\n",
              "    <tr style=\"text-align: right;\">\n",
              "      <th></th>\n",
              "      <th>state</th>\n",
              "      <th>date</th>\n",
              "      <th>weekly_cases</th>\n",
              "      <th>weekly_deaths</th>\n",
              "      <th>week_start</th>\n",
              "    </tr>\n",
              "  </thead>\n",
              "  <tbody>\n",
              "    <tr>\n",
              "      <th>0</th>\n",
              "      <td>Alabama</td>\n",
              "      <td>2020-03-16</td>\n",
              "      <td>19</td>\n",
              "      <td>0</td>\n",
              "      <td>20200316</td>\n",
              "    </tr>\n",
              "    <tr>\n",
              "      <th>1</th>\n",
              "      <td>Alabama</td>\n",
              "      <td>2020-03-23</td>\n",
              "      <td>151</td>\n",
              "      <td>0</td>\n",
              "      <td>20200323</td>\n",
              "    </tr>\n",
              "    <tr>\n",
              "      <th>2</th>\n",
              "      <td>Alabama</td>\n",
              "      <td>2020-03-30</td>\n",
              "      <td>707</td>\n",
              "      <td>11</td>\n",
              "      <td>20200330</td>\n",
              "    </tr>\n",
              "    <tr>\n",
              "      <th>3</th>\n",
              "      <td>Alabama</td>\n",
              "      <td>2020-04-06</td>\n",
              "      <td>1048</td>\n",
              "      <td>42</td>\n",
              "      <td>20200406</td>\n",
              "    </tr>\n",
              "    <tr>\n",
              "      <th>4</th>\n",
              "      <td>Alabama</td>\n",
              "      <td>2020-04-13</td>\n",
              "      <td>1797</td>\n",
              "      <td>51</td>\n",
              "      <td>20200413</td>\n",
              "    </tr>\n",
              "  </tbody>\n",
              "</table>\n",
              "</div>"
            ],
            "text/plain": [
              "     state       date  weekly_cases  weekly_deaths week_start\n",
              "0  Alabama 2020-03-16            19              0   20200316\n",
              "1  Alabama 2020-03-23           151              0   20200323\n",
              "2  Alabama 2020-03-30           707             11   20200330\n",
              "3  Alabama 2020-04-06          1048             42   20200406\n",
              "4  Alabama 2020-04-13          1797             51   20200413"
            ]
          },
          "execution_count": 50,
          "metadata": {},
          "output_type": "execute_result"
        }
      ],
      "source": [
        "# Remove dash from week start\n",
        "covid_grouped['week_start'] = covid_grouped['week_start'].str.replace('-', '')\n",
        "covid_grouped.head()"
      ]
    },
    {
      "cell_type": "markdown",
      "metadata": {
        "id": "3alOQBFKbTkX"
      },
      "source": [
        "### Making our state names into numeric factors\n",
        "\n",
        "We want to assign each unique level in the 'state' column it's own numeric ID value. Pandas has a function called `factorize()` that does just that. As an argument you feed it a column that has multiple unique characters, and it'll return a unique numeric value for each. Here's an example on some test data\n",
        "\n",
        "```\n",
        ">>> states = ['washington', 'washington', 'arizona', 'california']\n",
        ">>> pd.factorize(states)\n",
        "(array([0, 0, 1, 2]),\n",
        " array(['washington', 'arizona', 'california'], dtype=object))\n",
        "```\n",
        "You can see that `pd.factorize()` took 'states` and gave the unique values a corresponding numeric value starting with zero. Test it out below if you want.\n"
      ]
    },
    {
      "cell_type": "code",
      "execution_count": 51,
      "metadata": {
        "id": "kXr2Tjnlb04f"
      },
      "outputs": [
        {
          "name": "stderr",
          "output_type": "stream",
          "text": [
            "C:\\Users\\couga\\AppData\\Local\\Temp\\ipykernel_12040\\500593961.py:3: FutureWarning: factorize with argument that is not not a Series, Index, ExtensionArray, or np.ndarray is deprecated and will raise in a future version.\n",
            "  pd.factorize(states)\n"
          ]
        },
        {
          "data": {
            "text/plain": [
              "(array([0, 0, 1, 2]),\n",
              " array(['washington', 'arizona', 'california'], dtype=object))"
            ]
          },
          "execution_count": 51,
          "metadata": {},
          "output_type": "execute_result"
        }
      ],
      "source": [
        "# If you want to test it out\n",
        "states = ['washington', 'washington', 'arizona', 'california']\n",
        "pd.factorize(states)"
      ]
    },
    {
      "cell_type": "markdown",
      "metadata": {
        "id": "D6pAqcRhcjmn"
      },
      "source": [
        "Let's apply factorize to create a new column called 'state_id'. Note how above `factorize()` returned two arrays. The first had the ID, the second the original level. We'll need to call just that first array with `[0]` as that's all we want in the new column.\n",
        "\n",
        "I'm also going to convert the numeric straight to a string using `.astype(str)` again. This will save us a step when we add the `state_id` string to the `week_start` string."
      ]
    },
    {
      "cell_type": "code",
      "execution_count": 52,
      "metadata": {
        "id": "ZH9eQtOrcjOe"
      },
      "outputs": [
        {
          "data": {
            "text/html": [
              "<div>\n",
              "<style scoped>\n",
              "    .dataframe tbody tr th:only-of-type {\n",
              "        vertical-align: middle;\n",
              "    }\n",
              "\n",
              "    .dataframe tbody tr th {\n",
              "        vertical-align: top;\n",
              "    }\n",
              "\n",
              "    .dataframe thead th {\n",
              "        text-align: right;\n",
              "    }\n",
              "</style>\n",
              "<table border=\"1\" class=\"dataframe\">\n",
              "  <thead>\n",
              "    <tr style=\"text-align: right;\">\n",
              "      <th></th>\n",
              "      <th>state</th>\n",
              "      <th>date</th>\n",
              "      <th>weekly_cases</th>\n",
              "      <th>weekly_deaths</th>\n",
              "      <th>week_start</th>\n",
              "      <th>state_id</th>\n",
              "    </tr>\n",
              "  </thead>\n",
              "  <tbody>\n",
              "    <tr>\n",
              "      <th>0</th>\n",
              "      <td>Alabama</td>\n",
              "      <td>2020-03-16</td>\n",
              "      <td>19</td>\n",
              "      <td>0</td>\n",
              "      <td>20200316</td>\n",
              "      <td>0</td>\n",
              "    </tr>\n",
              "    <tr>\n",
              "      <th>1</th>\n",
              "      <td>Alabama</td>\n",
              "      <td>2020-03-23</td>\n",
              "      <td>151</td>\n",
              "      <td>0</td>\n",
              "      <td>20200323</td>\n",
              "      <td>0</td>\n",
              "    </tr>\n",
              "    <tr>\n",
              "      <th>2</th>\n",
              "      <td>Alabama</td>\n",
              "      <td>2020-03-30</td>\n",
              "      <td>707</td>\n",
              "      <td>11</td>\n",
              "      <td>20200330</td>\n",
              "      <td>0</td>\n",
              "    </tr>\n",
              "    <tr>\n",
              "      <th>3</th>\n",
              "      <td>Alabama</td>\n",
              "      <td>2020-04-06</td>\n",
              "      <td>1048</td>\n",
              "      <td>42</td>\n",
              "      <td>20200406</td>\n",
              "      <td>0</td>\n",
              "    </tr>\n",
              "    <tr>\n",
              "      <th>4</th>\n",
              "      <td>Alabama</td>\n",
              "      <td>2020-04-13</td>\n",
              "      <td>1797</td>\n",
              "      <td>51</td>\n",
              "      <td>20200413</td>\n",
              "      <td>0</td>\n",
              "    </tr>\n",
              "    <tr>\n",
              "      <th>...</th>\n",
              "      <td>...</td>\n",
              "      <td>...</td>\n",
              "      <td>...</td>\n",
              "      <td>...</td>\n",
              "      <td>...</td>\n",
              "      <td>...</td>\n",
              "    </tr>\n",
              "    <tr>\n",
              "      <th>1765</th>\n",
              "      <td>Wyoming</td>\n",
              "      <td>2020-09-21</td>\n",
              "      <td>552</td>\n",
              "      <td>3</td>\n",
              "      <td>20200921</td>\n",
              "      <td>53</td>\n",
              "    </tr>\n",
              "    <tr>\n",
              "      <th>1766</th>\n",
              "      <td>Wyoming</td>\n",
              "      <td>2020-09-28</td>\n",
              "      <td>810</td>\n",
              "      <td>1</td>\n",
              "      <td>20200928</td>\n",
              "      <td>53</td>\n",
              "    </tr>\n",
              "    <tr>\n",
              "      <th>1767</th>\n",
              "      <td>Wyoming</td>\n",
              "      <td>2020-10-05</td>\n",
              "      <td>875</td>\n",
              "      <td>3</td>\n",
              "      <td>20201005</td>\n",
              "      <td>53</td>\n",
              "    </tr>\n",
              "    <tr>\n",
              "      <th>1768</th>\n",
              "      <td>Wyoming</td>\n",
              "      <td>2020-10-12</td>\n",
              "      <td>1173</td>\n",
              "      <td>1</td>\n",
              "      <td>20201012</td>\n",
              "      <td>53</td>\n",
              "    </tr>\n",
              "    <tr>\n",
              "      <th>1769</th>\n",
              "      <td>Wyoming</td>\n",
              "      <td>2020-10-19</td>\n",
              "      <td>573</td>\n",
              "      <td>3</td>\n",
              "      <td>20201019</td>\n",
              "      <td>53</td>\n",
              "    </tr>\n",
              "  </tbody>\n",
              "</table>\n",
              "<p>1770 rows × 6 columns</p>\n",
              "</div>"
            ],
            "text/plain": [
              "        state       date  weekly_cases  weekly_deaths week_start state_id\n",
              "0     Alabama 2020-03-16            19              0   20200316        0\n",
              "1     Alabama 2020-03-23           151              0   20200323        0\n",
              "2     Alabama 2020-03-30           707             11   20200330        0\n",
              "3     Alabama 2020-04-06          1048             42   20200406        0\n",
              "4     Alabama 2020-04-13          1797             51   20200413        0\n",
              "...       ...        ...           ...            ...        ...      ...\n",
              "1765  Wyoming 2020-09-21           552              3   20200921       53\n",
              "1766  Wyoming 2020-09-28           810              1   20200928       53\n",
              "1767  Wyoming 2020-10-05           875              3   20201005       53\n",
              "1768  Wyoming 2020-10-12          1173              1   20201012       53\n",
              "1769  Wyoming 2020-10-19           573              3   20201019       53\n",
              "\n",
              "[1770 rows x 6 columns]"
            ]
          },
          "execution_count": 52,
          "metadata": {},
          "output_type": "execute_result"
        }
      ],
      "source": [
        "covid_grouped['state_id'] = pd.factorize(covid_grouped['state'])[0].astype(str)\n",
        "covid_grouped # check it"
      ]
    },
    {
      "cell_type": "markdown",
      "metadata": {
        "id": "As7ZiyGweXmt"
      },
      "source": [
        "Great. We can see we have our 'state_id' column now. Let's join that to the front of 'week_start' so this way our key format is IDYYYYMMDD where ID at the start of the string is the state ID.\n",
        "\n",
        "If you want to merge two strings in different columns you can literally just add them together. So let's add the 'state_id' column to the 'week_start' column. Let's create a new column called 'wk_st_id' for \"week state id.\""
      ]
    },
    {
      "cell_type": "code",
      "execution_count": 53,
      "metadata": {
        "id": "ZIz1ENUlPQOA"
      },
      "outputs": [
        {
          "data": {
            "text/html": [
              "<div>\n",
              "<style scoped>\n",
              "    .dataframe tbody tr th:only-of-type {\n",
              "        vertical-align: middle;\n",
              "    }\n",
              "\n",
              "    .dataframe tbody tr th {\n",
              "        vertical-align: top;\n",
              "    }\n",
              "\n",
              "    .dataframe thead th {\n",
              "        text-align: right;\n",
              "    }\n",
              "</style>\n",
              "<table border=\"1\" class=\"dataframe\">\n",
              "  <thead>\n",
              "    <tr style=\"text-align: right;\">\n",
              "      <th></th>\n",
              "      <th>state</th>\n",
              "      <th>date</th>\n",
              "      <th>weekly_cases</th>\n",
              "      <th>weekly_deaths</th>\n",
              "      <th>week_start</th>\n",
              "      <th>state_id</th>\n",
              "      <th>wk_st_id</th>\n",
              "    </tr>\n",
              "  </thead>\n",
              "  <tbody>\n",
              "    <tr>\n",
              "      <th>0</th>\n",
              "      <td>Alabama</td>\n",
              "      <td>2020-03-16</td>\n",
              "      <td>19</td>\n",
              "      <td>0</td>\n",
              "      <td>20200316</td>\n",
              "      <td>0</td>\n",
              "      <td>020200316</td>\n",
              "    </tr>\n",
              "    <tr>\n",
              "      <th>1</th>\n",
              "      <td>Alabama</td>\n",
              "      <td>2020-03-23</td>\n",
              "      <td>151</td>\n",
              "      <td>0</td>\n",
              "      <td>20200323</td>\n",
              "      <td>0</td>\n",
              "      <td>020200323</td>\n",
              "    </tr>\n",
              "    <tr>\n",
              "      <th>2</th>\n",
              "      <td>Alabama</td>\n",
              "      <td>2020-03-30</td>\n",
              "      <td>707</td>\n",
              "      <td>11</td>\n",
              "      <td>20200330</td>\n",
              "      <td>0</td>\n",
              "      <td>020200330</td>\n",
              "    </tr>\n",
              "    <tr>\n",
              "      <th>3</th>\n",
              "      <td>Alabama</td>\n",
              "      <td>2020-04-06</td>\n",
              "      <td>1048</td>\n",
              "      <td>42</td>\n",
              "      <td>20200406</td>\n",
              "      <td>0</td>\n",
              "      <td>020200406</td>\n",
              "    </tr>\n",
              "    <tr>\n",
              "      <th>4</th>\n",
              "      <td>Alabama</td>\n",
              "      <td>2020-04-13</td>\n",
              "      <td>1797</td>\n",
              "      <td>51</td>\n",
              "      <td>20200413</td>\n",
              "      <td>0</td>\n",
              "      <td>020200413</td>\n",
              "    </tr>\n",
              "    <tr>\n",
              "      <th>...</th>\n",
              "      <td>...</td>\n",
              "      <td>...</td>\n",
              "      <td>...</td>\n",
              "      <td>...</td>\n",
              "      <td>...</td>\n",
              "      <td>...</td>\n",
              "      <td>...</td>\n",
              "    </tr>\n",
              "    <tr>\n",
              "      <th>1765</th>\n",
              "      <td>Wyoming</td>\n",
              "      <td>2020-09-21</td>\n",
              "      <td>552</td>\n",
              "      <td>3</td>\n",
              "      <td>20200921</td>\n",
              "      <td>53</td>\n",
              "      <td>5320200921</td>\n",
              "    </tr>\n",
              "    <tr>\n",
              "      <th>1766</th>\n",
              "      <td>Wyoming</td>\n",
              "      <td>2020-09-28</td>\n",
              "      <td>810</td>\n",
              "      <td>1</td>\n",
              "      <td>20200928</td>\n",
              "      <td>53</td>\n",
              "      <td>5320200928</td>\n",
              "    </tr>\n",
              "    <tr>\n",
              "      <th>1767</th>\n",
              "      <td>Wyoming</td>\n",
              "      <td>2020-10-05</td>\n",
              "      <td>875</td>\n",
              "      <td>3</td>\n",
              "      <td>20201005</td>\n",
              "      <td>53</td>\n",
              "      <td>5320201005</td>\n",
              "    </tr>\n",
              "    <tr>\n",
              "      <th>1768</th>\n",
              "      <td>Wyoming</td>\n",
              "      <td>2020-10-12</td>\n",
              "      <td>1173</td>\n",
              "      <td>1</td>\n",
              "      <td>20201012</td>\n",
              "      <td>53</td>\n",
              "      <td>5320201012</td>\n",
              "    </tr>\n",
              "    <tr>\n",
              "      <th>1769</th>\n",
              "      <td>Wyoming</td>\n",
              "      <td>2020-10-19</td>\n",
              "      <td>573</td>\n",
              "      <td>3</td>\n",
              "      <td>20201019</td>\n",
              "      <td>53</td>\n",
              "      <td>5320201019</td>\n",
              "    </tr>\n",
              "  </tbody>\n",
              "</table>\n",
              "<p>1770 rows × 7 columns</p>\n",
              "</div>"
            ],
            "text/plain": [
              "        state       date  weekly_cases  weekly_deaths week_start state_id  \\\n",
              "0     Alabama 2020-03-16            19              0   20200316        0   \n",
              "1     Alabama 2020-03-23           151              0   20200323        0   \n",
              "2     Alabama 2020-03-30           707             11   20200330        0   \n",
              "3     Alabama 2020-04-06          1048             42   20200406        0   \n",
              "4     Alabama 2020-04-13          1797             51   20200413        0   \n",
              "...       ...        ...           ...            ...        ...      ...   \n",
              "1765  Wyoming 2020-09-21           552              3   20200921       53   \n",
              "1766  Wyoming 2020-09-28           810              1   20200928       53   \n",
              "1767  Wyoming 2020-10-05           875              3   20201005       53   \n",
              "1768  Wyoming 2020-10-12          1173              1   20201012       53   \n",
              "1769  Wyoming 2020-10-19           573              3   20201019       53   \n",
              "\n",
              "        wk_st_id  \n",
              "0      020200316  \n",
              "1      020200323  \n",
              "2      020200330  \n",
              "3      020200406  \n",
              "4      020200413  \n",
              "...          ...  \n",
              "1765  5320200921  \n",
              "1766  5320200928  \n",
              "1767  5320201005  \n",
              "1768  5320201012  \n",
              "1769  5320201019  \n",
              "\n",
              "[1770 rows x 7 columns]"
            ]
          },
          "execution_count": 53,
          "metadata": {},
          "output_type": "execute_result"
        }
      ],
      "source": [
        "# Add strings\n",
        "covid_grouped['wk_st_id'] = covid_grouped['state_id'] + covid_grouped['week_start']\n",
        "covid_grouped #check"
      ]
    },
    {
      "cell_type": "markdown",
      "metadata": {
        "id": "xparPAPxf2Cf"
      },
      "source": [
        "## Making our table of state keys\n",
        "\n",
        "Now that we have our encoded key for our covid_grouped table we need to do two final things. First, let's make a second table that contains the relationship between the state_id and the state. This way people can make sql queries on the covid data using the state name if they wanted.\n",
        "\n",
        "After that we'll drop the unnecessary columns from `covid_grouped`."
      ]
    },
    {
      "cell_type": "markdown",
      "metadata": {
        "id": "zNauOlS2gVbx"
      },
      "source": [
        "Making our 'states' table is easy. Just select the two columns of 'state_id' and 'state' and use `drop_duplicates() to get just unique values. This way we'll have each state only once. Call the resulting dataframe 'states'"
      ]
    },
    {
      "cell_type": "code",
      "execution_count": 54,
      "metadata": {
        "id": "cusIG-KbR8j7"
      },
      "outputs": [
        {
          "data": {
            "text/html": [
              "<div>\n",
              "<style scoped>\n",
              "    .dataframe tbody tr th:only-of-type {\n",
              "        vertical-align: middle;\n",
              "    }\n",
              "\n",
              "    .dataframe tbody tr th {\n",
              "        vertical-align: top;\n",
              "    }\n",
              "\n",
              "    .dataframe thead th {\n",
              "        text-align: right;\n",
              "    }\n",
              "</style>\n",
              "<table border=\"1\" class=\"dataframe\">\n",
              "  <thead>\n",
              "    <tr style=\"text-align: right;\">\n",
              "      <th></th>\n",
              "      <th>state_id</th>\n",
              "      <th>state</th>\n",
              "    </tr>\n",
              "  </thead>\n",
              "  <tbody>\n",
              "    <tr>\n",
              "      <th>0</th>\n",
              "      <td>0</td>\n",
              "      <td>Alabama</td>\n",
              "    </tr>\n",
              "    <tr>\n",
              "      <th>32</th>\n",
              "      <td>1</td>\n",
              "      <td>Alaska</td>\n",
              "    </tr>\n",
              "    <tr>\n",
              "      <th>64</th>\n",
              "      <td>2</td>\n",
              "      <td>Arizona</td>\n",
              "    </tr>\n",
              "    <tr>\n",
              "      <th>103</th>\n",
              "      <td>3</td>\n",
              "      <td>Arkansas</td>\n",
              "    </tr>\n",
              "    <tr>\n",
              "      <th>135</th>\n",
              "      <td>4</td>\n",
              "      <td>California</td>\n",
              "    </tr>\n",
              "  </tbody>\n",
              "</table>\n",
              "</div>"
            ],
            "text/plain": [
              "    state_id       state\n",
              "0          0     Alabama\n",
              "32         1      Alaska\n",
              "64         2     Arizona\n",
              "103        3    Arkansas\n",
              "135        4  California"
            ]
          },
          "execution_count": 54,
          "metadata": {},
          "output_type": "execute_result"
        }
      ],
      "source": [
        "# Make states by selecting columns and dropping duplicates\n",
        "states = covid_grouped[['state_id', 'state']].drop_duplicates()\n",
        "states.head() # check"
      ]
    },
    {
      "cell_type": "markdown",
      "metadata": {
        "id": "bANdkYFpgsUJ"
      },
      "source": [
        "Now we'll drop 'week_start' and 'state' from `covid_grouped` as those columns are redundant. The week start is just the 'date' column which we'll keep. And we have a 'state_id' column so we don't need the state name.\n",
        "\n",
        "`.drop()` is useful here."
      ]
    },
    {
      "cell_type": "code",
      "execution_count": 55,
      "metadata": {
        "id": "2ClK9mllLxR-"
      },
      "outputs": [
        {
          "data": {
            "text/html": [
              "<div>\n",
              "<style scoped>\n",
              "    .dataframe tbody tr th:only-of-type {\n",
              "        vertical-align: middle;\n",
              "    }\n",
              "\n",
              "    .dataframe tbody tr th {\n",
              "        vertical-align: top;\n",
              "    }\n",
              "\n",
              "    .dataframe thead th {\n",
              "        text-align: right;\n",
              "    }\n",
              "</style>\n",
              "<table border=\"1\" class=\"dataframe\">\n",
              "  <thead>\n",
              "    <tr style=\"text-align: right;\">\n",
              "      <th></th>\n",
              "      <th>date</th>\n",
              "      <th>weekly_cases</th>\n",
              "      <th>weekly_deaths</th>\n",
              "      <th>state_id</th>\n",
              "      <th>wk_st_id</th>\n",
              "    </tr>\n",
              "  </thead>\n",
              "  <tbody>\n",
              "    <tr>\n",
              "      <th>0</th>\n",
              "      <td>2020-03-16</td>\n",
              "      <td>19</td>\n",
              "      <td>0</td>\n",
              "      <td>0</td>\n",
              "      <td>020200316</td>\n",
              "    </tr>\n",
              "    <tr>\n",
              "      <th>1</th>\n",
              "      <td>2020-03-23</td>\n",
              "      <td>151</td>\n",
              "      <td>0</td>\n",
              "      <td>0</td>\n",
              "      <td>020200323</td>\n",
              "    </tr>\n",
              "    <tr>\n",
              "      <th>2</th>\n",
              "      <td>2020-03-30</td>\n",
              "      <td>707</td>\n",
              "      <td>11</td>\n",
              "      <td>0</td>\n",
              "      <td>020200330</td>\n",
              "    </tr>\n",
              "    <tr>\n",
              "      <th>3</th>\n",
              "      <td>2020-04-06</td>\n",
              "      <td>1048</td>\n",
              "      <td>42</td>\n",
              "      <td>0</td>\n",
              "      <td>020200406</td>\n",
              "    </tr>\n",
              "    <tr>\n",
              "      <th>4</th>\n",
              "      <td>2020-04-13</td>\n",
              "      <td>1797</td>\n",
              "      <td>51</td>\n",
              "      <td>0</td>\n",
              "      <td>020200413</td>\n",
              "    </tr>\n",
              "  </tbody>\n",
              "</table>\n",
              "</div>"
            ],
            "text/plain": [
              "        date  weekly_cases  weekly_deaths state_id   wk_st_id\n",
              "0 2020-03-16            19              0        0  020200316\n",
              "1 2020-03-23           151              0        0  020200323\n",
              "2 2020-03-30           707             11        0  020200330\n",
              "3 2020-04-06          1048             42        0  020200406\n",
              "4 2020-04-13          1797             51        0  020200413"
            ]
          },
          "execution_count": 55,
          "metadata": {},
          "output_type": "execute_result"
        }
      ],
      "source": [
        "# Drop columns\n",
        "covid_grouped = covid_grouped.drop(columns=['week_start', 'state'])\n",
        "covid_grouped.head()"
      ]
    },
    {
      "cell_type": "markdown",
      "metadata": {
        "id": "i2Ah2aLIpbkJ"
      },
      "source": [
        "## Pushing to our/your SQL database\n",
        "\n",
        "Alright, let's go and push our two tables to the database that we set up earlier in the week.\n",
        "\n",
        "Pushing data to a database has two steps.\n",
        "\n",
        "1. We define our table columns and the datatypes within in\n",
        "2. We upload data into the columns that we created\n",
        "3. We commit the changes\n",
        "\n",
        "Steps 1 and 2 are done using SQL syntax in a similar structure as we used to make queries. We'll write our commands and then execute them using a cursor just like before. Then we'll commit our changes and close our cursor."
      ]
    },
    {
      "cell_type": "code",
      "execution_count": 56,
      "metadata": {
        "id": "sZTt6OuMep4H"
      },
      "outputs": [
        {
          "name": "stdout",
          "output_type": "stream",
          "text": [
            "Requirement already satisfied: mysql-connector-python in c:\\users\\couga\\documents\\classes-local\\ista-322-fa24\\classwork\\venv\\lib\\site-packages (9.4.0)\n",
            "Note: you may need to restart the kernel to use updated packages.\n"
          ]
        }
      ],
      "source": [
        "%pip install mysql-connector-python"
      ]
    },
    {
      "cell_type": "code",
      "execution_count": 57,
      "metadata": {
        "id": "ANCrjqj1pNGS"
      },
      "outputs": [],
      "source": [
        "import mysql.connector"
      ]
    },
    {
      "cell_type": "markdown",
      "metadata": {
        "id": "IRnzVNEhfwqu"
      },
      "source": [
        "### Import SQL functions\n",
        "\n",
        "First, go and run the functions we've been using. **Update** the `get_conn_cur()` function so that it connects to your database!"
      ]
    },
    {
      "cell_type": "code",
      "execution_count": 58,
      "metadata": {
        "id": "cL_VSnhjfKnu"
      },
      "outputs": [],
      "source": [
        "#connection information\n",
        "#use 127.0.0.1 as the address for local MySQL server or use AWS endpoint for AWS based MySQL server\n",
        "#use the rest of the information accordingly based on your check notebook in Setting Up MySQL Server document.\n",
        "mysql_address  = 'my-dataengineering-db.chg62e6gampt.us-east-2.rds.amazonaws.com'\n",
        "mysql_username='cougarbellinger'\n",
        "mysql_password='raZV&hDe3nykXf#QhxNN'\n",
        "mysql_database = 'my_dataengineering_db'\n",
        "\n",
        "def get_conn_cur():\n",
        "    cnx = mysql.connector.connect(user=mysql_username, password=mysql_password,\n",
        "          host=mysql_address,\n",
        "          database=mysql_database, port='3306');\n",
        "    return (cnx, cnx.cursor())"
      ]
    },
    {
      "cell_type": "code",
      "execution_count": 59,
      "metadata": {
        "id": "dFaexJ39fFYz"
      },
      "outputs": [],
      "source": [
        "# Run our old functions in case we want to check our data!\n",
        "\n",
        "def run_query(query_string):\n",
        "  conn, cur = get_conn_cur() # get connection and cursor\n",
        "  cur.execute(query_string) # executing string as before\n",
        "  my_data = cur.fetchall() # fetch query data as before\n",
        "  result_df = pd.DataFrame(my_data, columns=cur.column_names)\n",
        "  cur.close() # close\n",
        "  conn.close() # close\n",
        "  return result_df\n",
        "\n",
        "\n",
        "def sql_head(table_name):\n",
        "  conn, cur = get_conn_cur() #get connection and cursor\n",
        "\n",
        "  #get head information\n",
        "  table_rows_query = \"\"\" SELECT * FROM %s LIMIT 5; \"\"\" % table_name\n",
        "  cur.execute(table_rows_query)\n",
        "  my_data = cur.fetchall() # fetch results\n",
        "\n",
        "  # Create a dataframe that combines sql table with column names and return\n",
        "  df = pd.DataFrame(my_data, columns=cur.column_names)\n",
        "\n",
        "  cur.close()\n",
        "  conn.close()\n",
        "  return df"
      ]
    },
    {
      "cell_type": "markdown",
      "metadata": {
        "id": "lNpGP1VYhPOK"
      },
      "source": [
        "## Create weekly table in database\n",
        "\n",
        "Let's go and make a table called 'weekly' that we'll insert our main 'covid_grouped' dataset into'\n",
        "\n",
        "The main call to make a table is `CREATE TABLE new_table_name ()`. Inside the parentheses you then give it your column name, your datatype, and if you can have null values in there. We want to make five columns. The first one we want to be our 'wk_st_id' which we'll set as an integer and a primary key.\n",
        "\n",
        "I've written the query for you.\n",
        "\n",
        "**NOTE** - `VARCHAR(255)` is the way to specify a character column. Inside the parentheses is the max length allowed. 'state_id' doesn't need to be a character, but I specified it as one to demonstrate some variety. It's also how we already had the datatype specified in our 'covid_grouped' dataframe. We could specify the column as an integer but then we'd have to also change 'state_id' in 'covid_grouped' to an integer so the datatypes being pushed match."
      ]
    },
    {
      "cell_type": "code",
      "execution_count": 63,
      "metadata": {
        "id": "7HXGEgk8hR-7"
      },
      "outputs": [],
      "source": [
        "# query with wk_st_id as an integer and primary key\n",
        "# date as a timestamp\n",
        "# cases and deaths as intergers\n",
        "# state_id as characters\n",
        "tq = \"\"\"CREATE TABLE IF NOT EXISTS coviddb_weekly_stats (\n",
        "     wk_st_id INTEGER PRIMARY KEY,\n",
        "     date timestamp NOT NULL ,\n",
        "     weekly_cases INTEGER NOT NULL,\n",
        "     weekly_deaths INTEGER NOT NULL,\n",
        "     state_id VARCHAR(255) NOT NULL\n",
        "     );\"\"\""
      ]
    },
    {
      "cell_type": "markdown",
      "metadata": {
        "id": "yYPHdIkevWm-"
      },
      "source": [
        "Now that we have that let's get a connection and cursor object"
      ]
    },
    {
      "cell_type": "code",
      "execution_count": 64,
      "metadata": {
        "id": "tJVkBmFhjD_r"
      },
      "outputs": [],
      "source": [
        "# Get our connection and cursor and assign to conn and cur\n",
        "conn, cur = get_conn_cur()\n"
      ]
    },
    {
      "cell_type": "markdown",
      "metadata": {
        "id": "swWdW24Ovfmo"
      },
      "source": [
        "To create the table we can just execute the query using `cur.execute()`."
      ]
    },
    {
      "cell_type": "code",
      "execution_count": 66,
      "metadata": {
        "id": "r_c5RGs1jIt5"
      },
      "outputs": [],
      "source": [
        "# execute our query we wrote above\n",
        "cur.execute(tq)"
      ]
    },
    {
      "cell_type": "markdown",
      "metadata": {
        "id": "sy4lPfVTvslH"
      },
      "source": [
        "And finally just commit the table. Doing so just finalizes everything you did and will make it accessable to other users."
      ]
    },
    {
      "cell_type": "code",
      "execution_count": 67,
      "metadata": {
        "id": "l4KsIlnajURe"
      },
      "outputs": [],
      "source": [
        "# commit\n",
        "conn.commit()"
      ]
    },
    {
      "cell_type": "markdown",
      "metadata": {
        "id": "mwoohk_ywEIM"
      },
      "source": [
        "Let's check that our table name and column names are in there using the functions we made in previous lessons."
      ]
    },
    {
      "cell_type": "code",
      "execution_count": 68,
      "metadata": {
        "id": "OQFKS6FajQlQ"
      },
      "outputs": [
        {
          "data": {
            "text/html": [
              "<div>\n",
              "<style scoped>\n",
              "    .dataframe tbody tr th:only-of-type {\n",
              "        vertical-align: middle;\n",
              "    }\n",
              "\n",
              "    .dataframe tbody tr th {\n",
              "        vertical-align: top;\n",
              "    }\n",
              "\n",
              "    .dataframe thead th {\n",
              "        text-align: right;\n",
              "    }\n",
              "</style>\n",
              "<table border=\"1\" class=\"dataframe\">\n",
              "  <thead>\n",
              "    <tr style=\"text-align: right;\">\n",
              "      <th></th>\n",
              "      <th>wk_st_id</th>\n",
              "      <th>date</th>\n",
              "      <th>weekly_cases</th>\n",
              "      <th>weekly_deaths</th>\n",
              "      <th>state_id</th>\n",
              "    </tr>\n",
              "  </thead>\n",
              "  <tbody>\n",
              "    <tr>\n",
              "      <th>0</th>\n",
              "      <td>20200316</td>\n",
              "      <td>2020-03-16</td>\n",
              "      <td>19</td>\n",
              "      <td>0</td>\n",
              "      <td>0</td>\n",
              "    </tr>\n",
              "    <tr>\n",
              "      <th>1</th>\n",
              "      <td>20200323</td>\n",
              "      <td>2020-03-23</td>\n",
              "      <td>151</td>\n",
              "      <td>0</td>\n",
              "      <td>0</td>\n",
              "    </tr>\n",
              "    <tr>\n",
              "      <th>2</th>\n",
              "      <td>20200330</td>\n",
              "      <td>2020-03-30</td>\n",
              "      <td>707</td>\n",
              "      <td>11</td>\n",
              "      <td>0</td>\n",
              "    </tr>\n",
              "    <tr>\n",
              "      <th>3</th>\n",
              "      <td>20200406</td>\n",
              "      <td>2020-04-06</td>\n",
              "      <td>1048</td>\n",
              "      <td>42</td>\n",
              "      <td>0</td>\n",
              "    </tr>\n",
              "    <tr>\n",
              "      <th>4</th>\n",
              "      <td>20200413</td>\n",
              "      <td>2020-04-13</td>\n",
              "      <td>1797</td>\n",
              "      <td>51</td>\n",
              "      <td>0</td>\n",
              "    </tr>\n",
              "  </tbody>\n",
              "</table>\n",
              "</div>"
            ],
            "text/plain": [
              "   wk_st_id       date  weekly_cases  weekly_deaths state_id\n",
              "0  20200316 2020-03-16            19              0        0\n",
              "1  20200323 2020-03-23           151              0        0\n",
              "2  20200330 2020-03-30           707             11        0\n",
              "3  20200406 2020-04-06          1048             42        0\n",
              "4  20200413 2020-04-13          1797             51        0"
            ]
          },
          "execution_count": 68,
          "metadata": {},
          "output_type": "execute_result"
        }
      ],
      "source": [
        "# Is the table there? # All of our column names?\n",
        "sql_head('coviddb_weekly_stats')"
      ]
    },
    {
      "cell_type": "markdown",
      "metadata": {
        "id": "mbG0djKZwT2a"
      },
      "source": [
        "### Updating our table\n",
        "\n",
        "I actually made a mistake above. I said the primary key should be an integer, but actually it needs to be something called a big interger. This is because regular integers can only store values between -2147483648 and +2147483647. Our current wk_st_id values get larger than that. So, we need to change the datatype of that column!\n",
        "You can read about different variants of INTEGER here:\n",
        "https://dev.mysql.com/doc/refman/8.0/en/integer-types.html\n",
        "\n",
        "To do this, or change any datatype for that matter, we write another query. In this case, the main arguments are ALTER TABLE and ALTER COLUMN. The first just points to the table in the database, the second the column in that database. Then you just tell it what datatype you want to use. the general format is as follows:\n",
        "\n",
        "```\n",
        "ALTER TABLE table_name\n",
        " ALTER COLUMN column_to_update TYPE datatype_to_use\n",
        "```\n",
        "\n",
        "I've written the query below. We'll create a cursor and commit everything in one go just like above."
      ]
    },
    {
      "cell_type": "code",
      "execution_count": 69,
      "metadata": {
        "id": "lmd9mg9VwQ5J"
      },
      "outputs": [],
      "source": [
        "conn, cur = get_conn_cur()\n",
        "cur = conn.cursor()\n",
        "uq = \"\"\"ALTER TABLE coviddb_weekly_stats\n",
        "     MODIFY COLUMN wk_st_id BIGINT;\"\"\"\n",
        "cur.execute(uq)\n",
        "conn.commit()"
      ]
    },
    {
      "cell_type": "markdown",
      "metadata": {
        "id": "ND85NyTnx2rh"
      },
      "source": [
        "We can run a quick query to get the datatypes. There is a query \"SHOW CREATE TABLE tablename\" that gets us the definition of a MySQL table"
      ]
    },
    {
      "cell_type": "code",
      "execution_count": 72,
      "metadata": {
        "id": "b66wa6PEgOWh"
      },
      "outputs": [
        {
          "data": {
            "text/plain": [
              "[('coviddb_weekly_stats',\n",
              "  'CREATE TABLE `coviddb_weekly_stats` (\\n  `wk_st_id` bigint NOT NULL,\\n  `date` timestamp NOT NULL,\\n  `weekly_cases` int NOT NULL,\\n  `weekly_deaths` int NOT NULL,\\n  `state_id` varchar(255) NOT NULL,\\n  PRIMARY KEY (`wk_st_id`)\\n) ENGINE=InnoDB DEFAULT CHARSET=utf8mb4 COLLATE=utf8mb4_0900_ai_ci')]"
            ]
          },
          "execution_count": 72,
          "metadata": {},
          "output_type": "execute_result"
        }
      ],
      "source": [
        "conn, cur = get_conn_cur()\n",
        "cur = conn.cursor()\n",
        "uq = \"\"\" SHOW CREATE TABLE coviddb_weekly_stats;\"\"\"\n",
        "cur.execute(uq)\n",
        "cur.fetchall()"
      ]
    },
    {
      "cell_type": "markdown",
      "metadata": {
        "id": "IBrVCN4l0T7n"
      },
      "source": [
        "Great, we can see all of our column names and corresponding datatypes. We can see that 'wk_st_id' is now a 'bigint.' This brings up an important point when designing a database. You need to be sure to make your columns are big enough to store approved values now, but also in the future."
      ]
    },
    {
      "cell_type": "markdown",
      "metadata": {
        "id": "FRcj0loX0ksb"
      },
      "source": [
        "## Make states table\n",
        "\n",
        "Can you go and make a second table called 'states'? We're going to want to take that 'states' dataframe and add it to our database. This one should have only two columns, both with character datatypes like above. The primary key should be 'state_id'"
      ]
    },
    {
      "cell_type": "code",
      "execution_count": 73,
      "metadata": {
        "id": "N4WActB00-Qj"
      },
      "outputs": [
        {
          "data": {
            "text/html": [
              "<div>\n",
              "<style scoped>\n",
              "    .dataframe tbody tr th:only-of-type {\n",
              "        vertical-align: middle;\n",
              "    }\n",
              "\n",
              "    .dataframe tbody tr th {\n",
              "        vertical-align: top;\n",
              "    }\n",
              "\n",
              "    .dataframe thead th {\n",
              "        text-align: right;\n",
              "    }\n",
              "</style>\n",
              "<table border=\"1\" class=\"dataframe\">\n",
              "  <thead>\n",
              "    <tr style=\"text-align: right;\">\n",
              "      <th></th>\n",
              "      <th>state_id</th>\n",
              "      <th>state</th>\n",
              "    </tr>\n",
              "  </thead>\n",
              "  <tbody>\n",
              "    <tr>\n",
              "      <th>0</th>\n",
              "      <td>0</td>\n",
              "      <td>Alabama</td>\n",
              "    </tr>\n",
              "    <tr>\n",
              "      <th>32</th>\n",
              "      <td>1</td>\n",
              "      <td>Alaska</td>\n",
              "    </tr>\n",
              "    <tr>\n",
              "      <th>64</th>\n",
              "      <td>2</td>\n",
              "      <td>Arizona</td>\n",
              "    </tr>\n",
              "    <tr>\n",
              "      <th>103</th>\n",
              "      <td>3</td>\n",
              "      <td>Arkansas</td>\n",
              "    </tr>\n",
              "    <tr>\n",
              "      <th>135</th>\n",
              "      <td>4</td>\n",
              "      <td>California</td>\n",
              "    </tr>\n",
              "  </tbody>\n",
              "</table>\n",
              "</div>"
            ],
            "text/plain": [
              "    state_id       state\n",
              "0          0     Alabama\n",
              "32         1      Alaska\n",
              "64         2     Arizona\n",
              "103        3    Arkansas\n",
              "135        4  California"
            ]
          },
          "execution_count": 73,
          "metadata": {},
          "output_type": "execute_result"
        }
      ],
      "source": [
        "states.head()"
      ]
    },
    {
      "cell_type": "code",
      "execution_count": 74,
      "metadata": {
        "id": "bxqtaq5f079e"
      },
      "outputs": [],
      "source": [
        "# Make your states table\n",
        "conn, cur = get_conn_cur()\n",
        "cur = conn.cursor()\n",
        "tq = \"\"\"CREATE TABLE IF NOT EXISTS states (\n",
        "    state_id VARCHAR(255) PRIMARY KEY,\n",
        "    state_name VARCHAR(255)\n",
        "    );\"\"\"\n",
        "cur.execute(tq)\n",
        "conn.commit()\n",
        "conn.close()"
      ]
    },
    {
      "cell_type": "markdown",
      "metadata": {
        "id": "TP7C1Likhk2Q"
      },
      "source": [
        "We can use SHOW TABLES query to see the list of tables"
      ]
    },
    {
      "cell_type": "code",
      "execution_count": 75,
      "metadata": {
        "id": "d680EFe_1WoQ"
      },
      "outputs": [
        {
          "data": {
            "text/html": [
              "<div>\n",
              "<style scoped>\n",
              "    .dataframe tbody tr th:only-of-type {\n",
              "        vertical-align: middle;\n",
              "    }\n",
              "\n",
              "    .dataframe tbody tr th {\n",
              "        vertical-align: top;\n",
              "    }\n",
              "\n",
              "    .dataframe thead th {\n",
              "        text-align: right;\n",
              "    }\n",
              "</style>\n",
              "<table border=\"1\" class=\"dataframe\">\n",
              "  <thead>\n",
              "    <tr style=\"text-align: right;\">\n",
              "      <th></th>\n",
              "      <th>Tables_in_my_dataengineering_db</th>\n",
              "    </tr>\n",
              "  </thead>\n",
              "  <tbody>\n",
              "    <tr>\n",
              "      <th>0</th>\n",
              "      <td>coviddb_weekly_stats</td>\n",
              "    </tr>\n",
              "    <tr>\n",
              "      <th>1</th>\n",
              "      <td>states</td>\n",
              "    </tr>\n",
              "  </tbody>\n",
              "</table>\n",
              "</div>"
            ],
            "text/plain": [
              "  Tables_in_my_dataengineering_db\n",
              "0            coviddb_weekly_stats\n",
              "1                          states"
            ]
          },
          "execution_count": 75,
          "metadata": {},
          "output_type": "execute_result"
        }
      ],
      "source": [
        "# check that the table is tere\n",
        "run_query(\"SHOW TABLES\")"
      ]
    },
    {
      "cell_type": "code",
      "execution_count": 76,
      "metadata": {
        "id": "I8bs01A01a3-"
      },
      "outputs": [
        {
          "data": {
            "text/html": [
              "<div>\n",
              "<style scoped>\n",
              "    .dataframe tbody tr th:only-of-type {\n",
              "        vertical-align: middle;\n",
              "    }\n",
              "\n",
              "    .dataframe tbody tr th {\n",
              "        vertical-align: top;\n",
              "    }\n",
              "\n",
              "    .dataframe thead th {\n",
              "        text-align: right;\n",
              "    }\n",
              "</style>\n",
              "<table border=\"1\" class=\"dataframe\">\n",
              "  <thead>\n",
              "    <tr style=\"text-align: right;\">\n",
              "      <th></th>\n",
              "      <th>state_id</th>\n",
              "      <th>state_name</th>\n",
              "    </tr>\n",
              "  </thead>\n",
              "  <tbody>\n",
              "    <tr>\n",
              "      <th>0</th>\n",
              "      <td>0</td>\n",
              "      <td>Alabama</td>\n",
              "    </tr>\n",
              "    <tr>\n",
              "      <th>1</th>\n",
              "      <td>1</td>\n",
              "      <td>Alaska</td>\n",
              "    </tr>\n",
              "    <tr>\n",
              "      <th>2</th>\n",
              "      <td>10</td>\n",
              "      <td>Georgia</td>\n",
              "    </tr>\n",
              "    <tr>\n",
              "      <th>3</th>\n",
              "      <td>11</td>\n",
              "      <td>Hawaii</td>\n",
              "    </tr>\n",
              "    <tr>\n",
              "      <th>4</th>\n",
              "      <td>12</td>\n",
              "      <td>Idaho</td>\n",
              "    </tr>\n",
              "  </tbody>\n",
              "</table>\n",
              "</div>"
            ],
            "text/plain": [
              "  state_id state_name\n",
              "0        0    Alabama\n",
              "1        1     Alaska\n",
              "2       10    Georgia\n",
              "3       11     Hawaii\n",
              "4       12      Idaho"
            ]
          },
          "execution_count": 76,
          "metadata": {},
          "output_type": "execute_result"
        }
      ],
      "source": [
        "# Check that the column names are there\n",
        "sql_head('states')"
      ]
    },
    {
      "cell_type": "code",
      "execution_count": 79,
      "metadata": {
        "id": "4N288c6_1kvW"
      },
      "outputs": [
        {
          "name": "stdout",
          "output_type": "stream",
          "text": [
            "[('states', 'CREATE TABLE `states` (\\n  `state_id` varchar(255) NOT NULL,\\n  `state_name` varchar(255) DEFAULT NULL,\\n  PRIMARY KEY (`state_id`)\\n) ENGINE=InnoDB DEFAULT CHARSET=utf8mb4 COLLATE=utf8mb4_0900_ai_ci')]\n"
          ]
        }
      ],
      "source": [
        "# Might as well check the datatypes\n",
        "conn, cur = get_conn_cur()\n",
        "cur = conn.cursor()\n",
        "uq = \"\"\" SHOW CREATE TABLE states\"\"\"\n",
        "cur.execute(uq)\n",
        "print(cur.fetchall())\n",
        "conn.close()"
      ]
    },
    {
      "cell_type": "markdown",
      "metadata": {
        "id": "4FUvTOAr2gMN"
      },
      "source": [
        "## Putting information in the database\n",
        "\n",
        "Now we have a couple empty tables sitting in our database waiting for data. As you can imagine, the general process is an extension of what we did above. We write a query that specifies the table and columns we want to insert data into, and then what data we want to put in there.\n",
        "\n",
        "The main argument to do this is INSERT into followed by VALUES. The generalized string format is:\n",
        "\n",
        "```\n",
        "\"INSERT INTO table_name(column_names) VALUES (values_for_each_column)\"\n",
        "```\n",
        "\n",
        "This process is typically done row-wise meaning you insert one row at a time. For example, this string would add just a single row of data into our 'coviddb_weekly_stats' table:\n",
        "\n",
        "```\n",
        "\"INSERT INTO coviddb_weekly_stats(wk_st_id,date,weekly_cases,weekly_deaths,state_id\n",
        " VALUES(0020200316, 2020-03-16 00:00:00, 19, 0, 00)\"\n",
        "```\n",
        "\n",
        "**OK, but does this mean we have to write and execute a query for each and every row in our dataframe?** No, of course not. While you could update it a single row at a time using `cur.execute()` and loop through every row of your dataset, that would be super slow as you'd be generating a cursor, executing, and closing each and every time.\n",
        "\n",
        "Instead you can use `cur.executemany()`. This allows you to, well, execute many actions at once. It is a bit more involved in the string you'll have to write as you'll have to use string formatting (`%s`) to generate the string for each row. But, this is simpler and MUCH MUCH faster than using a loop with single operations.\n",
        "\n",
        "There are some other bits to make this work, but we'll cover them as we go. Let's get started!"
      ]
    },
    {
      "cell_type": "markdown",
      "metadata": {
        "id": "OEY-gwvm5qyE"
      },
      "source": [
        "First, we need to reorder our columns in the dataframe to match the column order of the database."
      ]
    },
    {
      "cell_type": "code",
      "execution_count": 83,
      "metadata": {
        "id": "UnOa3j585vhS"
      },
      "outputs": [
        {
          "name": "stdout",
          "output_type": "stream",
          "text": [
            "[('coviddb_weekly_stats', 'CREATE TABLE `coviddb_weekly_stats` (\\n  `wk_st_id` bigint NOT NULL,\\n  `date` timestamp NOT NULL,\\n  `weekly_cases` int NOT NULL,\\n  `weekly_deaths` int NOT NULL,\\n  `state_id` varchar(255) NOT NULL,\\n  PRIMARY KEY (`wk_st_id`)\\n) ENGINE=InnoDB DEFAULT CHARSET=utf8mb4 COLLATE=utf8mb4_0900_ai_ci')]\n"
          ]
        }
      ],
      "source": [
        "conn, cur = get_conn_cur()\n",
        "cur = conn.cursor()\n",
        "uq = \"\"\" SHOW CREATE TABLE coviddb_weekly_stats\"\"\"\n",
        "cur.execute(uq)\n",
        "print(cur.fetchall())\n",
        "conn.close()"
      ]
    },
    {
      "cell_type": "code",
      "execution_count": 84,
      "metadata": {
        "id": "tpPYmBbcjkzU"
      },
      "outputs": [
        {
          "data": {
            "text/html": [
              "<div>\n",
              "<style scoped>\n",
              "    .dataframe tbody tr th:only-of-type {\n",
              "        vertical-align: middle;\n",
              "    }\n",
              "\n",
              "    .dataframe tbody tr th {\n",
              "        vertical-align: top;\n",
              "    }\n",
              "\n",
              "    .dataframe thead th {\n",
              "        text-align: right;\n",
              "    }\n",
              "</style>\n",
              "<table border=\"1\" class=\"dataframe\">\n",
              "  <thead>\n",
              "    <tr style=\"text-align: right;\">\n",
              "      <th></th>\n",
              "      <th>wk_st_id</th>\n",
              "      <th>date</th>\n",
              "      <th>weekly_cases</th>\n",
              "      <th>weekly_deaths</th>\n",
              "      <th>state_id</th>\n",
              "    </tr>\n",
              "  </thead>\n",
              "  <tbody>\n",
              "    <tr>\n",
              "      <th>0</th>\n",
              "      <td>020200316</td>\n",
              "      <td>2020-03-16</td>\n",
              "      <td>19</td>\n",
              "      <td>0</td>\n",
              "      <td>0</td>\n",
              "    </tr>\n",
              "    <tr>\n",
              "      <th>1</th>\n",
              "      <td>020200323</td>\n",
              "      <td>2020-03-23</td>\n",
              "      <td>151</td>\n",
              "      <td>0</td>\n",
              "      <td>0</td>\n",
              "    </tr>\n",
              "    <tr>\n",
              "      <th>2</th>\n",
              "      <td>020200330</td>\n",
              "      <td>2020-03-30</td>\n",
              "      <td>707</td>\n",
              "      <td>11</td>\n",
              "      <td>0</td>\n",
              "    </tr>\n",
              "    <tr>\n",
              "      <th>3</th>\n",
              "      <td>020200406</td>\n",
              "      <td>2020-04-06</td>\n",
              "      <td>1048</td>\n",
              "      <td>42</td>\n",
              "      <td>0</td>\n",
              "    </tr>\n",
              "    <tr>\n",
              "      <th>4</th>\n",
              "      <td>020200413</td>\n",
              "      <td>2020-04-13</td>\n",
              "      <td>1797</td>\n",
              "      <td>51</td>\n",
              "      <td>0</td>\n",
              "    </tr>\n",
              "  </tbody>\n",
              "</table>\n",
              "</div>"
            ],
            "text/plain": [
              "    wk_st_id       date  weekly_cases  weekly_deaths state_id\n",
              "0  020200316 2020-03-16            19              0        0\n",
              "1  020200323 2020-03-23           151              0        0\n",
              "2  020200330 2020-03-30           707             11        0\n",
              "3  020200406 2020-04-06          1048             42        0\n",
              "4  020200413 2020-04-13          1797             51        0"
            ]
          },
          "execution_count": 84,
          "metadata": {},
          "output_type": "execute_result"
        }
      ],
      "source": [
        "# Reorder covid_grouped to match\n",
        "covid_grouped = covid_grouped[['wk_st_id', 'date', 'weekly_cases', 'weekly_deaths', 'state_id']]\n",
        "covid_grouped.head()"
      ]
    },
    {
      "cell_type": "markdown",
      "metadata": {
        "id": "LcXTpE_o5-ni"
      },
      "source": [
        "OK, first think to point out. SQL wants to receive the data as a tuple. Each row of ours is currently a row in a dataframe. So we need to convert each row to a tuple. We can use numpy to do this. Below I write a list comprehension to do this. List comprehensions are essentially simplified for loops.\n",
        "\n",
        "The first part is the action. It's saying 'make a tuple with x'. The second part is just saying the variable name in the sequence. The third part is the list of data. In this case we're making a list of data by converting our dataframe to a numpy array. Play around making a cell and running `covid_grouped.to_numpy()` if you want to see more specifically what this is doing. I'm going to just run the list comprehension for now."
      ]
    },
    {
      "cell_type": "code",
      "execution_count": 85,
      "metadata": {
        "id": "f4XoGuBCf5we"
      },
      "outputs": [],
      "source": [
        "import numpy as np\n",
        "data_tups = [tuple(x) for x in covid_grouped.to_numpy()]"
      ]
    },
    {
      "cell_type": "markdown",
      "metadata": {
        "id": "K-fbhcpj7Tl2"
      },
      "source": [
        "What's in `data_tups`? Let's look at the 3rd position."
      ]
    },
    {
      "cell_type": "code",
      "execution_count": 86,
      "metadata": {
        "id": "XdIPyIwelTbn"
      },
      "outputs": [
        {
          "data": {
            "text/plain": [
              "('020200330', Timestamp('2020-03-30 00:00:00'), 707, 11, '0')"
            ]
          },
          "execution_count": 86,
          "metadata": {},
          "output_type": "execute_result"
        }
      ],
      "source": [
        "# Check out an example\n",
        "data_tups[2]"
      ]
    },
    {
      "cell_type": "markdown",
      "metadata": {
        "id": "OR5mZaZC7e5r"
      },
      "source": [
        "Great, so now that's in a format that's ready for VALUES part of our INSERT string. Now we can write our insert string that will take those values.\n",
        "\n",
        "Remember from before that %s allows you to insert a value into a string. So if we did something like `'I need %s points to pass' % points_needed` it would insert whatever 'points_needed' is defined as into that string."
      ]
    },
    {
      "cell_type": "code",
      "execution_count": 87,
      "metadata": {
        "id": "ZkabmU7R7eav"
      },
      "outputs": [
        {
          "data": {
            "text/plain": [
              "'I need 20 points to pass'"
            ]
          },
          "execution_count": 87,
          "metadata": {},
          "output_type": "execute_result"
        }
      ],
      "source": [
        "# and example\n",
        "points_needed = 20\n",
        "'I need %s points to pass' % points_needed"
      ]
    },
    {
      "cell_type": "markdown",
      "metadata": {
        "id": "IzGucyz19nSH"
      },
      "source": [
        "What we need to do for our query is insert one of our tuples from 'data_tups' into VALUES. WE have five values in each tuple, so we need to just write '%s inside that string five times. Let's write our insert string."
      ]
    },
    {
      "cell_type": "code",
      "execution_count": 88,
      "metadata": {
        "id": "0IJ-OYeZgxXx"
      },
      "outputs": [
        {
          "data": {
            "text/plain": [
              "'INSERT INTO coviddb_weekly_stats(wk_st_id,date,weekly_cases,weekly_deaths,state_id) VALUES(%s, %s, %s, %s, %s);'"
            ]
          },
          "execution_count": 88,
          "metadata": {},
          "output_type": "execute_result"
        }
      ],
      "source": [
        "iq = \"\"\"INSERT INTO coviddb_weekly_stats(wk_st_id,date,weekly_cases,weekly_deaths,state_id) VALUES(%s, %s, %s, %s, %s);\"\"\"\n",
        "iq"
      ]
    },
    {
      "cell_type": "markdown",
      "metadata": {
        "id": "PrsM7GmG-D-g"
      },
      "source": [
        "You can test if it's working by trying to add a tuple to your insert string."
      ]
    },
    {
      "cell_type": "code",
      "execution_count": 89,
      "metadata": {
        "id": "mLIO1aDwmBYU"
      },
      "outputs": [
        {
          "data": {
            "text/plain": [
              "'INSERT INTO coviddb_weekly_stats(wk_st_id,date,weekly_cases,weekly_deaths,state_id) VALUES(020200413, 2020-04-13 00:00:00, 1797, 51, 0);'"
            ]
          },
          "execution_count": 89,
          "metadata": {},
          "output_type": "execute_result"
        }
      ],
      "source": [
        "# Does it work?\n",
        "iq % data_tups[4]"
      ]
    },
    {
      "cell_type": "markdown",
      "metadata": {
        "id": "QJ4evTb8-Nuz"
      },
      "source": [
        "### Finally pushing data to the database\n",
        "\n",
        "Now we can finally use `executemany() to push our database. This'll take two arguments. The first is the query string, the section is our tuples. It'll go and make an insert string for each and every tuple and therefore insert each row. We still need to open a connection, make a cursor, close, and commit.\n",
        "\n",
        "**NOTE** this will take a minute or so!"
      ]
    },
    {
      "cell_type": "code",
      "execution_count": null,
      "metadata": {
        "id": "7pkhXYuZkbk5"
      },
      "outputs": [
        {
          "ename": "IntegrityError",
          "evalue": "1062 (23000): Duplicate entry '20200316' for key 'coviddb_weekly_stats.PRIMARY'",
          "output_type": "error",
          "traceback": [
            "\u001b[31m---------------------------------------------------------------------------\u001b[39m",
            "\u001b[31mMySQLInterfaceError\u001b[39m                       Traceback (most recent call last)",
            "\u001b[36mFile \u001b[39m\u001b[32mc:\\Users\\couga\\Documents\\Classes-Local\\ISTA-322-FA24\\Classwork\\venv\\Lib\\site-packages\\mysql\\connector\\connection_cext.py:772\u001b[39m, in \u001b[36mCMySQLConnection.cmd_query\u001b[39m\u001b[34m(self, query, raw, buffered, raw_as_string, **kwargs)\u001b[39m\n\u001b[32m    770\u001b[39m     \u001b[38;5;28mself\u001b[39m._local_infile_filenames = \u001b[38;5;28;01mNone\u001b[39;00m\n\u001b[32m--> \u001b[39m\u001b[32m772\u001b[39m     \u001b[38;5;28;43mself\u001b[39;49m\u001b[43m.\u001b[49m\u001b[43m_cmysql\u001b[49m\u001b[43m.\u001b[49m\u001b[43mquery\u001b[49m\u001b[43m(\u001b[49m\n\u001b[32m    773\u001b[39m \u001b[43m        \u001b[49m\u001b[43mquery\u001b[49m\u001b[43m,\u001b[49m\n\u001b[32m    774\u001b[39m \u001b[43m        \u001b[49m\u001b[43mraw\u001b[49m\u001b[43m=\u001b[49m\u001b[43mraw\u001b[49m\u001b[43m,\u001b[49m\n\u001b[32m    775\u001b[39m \u001b[43m        \u001b[49m\u001b[43mbuffered\u001b[49m\u001b[43m=\u001b[49m\u001b[43mbuffered\u001b[49m\u001b[43m,\u001b[49m\n\u001b[32m    776\u001b[39m \u001b[43m        \u001b[49m\u001b[43mraw_as_string\u001b[49m\u001b[43m=\u001b[49m\u001b[43mraw_as_string\u001b[49m\u001b[43m,\u001b[49m\n\u001b[32m    777\u001b[39m \u001b[43m        \u001b[49m\u001b[43mquery_attrs\u001b[49m\u001b[43m=\u001b[49m\u001b[38;5;28;43mself\u001b[39;49m\u001b[43m.\u001b[49m\u001b[43mquery_attrs\u001b[49m\u001b[43m,\u001b[49m\n\u001b[32m    778\u001b[39m \u001b[43m    \u001b[49m\u001b[43m)\u001b[49m\n\u001b[32m    779\u001b[39m \u001b[38;5;28;01mexcept\u001b[39;00m MySQLInterfaceError \u001b[38;5;28;01mas\u001b[39;00m err:\n",
            "\u001b[31mMySQLInterfaceError\u001b[39m: Duplicate entry '20200316' for key 'coviddb_weekly_stats.PRIMARY'",
            "\nThe above exception was the direct cause of the following exception:\n",
            "\u001b[31mIntegrityError\u001b[39m                            Traceback (most recent call last)",
            "\u001b[36mCell\u001b[39m\u001b[36m \u001b[39m\u001b[32mIn[90]\u001b[39m\u001b[32m, line 3\u001b[39m\n\u001b[32m      1\u001b[39m \u001b[38;5;66;03m# Upload data\u001b[39;00m\n\u001b[32m      2\u001b[39m conn, cur = get_conn_cur()\n\u001b[32m----> \u001b[39m\u001b[32m3\u001b[39m \u001b[43mcur\u001b[49m\u001b[43m.\u001b[49m\u001b[43mexecutemany\u001b[49m\u001b[43m(\u001b[49m\u001b[43miq\u001b[49m\u001b[43m,\u001b[49m\u001b[43m \u001b[49m\u001b[43mdata_tups\u001b[49m\u001b[43m)\u001b[49m\n\u001b[32m      4\u001b[39m conn.commit()\n\u001b[32m      5\u001b[39m conn.close()\n",
            "\u001b[36mFile \u001b[39m\u001b[32mc:\\Users\\couga\\Documents\\Classes-Local\\ISTA-322-FA24\\Classwork\\venv\\Lib\\site-packages\\mysql\\connector\\cursor_cext.py:473\u001b[39m, in \u001b[36mCMySQLCursor.executemany\u001b[39m\u001b[34m(self, operation, seq_params)\u001b[39m\n\u001b[32m    471\u001b[39m     \u001b[38;5;28;01mif\u001b[39;00m stmt \u001b[38;5;129;01mis\u001b[39;00m \u001b[38;5;129;01mnot\u001b[39;00m \u001b[38;5;28;01mNone\u001b[39;00m:\n\u001b[32m    472\u001b[39m         \u001b[38;5;28mself\u001b[39m._executed = stmt\n\u001b[32m--> \u001b[39m\u001b[32m473\u001b[39m         \u001b[38;5;28;01mreturn\u001b[39;00m \u001b[38;5;28;43mself\u001b[39;49m\u001b[43m.\u001b[49m\u001b[43mexecute\u001b[49m\u001b[43m(\u001b[49m\u001b[43mcast\u001b[49m\u001b[43m(\u001b[49m\u001b[38;5;28;43mstr\u001b[39;49m\u001b[43m,\u001b[49m\u001b[43m \u001b[49m\u001b[43mstmt\u001b[49m\u001b[43m)\u001b[49m\u001b[43m)\u001b[49m\n\u001b[32m    475\u001b[39m rowcnt = \u001b[32m0\u001b[39m\n\u001b[32m    476\u001b[39m \u001b[38;5;28;01mtry\u001b[39;00m:\n\u001b[32m    477\u001b[39m     \u001b[38;5;66;03m# When processing read ops (e.g., SELECT), rowcnt is updated\u001b[39;00m\n\u001b[32m    478\u001b[39m     \u001b[38;5;66;03m# based on self._rowcount. For write ops (e.g., INSERT) is\u001b[39;00m\n\u001b[32m    479\u001b[39m     \u001b[38;5;66;03m# updated based on self._affected_rows.\u001b[39;00m\n\u001b[32m    480\u001b[39m     \u001b[38;5;66;03m# The variable self._description is None for write ops, that's\u001b[39;00m\n\u001b[32m    481\u001b[39m     \u001b[38;5;66;03m# why we use it as indicator for updating rowcnt.\u001b[39;00m\n",
            "\u001b[36mFile \u001b[39m\u001b[32mc:\\Users\\couga\\Documents\\Classes-Local\\ISTA-322-FA24\\Classwork\\venv\\Lib\\site-packages\\mysql\\connector\\cursor_cext.py:353\u001b[39m, in \u001b[36mCMySQLCursor.execute\u001b[39m\u001b[34m(self, operation, params, map_results)\u001b[39m\n\u001b[32m    345\u001b[39m \u001b[38;5;28mself\u001b[39m._executed = (\n\u001b[32m    346\u001b[39m     \u001b[38;5;28mself\u001b[39m._stmt_partition[\u001b[33m\"\u001b[39m\u001b[33msingle_stmts\u001b[39m\u001b[33m\"\u001b[39m].popleft()\n\u001b[32m    347\u001b[39m     \u001b[38;5;28;01mif\u001b[39;00m map_results\n\u001b[32m    348\u001b[39m     \u001b[38;5;28;01melse\u001b[39;00m \u001b[38;5;28mself\u001b[39m._stmt_partition[\u001b[33m\"\u001b[39m\u001b[33mmappable_stmt\u001b[39m\u001b[33m\"\u001b[39m]\n\u001b[32m    349\u001b[39m )\n\u001b[32m    351\u001b[39m \u001b[38;5;28;01mtry\u001b[39;00m:\n\u001b[32m    352\u001b[39m     \u001b[38;5;28mself\u001b[39m._handle_result(\n\u001b[32m--> \u001b[39m\u001b[32m353\u001b[39m         \u001b[38;5;28;43mself\u001b[39;49m\u001b[43m.\u001b[49m\u001b[43m_connection\u001b[49m\u001b[43m.\u001b[49m\u001b[43mcmd_query\u001b[49m\u001b[43m(\u001b[49m\n\u001b[32m    354\u001b[39m \u001b[43m            \u001b[49m\u001b[38;5;28;43mself\u001b[39;49m\u001b[43m.\u001b[49m\u001b[43m_stmt_partition\u001b[49m\u001b[43m[\u001b[49m\u001b[33;43m\"\u001b[39;49m\u001b[33;43mmappable_stmt\u001b[39;49m\u001b[33;43m\"\u001b[39;49m\u001b[43m]\u001b[49m\u001b[43m,\u001b[49m\n\u001b[32m    355\u001b[39m \u001b[43m            \u001b[49m\u001b[43mraw\u001b[49m\u001b[43m=\u001b[49m\u001b[38;5;28;43mself\u001b[39;49m\u001b[43m.\u001b[49m\u001b[43m_raw\u001b[49m\u001b[43m,\u001b[49m\n\u001b[32m    356\u001b[39m \u001b[43m            \u001b[49m\u001b[43mbuffered\u001b[49m\u001b[43m=\u001b[49m\u001b[38;5;28;43mself\u001b[39;49m\u001b[43m.\u001b[49m\u001b[43m_buffered\u001b[49m\u001b[43m,\u001b[49m\n\u001b[32m    357\u001b[39m \u001b[43m            \u001b[49m\u001b[43mraw_as_string\u001b[49m\u001b[43m=\u001b[49m\u001b[38;5;28;43mself\u001b[39;49m\u001b[43m.\u001b[49m\u001b[43m_raw_as_string\u001b[49m\u001b[43m,\u001b[49m\n\u001b[32m    358\u001b[39m \u001b[43m        \u001b[49m\u001b[43m)\u001b[49m\n\u001b[32m    359\u001b[39m     )\n\u001b[32m    360\u001b[39m \u001b[38;5;28;01mexcept\u001b[39;00m MySQLInterfaceError \u001b[38;5;28;01mas\u001b[39;00m err:\n\u001b[32m    361\u001b[39m     \u001b[38;5;28;01mif\u001b[39;00m \u001b[38;5;28mhasattr\u001b[39m(err, \u001b[33m\"\u001b[39m\u001b[33merrno\u001b[39m\u001b[33m\"\u001b[39m):\n",
            "\u001b[36mFile \u001b[39m\u001b[32mc:\\Users\\couga\\Documents\\Classes-Local\\ISTA-322-FA24\\Classwork\\venv\\Lib\\site-packages\\mysql\\connector\\opentelemetry\\context_propagation.py:97\u001b[39m, in \u001b[36mwith_context_propagation.<locals>.wrapper\u001b[39m\u001b[34m(cnx, *args, **kwargs)\u001b[39m\n\u001b[32m     95\u001b[39m \u001b[38;5;66;03m# pylint: disable=possibly-used-before-assignment\u001b[39;00m\n\u001b[32m     96\u001b[39m \u001b[38;5;28;01mif\u001b[39;00m \u001b[38;5;129;01mnot\u001b[39;00m OTEL_ENABLED \u001b[38;5;129;01mor\u001b[39;00m \u001b[38;5;129;01mnot\u001b[39;00m cnx.otel_context_propagation:\n\u001b[32m---> \u001b[39m\u001b[32m97\u001b[39m     \u001b[38;5;28;01mreturn\u001b[39;00m \u001b[43mmethod\u001b[49m\u001b[43m(\u001b[49m\u001b[43mcnx\u001b[49m\u001b[43m,\u001b[49m\u001b[43m \u001b[49m\u001b[43m*\u001b[49m\u001b[43margs\u001b[49m\u001b[43m,\u001b[49m\u001b[43m \u001b[49m\u001b[43m*\u001b[49m\u001b[43m*\u001b[49m\u001b[43mkwargs\u001b[49m\u001b[43m)\u001b[49m\n\u001b[32m     99\u001b[39m current_span = trace.get_current_span()\n\u001b[32m    100\u001b[39m tp_header = \u001b[38;5;28;01mNone\u001b[39;00m\n",
            "\u001b[36mFile \u001b[39m\u001b[32mc:\\Users\\couga\\Documents\\Classes-Local\\ISTA-322-FA24\\Classwork\\venv\\Lib\\site-packages\\mysql\\connector\\connection_cext.py:781\u001b[39m, in \u001b[36mCMySQLConnection.cmd_query\u001b[39m\u001b[34m(self, query, raw, buffered, raw_as_string, **kwargs)\u001b[39m\n\u001b[32m    779\u001b[39m \u001b[38;5;28;01mexcept\u001b[39;00m MySQLInterfaceError \u001b[38;5;28;01mas\u001b[39;00m err:\n\u001b[32m    780\u001b[39m     \u001b[38;5;28;01mif\u001b[39;00m \u001b[38;5;28mhasattr\u001b[39m(err, \u001b[33m\"\u001b[39m\u001b[33merrno\u001b[39m\u001b[33m\"\u001b[39m):\n\u001b[32m--> \u001b[39m\u001b[32m781\u001b[39m         \u001b[38;5;28;01mraise\u001b[39;00m get_mysql_exception(\n\u001b[32m    782\u001b[39m             err.errno, msg=err.msg, sqlstate=err.sqlstate\n\u001b[32m    783\u001b[39m         ) \u001b[38;5;28;01mfrom\u001b[39;00m\u001b[38;5;250m \u001b[39m\u001b[34;01merr\u001b[39;00m\n\u001b[32m    784\u001b[39m     \u001b[38;5;28;01mraise\u001b[39;00m InterfaceError(\u001b[38;5;28mstr\u001b[39m(err)) \u001b[38;5;28;01mfrom\u001b[39;00m\u001b[38;5;250m \u001b[39m\u001b[34;01merr\u001b[39;00m\n\u001b[32m    785\u001b[39m \u001b[38;5;28;01mexcept\u001b[39;00m \u001b[38;5;167;01mAttributeError\u001b[39;00m \u001b[38;5;28;01mas\u001b[39;00m err:\n",
            "\u001b[31mIntegrityError\u001b[39m: 1062 (23000): Duplicate entry '20200316' for key 'coviddb_weekly_stats.PRIMARY'"
          ]
        }
      ],
      "source": [
        "# Upload data\n",
        "conn, cur = get_conn_cur()\n",
        "cur.executemany(iq, data_tups)\n",
        "conn.commit()\n",
        "conn.close()"
      ]
    },
    {
      "cell_type": "markdown",
      "metadata": {
        "id": "BRoOz_dn-sT-"
      },
      "source": [
        "Let's give it a check with a simple query"
      ]
    },
    {
      "cell_type": "code",
      "execution_count": 91,
      "metadata": {
        "id": "tE9jjalHqPuQ"
      },
      "outputs": [
        {
          "data": {
            "text/html": [
              "<div>\n",
              "<style scoped>\n",
              "    .dataframe tbody tr th:only-of-type {\n",
              "        vertical-align: middle;\n",
              "    }\n",
              "\n",
              "    .dataframe tbody tr th {\n",
              "        vertical-align: top;\n",
              "    }\n",
              "\n",
              "    .dataframe thead th {\n",
              "        text-align: right;\n",
              "    }\n",
              "</style>\n",
              "<table border=\"1\" class=\"dataframe\">\n",
              "  <thead>\n",
              "    <tr style=\"text-align: right;\">\n",
              "      <th></th>\n",
              "      <th>COUNT(DISTINCT(wk_st_id))</th>\n",
              "    </tr>\n",
              "  </thead>\n",
              "  <tbody>\n",
              "    <tr>\n",
              "      <th>0</th>\n",
              "      <td>1770</td>\n",
              "    </tr>\n",
              "  </tbody>\n",
              "</table>\n",
              "</div>"
            ],
            "text/plain": [
              "   COUNT(DISTINCT(wk_st_id))\n",
              "0                       1770"
            ]
          },
          "execution_count": 91,
          "metadata": {},
          "output_type": "execute_result"
        }
      ],
      "source": [
        "sq = \"\"\" SELECT COUNT(DISTINCT(wk_st_id)) FROM coviddb_weekly_stats\n",
        "     LIMIT 5;\"\"\"\n",
        "run_query(sq)"
      ]
    },
    {
      "cell_type": "markdown",
      "metadata": {
        "id": "MUMozTaSADlx"
      },
      "source": [
        "**SUCCESS**"
      ]
    },
    {
      "cell_type": "markdown",
      "metadata": {
        "id": "1G_eEaAvAB23"
      },
      "source": [
        "### Add data to states table\n",
        "\n",
        "Wonderful! Can you now go and populate the 'states' table?\n",
        "\n",
        "You'll need to make tuples and modify the insert statement to take only two arguments along with the proper table name and column names"
      ]
    },
    {
      "cell_type": "code",
      "execution_count": 92,
      "metadata": {
        "id": "AhBhhkn9AVo0"
      },
      "outputs": [],
      "source": [
        "import numpy as np\n",
        "data_tups = [tuple(x) for x in states.to_numpy()]\n"
      ]
    },
    {
      "cell_type": "code",
      "execution_count": 93,
      "metadata": {
        "id": "0RO8GO2cAd2A"
      },
      "outputs": [],
      "source": [
        "#get the column names\n"
      ]
    },
    {
      "cell_type": "code",
      "execution_count": 94,
      "metadata": {
        "id": "775P2OKpAlOZ"
      },
      "outputs": [
        {
          "data": {
            "text/plain": [
              "'INSERT INTO states (state_id, state_name) VALUES (2, Arizona);'"
            ]
          },
          "execution_count": 94,
          "metadata": {},
          "output_type": "execute_result"
        }
      ],
      "source": [
        "# new insert query\n",
        "iq = \"\"\"INSERT INTO states (state_id, state_name) VALUES (%s, %s);\"\"\"\n",
        "iq\n",
        "\n",
        "iq % data_tups[2]\n"
      ]
    },
    {
      "cell_type": "code",
      "execution_count": 95,
      "metadata": {
        "id": "tiDQzrOtAW9T"
      },
      "outputs": [
        {
          "ename": "IntegrityError",
          "evalue": "1062 (23000): Duplicate entry '0' for key 'states.PRIMARY'",
          "output_type": "error",
          "traceback": [
            "\u001b[31m---------------------------------------------------------------------------\u001b[39m",
            "\u001b[31mMySQLInterfaceError\u001b[39m                       Traceback (most recent call last)",
            "\u001b[36mFile \u001b[39m\u001b[32mc:\\Users\\couga\\Documents\\Classes-Local\\ISTA-322-FA24\\Classwork\\venv\\Lib\\site-packages\\mysql\\connector\\connection_cext.py:772\u001b[39m, in \u001b[36mCMySQLConnection.cmd_query\u001b[39m\u001b[34m(self, query, raw, buffered, raw_as_string, **kwargs)\u001b[39m\n\u001b[32m    770\u001b[39m     \u001b[38;5;28mself\u001b[39m._local_infile_filenames = \u001b[38;5;28;01mNone\u001b[39;00m\n\u001b[32m--> \u001b[39m\u001b[32m772\u001b[39m     \u001b[38;5;28;43mself\u001b[39;49m\u001b[43m.\u001b[49m\u001b[43m_cmysql\u001b[49m\u001b[43m.\u001b[49m\u001b[43mquery\u001b[49m\u001b[43m(\u001b[49m\n\u001b[32m    773\u001b[39m \u001b[43m        \u001b[49m\u001b[43mquery\u001b[49m\u001b[43m,\u001b[49m\n\u001b[32m    774\u001b[39m \u001b[43m        \u001b[49m\u001b[43mraw\u001b[49m\u001b[43m=\u001b[49m\u001b[43mraw\u001b[49m\u001b[43m,\u001b[49m\n\u001b[32m    775\u001b[39m \u001b[43m        \u001b[49m\u001b[43mbuffered\u001b[49m\u001b[43m=\u001b[49m\u001b[43mbuffered\u001b[49m\u001b[43m,\u001b[49m\n\u001b[32m    776\u001b[39m \u001b[43m        \u001b[49m\u001b[43mraw_as_string\u001b[49m\u001b[43m=\u001b[49m\u001b[43mraw_as_string\u001b[49m\u001b[43m,\u001b[49m\n\u001b[32m    777\u001b[39m \u001b[43m        \u001b[49m\u001b[43mquery_attrs\u001b[49m\u001b[43m=\u001b[49m\u001b[38;5;28;43mself\u001b[39;49m\u001b[43m.\u001b[49m\u001b[43mquery_attrs\u001b[49m\u001b[43m,\u001b[49m\n\u001b[32m    778\u001b[39m \u001b[43m    \u001b[49m\u001b[43m)\u001b[49m\n\u001b[32m    779\u001b[39m \u001b[38;5;28;01mexcept\u001b[39;00m MySQLInterfaceError \u001b[38;5;28;01mas\u001b[39;00m err:\n",
            "\u001b[31mMySQLInterfaceError\u001b[39m: Duplicate entry '0' for key 'states.PRIMARY'",
            "\nThe above exception was the direct cause of the following exception:\n",
            "\u001b[31mIntegrityError\u001b[39m                            Traceback (most recent call last)",
            "\u001b[36mCell\u001b[39m\u001b[36m \u001b[39m\u001b[32mIn[95]\u001b[39m\u001b[32m, line 3\u001b[39m\n\u001b[32m      1\u001b[39m \u001b[38;5;66;03m# Upload data\u001b[39;00m\n\u001b[32m      2\u001b[39m conn, cur = get_conn_cur()\n\u001b[32m----> \u001b[39m\u001b[32m3\u001b[39m \u001b[43mcur\u001b[49m\u001b[43m.\u001b[49m\u001b[43mexecutemany\u001b[49m\u001b[43m(\u001b[49m\u001b[43miq\u001b[49m\u001b[43m,\u001b[49m\u001b[43m \u001b[49m\u001b[43mdata_tups\u001b[49m\u001b[43m)\u001b[49m\n\u001b[32m      4\u001b[39m conn.commit()\n\u001b[32m      5\u001b[39m conn.close()\n",
            "\u001b[36mFile \u001b[39m\u001b[32mc:\\Users\\couga\\Documents\\Classes-Local\\ISTA-322-FA24\\Classwork\\venv\\Lib\\site-packages\\mysql\\connector\\cursor_cext.py:473\u001b[39m, in \u001b[36mCMySQLCursor.executemany\u001b[39m\u001b[34m(self, operation, seq_params)\u001b[39m\n\u001b[32m    471\u001b[39m     \u001b[38;5;28;01mif\u001b[39;00m stmt \u001b[38;5;129;01mis\u001b[39;00m \u001b[38;5;129;01mnot\u001b[39;00m \u001b[38;5;28;01mNone\u001b[39;00m:\n\u001b[32m    472\u001b[39m         \u001b[38;5;28mself\u001b[39m._executed = stmt\n\u001b[32m--> \u001b[39m\u001b[32m473\u001b[39m         \u001b[38;5;28;01mreturn\u001b[39;00m \u001b[38;5;28;43mself\u001b[39;49m\u001b[43m.\u001b[49m\u001b[43mexecute\u001b[49m\u001b[43m(\u001b[49m\u001b[43mcast\u001b[49m\u001b[43m(\u001b[49m\u001b[38;5;28;43mstr\u001b[39;49m\u001b[43m,\u001b[49m\u001b[43m \u001b[49m\u001b[43mstmt\u001b[49m\u001b[43m)\u001b[49m\u001b[43m)\u001b[49m\n\u001b[32m    475\u001b[39m rowcnt = \u001b[32m0\u001b[39m\n\u001b[32m    476\u001b[39m \u001b[38;5;28;01mtry\u001b[39;00m:\n\u001b[32m    477\u001b[39m     \u001b[38;5;66;03m# When processing read ops (e.g., SELECT), rowcnt is updated\u001b[39;00m\n\u001b[32m    478\u001b[39m     \u001b[38;5;66;03m# based on self._rowcount. For write ops (e.g., INSERT) is\u001b[39;00m\n\u001b[32m    479\u001b[39m     \u001b[38;5;66;03m# updated based on self._affected_rows.\u001b[39;00m\n\u001b[32m    480\u001b[39m     \u001b[38;5;66;03m# The variable self._description is None for write ops, that's\u001b[39;00m\n\u001b[32m    481\u001b[39m     \u001b[38;5;66;03m# why we use it as indicator for updating rowcnt.\u001b[39;00m\n",
            "\u001b[36mFile \u001b[39m\u001b[32mc:\\Users\\couga\\Documents\\Classes-Local\\ISTA-322-FA24\\Classwork\\venv\\Lib\\site-packages\\mysql\\connector\\cursor_cext.py:353\u001b[39m, in \u001b[36mCMySQLCursor.execute\u001b[39m\u001b[34m(self, operation, params, map_results)\u001b[39m\n\u001b[32m    345\u001b[39m \u001b[38;5;28mself\u001b[39m._executed = (\n\u001b[32m    346\u001b[39m     \u001b[38;5;28mself\u001b[39m._stmt_partition[\u001b[33m\"\u001b[39m\u001b[33msingle_stmts\u001b[39m\u001b[33m\"\u001b[39m].popleft()\n\u001b[32m    347\u001b[39m     \u001b[38;5;28;01mif\u001b[39;00m map_results\n\u001b[32m    348\u001b[39m     \u001b[38;5;28;01melse\u001b[39;00m \u001b[38;5;28mself\u001b[39m._stmt_partition[\u001b[33m\"\u001b[39m\u001b[33mmappable_stmt\u001b[39m\u001b[33m\"\u001b[39m]\n\u001b[32m    349\u001b[39m )\n\u001b[32m    351\u001b[39m \u001b[38;5;28;01mtry\u001b[39;00m:\n\u001b[32m    352\u001b[39m     \u001b[38;5;28mself\u001b[39m._handle_result(\n\u001b[32m--> \u001b[39m\u001b[32m353\u001b[39m         \u001b[38;5;28;43mself\u001b[39;49m\u001b[43m.\u001b[49m\u001b[43m_connection\u001b[49m\u001b[43m.\u001b[49m\u001b[43mcmd_query\u001b[49m\u001b[43m(\u001b[49m\n\u001b[32m    354\u001b[39m \u001b[43m            \u001b[49m\u001b[38;5;28;43mself\u001b[39;49m\u001b[43m.\u001b[49m\u001b[43m_stmt_partition\u001b[49m\u001b[43m[\u001b[49m\u001b[33;43m\"\u001b[39;49m\u001b[33;43mmappable_stmt\u001b[39;49m\u001b[33;43m\"\u001b[39;49m\u001b[43m]\u001b[49m\u001b[43m,\u001b[49m\n\u001b[32m    355\u001b[39m \u001b[43m            \u001b[49m\u001b[43mraw\u001b[49m\u001b[43m=\u001b[49m\u001b[38;5;28;43mself\u001b[39;49m\u001b[43m.\u001b[49m\u001b[43m_raw\u001b[49m\u001b[43m,\u001b[49m\n\u001b[32m    356\u001b[39m \u001b[43m            \u001b[49m\u001b[43mbuffered\u001b[49m\u001b[43m=\u001b[49m\u001b[38;5;28;43mself\u001b[39;49m\u001b[43m.\u001b[49m\u001b[43m_buffered\u001b[49m\u001b[43m,\u001b[49m\n\u001b[32m    357\u001b[39m \u001b[43m            \u001b[49m\u001b[43mraw_as_string\u001b[49m\u001b[43m=\u001b[49m\u001b[38;5;28;43mself\u001b[39;49m\u001b[43m.\u001b[49m\u001b[43m_raw_as_string\u001b[49m\u001b[43m,\u001b[49m\n\u001b[32m    358\u001b[39m \u001b[43m        \u001b[49m\u001b[43m)\u001b[49m\n\u001b[32m    359\u001b[39m     )\n\u001b[32m    360\u001b[39m \u001b[38;5;28;01mexcept\u001b[39;00m MySQLInterfaceError \u001b[38;5;28;01mas\u001b[39;00m err:\n\u001b[32m    361\u001b[39m     \u001b[38;5;28;01mif\u001b[39;00m \u001b[38;5;28mhasattr\u001b[39m(err, \u001b[33m\"\u001b[39m\u001b[33merrno\u001b[39m\u001b[33m\"\u001b[39m):\n",
            "\u001b[36mFile \u001b[39m\u001b[32mc:\\Users\\couga\\Documents\\Classes-Local\\ISTA-322-FA24\\Classwork\\venv\\Lib\\site-packages\\mysql\\connector\\opentelemetry\\context_propagation.py:97\u001b[39m, in \u001b[36mwith_context_propagation.<locals>.wrapper\u001b[39m\u001b[34m(cnx, *args, **kwargs)\u001b[39m\n\u001b[32m     95\u001b[39m \u001b[38;5;66;03m# pylint: disable=possibly-used-before-assignment\u001b[39;00m\n\u001b[32m     96\u001b[39m \u001b[38;5;28;01mif\u001b[39;00m \u001b[38;5;129;01mnot\u001b[39;00m OTEL_ENABLED \u001b[38;5;129;01mor\u001b[39;00m \u001b[38;5;129;01mnot\u001b[39;00m cnx.otel_context_propagation:\n\u001b[32m---> \u001b[39m\u001b[32m97\u001b[39m     \u001b[38;5;28;01mreturn\u001b[39;00m \u001b[43mmethod\u001b[49m\u001b[43m(\u001b[49m\u001b[43mcnx\u001b[49m\u001b[43m,\u001b[49m\u001b[43m \u001b[49m\u001b[43m*\u001b[49m\u001b[43margs\u001b[49m\u001b[43m,\u001b[49m\u001b[43m \u001b[49m\u001b[43m*\u001b[49m\u001b[43m*\u001b[49m\u001b[43mkwargs\u001b[49m\u001b[43m)\u001b[49m\n\u001b[32m     99\u001b[39m current_span = trace.get_current_span()\n\u001b[32m    100\u001b[39m tp_header = \u001b[38;5;28;01mNone\u001b[39;00m\n",
            "\u001b[36mFile \u001b[39m\u001b[32mc:\\Users\\couga\\Documents\\Classes-Local\\ISTA-322-FA24\\Classwork\\venv\\Lib\\site-packages\\mysql\\connector\\connection_cext.py:781\u001b[39m, in \u001b[36mCMySQLConnection.cmd_query\u001b[39m\u001b[34m(self, query, raw, buffered, raw_as_string, **kwargs)\u001b[39m\n\u001b[32m    779\u001b[39m \u001b[38;5;28;01mexcept\u001b[39;00m MySQLInterfaceError \u001b[38;5;28;01mas\u001b[39;00m err:\n\u001b[32m    780\u001b[39m     \u001b[38;5;28;01mif\u001b[39;00m \u001b[38;5;28mhasattr\u001b[39m(err, \u001b[33m\"\u001b[39m\u001b[33merrno\u001b[39m\u001b[33m\"\u001b[39m):\n\u001b[32m--> \u001b[39m\u001b[32m781\u001b[39m         \u001b[38;5;28;01mraise\u001b[39;00m get_mysql_exception(\n\u001b[32m    782\u001b[39m             err.errno, msg=err.msg, sqlstate=err.sqlstate\n\u001b[32m    783\u001b[39m         ) \u001b[38;5;28;01mfrom\u001b[39;00m\u001b[38;5;250m \u001b[39m\u001b[34;01merr\u001b[39;00m\n\u001b[32m    784\u001b[39m     \u001b[38;5;28;01mraise\u001b[39;00m InterfaceError(\u001b[38;5;28mstr\u001b[39m(err)) \u001b[38;5;28;01mfrom\u001b[39;00m\u001b[38;5;250m \u001b[39m\u001b[34;01merr\u001b[39;00m\n\u001b[32m    785\u001b[39m \u001b[38;5;28;01mexcept\u001b[39;00m \u001b[38;5;167;01mAttributeError\u001b[39;00m \u001b[38;5;28;01mas\u001b[39;00m err:\n",
            "\u001b[31mIntegrityError\u001b[39m: 1062 (23000): Duplicate entry '0' for key 'states.PRIMARY'"
          ]
        }
      ],
      "source": [
        "# Upload data\n",
        "conn, cur = get_conn_cur()\n",
        "cur.executemany(iq, data_tups)\n",
        "conn.commit()\n",
        "conn.close()\n"
      ]
    },
    {
      "cell_type": "code",
      "execution_count": 96,
      "metadata": {},
      "outputs": [
        {
          "data": {
            "text/html": [
              "<div>\n",
              "<style scoped>\n",
              "    .dataframe tbody tr th:only-of-type {\n",
              "        vertical-align: middle;\n",
              "    }\n",
              "\n",
              "    .dataframe tbody tr th {\n",
              "        vertical-align: top;\n",
              "    }\n",
              "\n",
              "    .dataframe thead th {\n",
              "        text-align: right;\n",
              "    }\n",
              "</style>\n",
              "<table border=\"1\" class=\"dataframe\">\n",
              "  <thead>\n",
              "    <tr style=\"text-align: right;\">\n",
              "      <th></th>\n",
              "      <th>COUNT(DISTINCT(state_id))</th>\n",
              "    </tr>\n",
              "  </thead>\n",
              "  <tbody>\n",
              "    <tr>\n",
              "      <th>0</th>\n",
              "      <td>54</td>\n",
              "    </tr>\n",
              "  </tbody>\n",
              "</table>\n",
              "</div>"
            ],
            "text/plain": [
              "   COUNT(DISTINCT(state_id))\n",
              "0                         54"
            ]
          },
          "execution_count": 96,
          "metadata": {},
          "output_type": "execute_result"
        }
      ],
      "source": [
        "sq = \"\"\" SELECT COUNT(DISTINCT(state_id)) FROM states\n",
        "     LIMIT 5;\"\"\"\n",
        "run_query(sq)"
      ]
    },
    {
      "cell_type": "markdown",
      "metadata": {
        "id": "hnVrRQeXq1i6"
      },
      "source": [
        "## Run some test queries!"
      ]
    },
    {
      "cell_type": "code",
      "execution_count": 97,
      "metadata": {
        "id": "5qfG7_yAmnqT"
      },
      "outputs": [
        {
          "data": {
            "text/html": [
              "<div>\n",
              "<style scoped>\n",
              "    .dataframe tbody tr th:only-of-type {\n",
              "        vertical-align: middle;\n",
              "    }\n",
              "\n",
              "    .dataframe tbody tr th {\n",
              "        vertical-align: top;\n",
              "    }\n",
              "\n",
              "    .dataframe thead th {\n",
              "        text-align: right;\n",
              "    }\n",
              "</style>\n",
              "<table border=\"1\" class=\"dataframe\">\n",
              "  <thead>\n",
              "    <tr style=\"text-align: right;\">\n",
              "      <th></th>\n",
              "      <th>state_id</th>\n",
              "      <th>state_name</th>\n",
              "    </tr>\n",
              "  </thead>\n",
              "  <tbody>\n",
              "    <tr>\n",
              "      <th>0</th>\n",
              "      <td>0</td>\n",
              "      <td>Alabama</td>\n",
              "    </tr>\n",
              "    <tr>\n",
              "      <th>1</th>\n",
              "      <td>1</td>\n",
              "      <td>Alaska</td>\n",
              "    </tr>\n",
              "    <tr>\n",
              "      <th>2</th>\n",
              "      <td>10</td>\n",
              "      <td>Georgia</td>\n",
              "    </tr>\n",
              "    <tr>\n",
              "      <th>3</th>\n",
              "      <td>11</td>\n",
              "      <td>Hawaii</td>\n",
              "    </tr>\n",
              "    <tr>\n",
              "      <th>4</th>\n",
              "      <td>12</td>\n",
              "      <td>Idaho</td>\n",
              "    </tr>\n",
              "  </tbody>\n",
              "</table>\n",
              "</div>"
            ],
            "text/plain": [
              "  state_id state_name\n",
              "0        0    Alabama\n",
              "1        1     Alaska\n",
              "2       10    Georgia\n",
              "3       11     Hawaii\n",
              "4       12      Idaho"
            ]
          },
          "execution_count": 97,
          "metadata": {},
          "output_type": "execute_result"
        }
      ],
      "source": [
        "# Test query to look at the first five rows of states\n",
        "sq = \"\"\" SELECT * FROM states\n",
        "     LIMIT 5;\"\"\"\n",
        "run_query(sq)"
      ]
    },
    {
      "cell_type": "code",
      "execution_count": 98,
      "metadata": {
        "id": "6AlVln5PoTKX"
      },
      "outputs": [
        {
          "data": {
            "text/html": [
              "<div>\n",
              "<style scoped>\n",
              "    .dataframe tbody tr th:only-of-type {\n",
              "        vertical-align: middle;\n",
              "    }\n",
              "\n",
              "    .dataframe tbody tr th {\n",
              "        vertical-align: top;\n",
              "    }\n",
              "\n",
              "    .dataframe thead th {\n",
              "        text-align: right;\n",
              "    }\n",
              "</style>\n",
              "<table border=\"1\" class=\"dataframe\">\n",
              "  <thead>\n",
              "    <tr style=\"text-align: right;\">\n",
              "      <th></th>\n",
              "      <th>wk_st_id</th>\n",
              "      <th>date</th>\n",
              "      <th>weekly_cases</th>\n",
              "      <th>weekly_deaths</th>\n",
              "      <th>state_id</th>\n",
              "    </tr>\n",
              "  </thead>\n",
              "  <tbody>\n",
              "    <tr>\n",
              "      <th>0</th>\n",
              "      <td>20200316</td>\n",
              "      <td>2020-03-16</td>\n",
              "      <td>19</td>\n",
              "      <td>0</td>\n",
              "      <td>0</td>\n",
              "    </tr>\n",
              "    <tr>\n",
              "      <th>1</th>\n",
              "      <td>20200323</td>\n",
              "      <td>2020-03-23</td>\n",
              "      <td>151</td>\n",
              "      <td>0</td>\n",
              "      <td>0</td>\n",
              "    </tr>\n",
              "    <tr>\n",
              "      <th>2</th>\n",
              "      <td>20200330</td>\n",
              "      <td>2020-03-30</td>\n",
              "      <td>707</td>\n",
              "      <td>11</td>\n",
              "      <td>0</td>\n",
              "    </tr>\n",
              "    <tr>\n",
              "      <th>3</th>\n",
              "      <td>20200406</td>\n",
              "      <td>2020-04-06</td>\n",
              "      <td>1048</td>\n",
              "      <td>42</td>\n",
              "      <td>0</td>\n",
              "    </tr>\n",
              "    <tr>\n",
              "      <th>4</th>\n",
              "      <td>20200413</td>\n",
              "      <td>2020-04-13</td>\n",
              "      <td>1797</td>\n",
              "      <td>51</td>\n",
              "      <td>0</td>\n",
              "    </tr>\n",
              "  </tbody>\n",
              "</table>\n",
              "</div>"
            ],
            "text/plain": [
              "   wk_st_id       date  weekly_cases  weekly_deaths state_id\n",
              "0  20200316 2020-03-16            19              0        0\n",
              "1  20200323 2020-03-23           151              0        0\n",
              "2  20200330 2020-03-30           707             11        0\n",
              "3  20200406 2020-04-06          1048             42        0\n",
              "4  20200413 2020-04-13          1797             51        0"
            ]
          },
          "execution_count": 98,
          "metadata": {},
          "output_type": "execute_result"
        }
      ],
      "source": [
        "# And weekly_stats\n",
        "sq = \"\"\" SELECT * FROM coviddb_weekly_stats\n",
        "     LIMIT 5;\"\"\"\n",
        "run_query(sq)"
      ]
    },
    {
      "cell_type": "code",
      "execution_count": 99,
      "metadata": {
        "id": "O-ptbT6eCHkp"
      },
      "outputs": [
        {
          "data": {
            "text/html": [
              "<div>\n",
              "<style scoped>\n",
              "    .dataframe tbody tr th:only-of-type {\n",
              "        vertical-align: middle;\n",
              "    }\n",
              "\n",
              "    .dataframe tbody tr th {\n",
              "        vertical-align: top;\n",
              "    }\n",
              "\n",
              "    .dataframe thead th {\n",
              "        text-align: right;\n",
              "    }\n",
              "</style>\n",
              "<table border=\"1\" class=\"dataframe\">\n",
              "  <thead>\n",
              "    <tr style=\"text-align: right;\">\n",
              "      <th></th>\n",
              "      <th>wk_st_id</th>\n",
              "      <th>date</th>\n",
              "      <th>weekly_cases</th>\n",
              "      <th>weekly_deaths</th>\n",
              "      <th>state_id</th>\n",
              "    </tr>\n",
              "  </thead>\n",
              "  <tbody>\n",
              "    <tr>\n",
              "      <th>0</th>\n",
              "      <td>220200127</td>\n",
              "      <td>2020-01-27</td>\n",
              "      <td>0</td>\n",
              "      <td>0</td>\n",
              "      <td>2</td>\n",
              "    </tr>\n",
              "    <tr>\n",
              "      <th>1</th>\n",
              "      <td>220200203</td>\n",
              "      <td>2020-02-03</td>\n",
              "      <td>0</td>\n",
              "      <td>0</td>\n",
              "      <td>2</td>\n",
              "    </tr>\n",
              "    <tr>\n",
              "      <th>2</th>\n",
              "      <td>220200210</td>\n",
              "      <td>2020-02-10</td>\n",
              "      <td>0</td>\n",
              "      <td>0</td>\n",
              "      <td>2</td>\n",
              "    </tr>\n",
              "    <tr>\n",
              "      <th>3</th>\n",
              "      <td>220200217</td>\n",
              "      <td>2020-02-17</td>\n",
              "      <td>0</td>\n",
              "      <td>0</td>\n",
              "      <td>2</td>\n",
              "    </tr>\n",
              "    <tr>\n",
              "      <th>4</th>\n",
              "      <td>220200224</td>\n",
              "      <td>2020-02-24</td>\n",
              "      <td>0</td>\n",
              "      <td>0</td>\n",
              "      <td>2</td>\n",
              "    </tr>\n",
              "  </tbody>\n",
              "</table>\n",
              "</div>"
            ],
            "text/plain": [
              "    wk_st_id       date  weekly_cases  weekly_deaths state_id\n",
              "0  220200127 2020-01-27             0              0        2\n",
              "1  220200203 2020-02-03             0              0        2\n",
              "2  220200210 2020-02-10             0              0        2\n",
              "3  220200217 2020-02-17             0              0        2\n",
              "4  220200224 2020-02-24             0              0        2"
            ]
          },
          "execution_count": 99,
          "metadata": {},
          "output_type": "execute_result"
        }
      ],
      "source": [
        "# Do a subquery getting just weekly stats where the state is 'Arizona'\n",
        "sq = \"\"\" SELECT * FROM coviddb_weekly_stats\n",
        "     WHERE state_id = (SELECT state_id FROM states WHERE state_name = 'Arizona')\n",
        "     LIMIT 5;\"\"\"\n",
        "run_query(sq)"
      ]
    }
  ],
  "metadata": {
    "colab": {
      "provenance": []
    },
    "kernelspec": {
      "display_name": "venv",
      "language": "python",
      "name": "python3"
    },
    "language_info": {
      "codemirror_mode": {
        "name": "ipython",
        "version": 3
      },
      "file_extension": ".py",
      "mimetype": "text/x-python",
      "name": "python",
      "nbconvert_exporter": "python",
      "pygments_lexer": "ipython3",
      "version": "3.12.4"
    }
  },
  "nbformat": 4,
  "nbformat_minor": 0
}
