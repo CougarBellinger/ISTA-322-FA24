{
  "cells": [
    {
      "cell_type": "code",
      "execution_count": 1,
      "metadata": {
        "id": "VoSrtl8L3uwM",
        "tags": [
          "remove-cell"
        ]
      },
      "outputs": [],
      "source": [
        "import sys\n",
        "import os\n",
        "import pandas as pd\n",
        "import matplotlib.pyplot as plt"
      ]
    },
    {
      "cell_type": "markdown",
      "metadata": {
        "id": "wBSKP0Ib3uwN"
      },
      "source": [
        "\n",
        "# Aggregating\n",
        "\n",
        "This section introduces operations for aggregating rows in a dataframe. Data\n",
        "scientists aggregate rows together to make summaries of data. For instance, a\n",
        "dataset containing daily sales can be aggregated to show monthly sales instead.\n",
        "This section introduces *grouping* and *pivoting*, two common operations\n",
        "for aggregating data.\n",
        "\n",
        "We work with the baby names data, as introduced in the previous section:"
      ]
    },
    {
      "cell_type": "code",
      "execution_count": 2,
      "metadata": {
        "id": "gt8OJvC83uwO"
      },
      "outputs": [
        {
          "data": {
            "text/html": [
              "<div>\n",
              "<style scoped>\n",
              "    .dataframe tbody tr th:only-of-type {\n",
              "        vertical-align: middle;\n",
              "    }\n",
              "\n",
              "    .dataframe tbody tr th {\n",
              "        vertical-align: top;\n",
              "    }\n",
              "\n",
              "    .dataframe thead th {\n",
              "        text-align: right;\n",
              "    }\n",
              "</style>\n",
              "<table border=\"1\" class=\"dataframe\">\n",
              "  <thead>\n",
              "    <tr style=\"text-align: right;\">\n",
              "      <th></th>\n",
              "      <th>Name</th>\n",
              "      <th>Sex</th>\n",
              "      <th>Count</th>\n",
              "      <th>Year</th>\n",
              "    </tr>\n",
              "  </thead>\n",
              "  <tbody>\n",
              "    <tr>\n",
              "      <th>0</th>\n",
              "      <td>Liam</td>\n",
              "      <td>M</td>\n",
              "      <td>19659</td>\n",
              "      <td>2020</td>\n",
              "    </tr>\n",
              "    <tr>\n",
              "      <th>1</th>\n",
              "      <td>Noah</td>\n",
              "      <td>M</td>\n",
              "      <td>18252</td>\n",
              "      <td>2020</td>\n",
              "    </tr>\n",
              "    <tr>\n",
              "      <th>2</th>\n",
              "      <td>Oliver</td>\n",
              "      <td>M</td>\n",
              "      <td>14147</td>\n",
              "      <td>2020</td>\n",
              "    </tr>\n",
              "    <tr>\n",
              "      <th>3</th>\n",
              "      <td>Elijah</td>\n",
              "      <td>M</td>\n",
              "      <td>13034</td>\n",
              "      <td>2020</td>\n",
              "    </tr>\n",
              "    <tr>\n",
              "      <th>4</th>\n",
              "      <td>William</td>\n",
              "      <td>M</td>\n",
              "      <td>12541</td>\n",
              "      <td>2020</td>\n",
              "    </tr>\n",
              "    <tr>\n",
              "      <th>...</th>\n",
              "      <td>...</td>\n",
              "      <td>...</td>\n",
              "      <td>...</td>\n",
              "      <td>...</td>\n",
              "    </tr>\n",
              "    <tr>\n",
              "      <th>2020717</th>\n",
              "      <td>Ula</td>\n",
              "      <td>F</td>\n",
              "      <td>5</td>\n",
              "      <td>1880</td>\n",
              "    </tr>\n",
              "    <tr>\n",
              "      <th>2020718</th>\n",
              "      <td>Vannie</td>\n",
              "      <td>F</td>\n",
              "      <td>5</td>\n",
              "      <td>1880</td>\n",
              "    </tr>\n",
              "    <tr>\n",
              "      <th>2020719</th>\n",
              "      <td>Verona</td>\n",
              "      <td>F</td>\n",
              "      <td>5</td>\n",
              "      <td>1880</td>\n",
              "    </tr>\n",
              "    <tr>\n",
              "      <th>2020720</th>\n",
              "      <td>Vertie</td>\n",
              "      <td>F</td>\n",
              "      <td>5</td>\n",
              "      <td>1880</td>\n",
              "    </tr>\n",
              "    <tr>\n",
              "      <th>2020721</th>\n",
              "      <td>Wilma</td>\n",
              "      <td>F</td>\n",
              "      <td>5</td>\n",
              "      <td>1880</td>\n",
              "    </tr>\n",
              "  </tbody>\n",
              "</table>\n",
              "<p>2020722 rows × 4 columns</p>\n",
              "</div>"
            ],
            "text/plain": [
              "            Name Sex  Count  Year\n",
              "0           Liam   M  19659  2020\n",
              "1           Noah   M  18252  2020\n",
              "2         Oliver   M  14147  2020\n",
              "3         Elijah   M  13034  2020\n",
              "4        William   M  12541  2020\n",
              "...          ...  ..    ...   ...\n",
              "2020717      Ula   F      5  1880\n",
              "2020718   Vannie   F      5  1880\n",
              "2020719   Verona   F      5  1880\n",
              "2020720   Vertie   F      5  1880\n",
              "2020721    Wilma   F      5  1880\n",
              "\n",
              "[2020722 rows x 4 columns]"
            ]
          },
          "execution_count": 2,
          "metadata": {},
          "output_type": "execute_result"
        }
      ],
      "source": [
        "baby = pd.read_csv('https://docs.google.com/spreadsheets/d/18WZQ8JB03qRIsG6R2_-nhdrU9erAzRvcMwYGtzTWx-w/gviz/tq?tqx=out:csv')\n",
        "baby"
      ]
    },
    {
      "cell_type": "code",
      "execution_count": null,
      "metadata": {
        "id": "rS1a6InXS4lw"
      },
      "outputs": [],
      "source": []
    },
    {
      "cell_type": "markdown",
      "metadata": {
        "id": "ZqVXSZ9M3uwP"
      },
      "source": [
        "## Basic Group-Aggregate"
      ]
    },
    {
      "cell_type": "markdown",
      "metadata": {
        "id": "sM5E1uDk3uwP"
      },
      "source": [
        "Let's say we want to find out the total number of babies born as recorded in\n",
        "this data. This is simply the sum of the `Count` column:"
      ]
    },
    {
      "cell_type": "code",
      "execution_count": 3,
      "metadata": {
        "id": "obycD71r3uwP"
      },
      "outputs": [
        {
          "data": {
            "text/plain": [
              "np.int64(352554503)"
            ]
          },
          "execution_count": 3,
          "metadata": {},
          "output_type": "execute_result"
        }
      ],
      "source": [
        "baby['Count'].sum()"
      ]
    },
    {
      "cell_type": "markdown",
      "metadata": {
        "id": "aZtTHOw13uwQ"
      },
      "source": [
        "Summing up the name counts is one simple way to aggregate the data---it\n",
        "combines data from multiple rows."
      ]
    },
    {
      "cell_type": "markdown",
      "metadata": {
        "id": "QLs3Q-KO3uwQ"
      },
      "source": [
        "But let's say we instead want to answer a more interesting question: are US\n",
        "births trending upward over time? To answer this question, we can sum the\n",
        "`Count` column within each year rather than taking the sum over the entire\n",
        "dataset. In other words, we split the data into groups based on `Year`,\n",
        "then sum the `Count` values within each group.\n",
        "\n"
      ]
    },
    {
      "cell_type": "markdown",
      "metadata": {
        "id": "RNZsOmN43uwR"
      },
      "source": [
        "We call this operation _grouping_ followed by _aggregating_. In `pandas`,\n",
        "we write:"
      ]
    },
    {
      "cell_type": "code",
      "execution_count": 4,
      "metadata": {
        "id": "yvnE2FA43uwR"
      },
      "outputs": [
        {
          "data": {
            "text/plain": [
              "Year\n",
              "1880     194419\n",
              "1881     185772\n",
              "1882     213385\n",
              "1883     208932\n",
              "1884     234244\n",
              "         ...   \n",
              "2016    3642755\n",
              "2017    3548457\n",
              "2018    3487193\n",
              "2019    3437438\n",
              "2020    3287724\n",
              "Name: Count, Length: 141, dtype: int64"
            ]
          },
          "execution_count": 4,
          "metadata": {},
          "output_type": "execute_result"
        }
      ],
      "source": [
        "baby.groupby('Year')['Count'].sum()"
      ]
    },
    {
      "cell_type": "markdown",
      "metadata": {
        "id": "6rdu_iFu3uwR"
      },
      "source": [
        "Notice that the code is nearly the same as the nongrouped version, except that\n",
        "it starts with a call to `.groupby('Year')`.\n",
        "\n",
        "The result is a `pd.Series` with the total number of babies born for each year in the\n",
        "data. Notice that the index of this series contains the unique `Year` values.\n",
        "Now we can plot the counts over time:"
      ]
    },
    {
      "cell_type": "code",
      "execution_count": 5,
      "metadata": {
        "id": "nla11qgN3uwS"
      },
      "outputs": [
        {
          "data": {
            "text/plain": [
              "Text(0, 0.5, 'Count')"
            ]
          },
          "execution_count": 5,
          "metadata": {},
          "output_type": "execute_result"
        },
        {
          "data": {
            "image/png": "[encoded data removed]",
            "text/plain": [
              "<Figure size 640x480 with 1 Axes>"
            ]
          },
          "metadata": {},
          "output_type": "display_data"
        }
      ],
      "source": [
        "counts_by_year = baby.groupby('Year')['Count'].sum().reset_index()\n",
        "plt.plot(counts_by_year['Year'], counts_by_year['Count'])\n",
        "plt.xlabel('Year')\n",
        "plt.ylabel('Count')"
      ]
    },
    {
      "cell_type": "markdown",
      "metadata": {
        "id": "MoX_ivtT3uwS"
      },
      "source": [
        "What do we see in this plot? First, we notice that there seem to be\n",
        "suspiciously few babies born before 1920. One likely explanation is that the\n",
        "SSA was created in 1935, so its data for prior\n",
        "births could be less complete.\n",
        "\n",
        "We also notice the dip when World War II began in 1939, and the\n",
        "post-war baby boomer era from 1946 to 1964."
      ]
    },
    {
      "cell_type": "markdown",
      "metadata": {
        "id": "kZEJGRbL3uwS"
      },
      "source": [
        "Here's the basic recipe for grouping in `pandas`:\n",
        "\n",
        "```python\n",
        "(baby                # the dataframe\n",
        " .groupby('Year')    # column(s) to group\n",
        " ['Count']           # column(s) to aggregate\n",
        " .sum()              # how to aggregate\n",
        ")\n",
        "```"
      ]
    },
    {
      "cell_type": "markdown",
      "metadata": {
        "id": "MefzSUAqr3ep"
      },
      "source": [
        "Alternatively we can use .agg to do the aggregation. Here we pass a dictionary to .agg. The keys of dictionary are column name and the values are list of aggregation function to be applied to that column."
      ]
    },
    {
      "cell_type": "code",
      "execution_count": 6,
      "metadata": {
        "id": "o0nnpyEDrhfD"
      },
      "outputs": [
        {
          "data": {
            "text/html": [
              "<div>\n",
              "<style scoped>\n",
              "    .dataframe tbody tr th:only-of-type {\n",
              "        vertical-align: middle;\n",
              "    }\n",
              "\n",
              "    .dataframe tbody tr th {\n",
              "        vertical-align: top;\n",
              "    }\n",
              "\n",
              "    .dataframe thead tr th {\n",
              "        text-align: left;\n",
              "    }\n",
              "\n",
              "    .dataframe thead tr:last-of-type th {\n",
              "        text-align: right;\n",
              "    }\n",
              "</style>\n",
              "<table border=\"1\" class=\"dataframe\">\n",
              "  <thead>\n",
              "    <tr>\n",
              "      <th></th>\n",
              "      <th>Count</th>\n",
              "    </tr>\n",
              "    <tr>\n",
              "      <th></th>\n",
              "      <th>sum</th>\n",
              "    </tr>\n",
              "    <tr>\n",
              "      <th>Year</th>\n",
              "      <th></th>\n",
              "    </tr>\n",
              "  </thead>\n",
              "  <tbody>\n",
              "    <tr>\n",
              "      <th>1880</th>\n",
              "      <td>194419</td>\n",
              "    </tr>\n",
              "    <tr>\n",
              "      <th>1881</th>\n",
              "      <td>185772</td>\n",
              "    </tr>\n",
              "    <tr>\n",
              "      <th>1882</th>\n",
              "      <td>213385</td>\n",
              "    </tr>\n",
              "    <tr>\n",
              "      <th>1883</th>\n",
              "      <td>208932</td>\n",
              "    </tr>\n",
              "    <tr>\n",
              "      <th>1884</th>\n",
              "      <td>234244</td>\n",
              "    </tr>\n",
              "    <tr>\n",
              "      <th>...</th>\n",
              "      <td>...</td>\n",
              "    </tr>\n",
              "    <tr>\n",
              "      <th>2016</th>\n",
              "      <td>3642755</td>\n",
              "    </tr>\n",
              "    <tr>\n",
              "      <th>2017</th>\n",
              "      <td>3548457</td>\n",
              "    </tr>\n",
              "    <tr>\n",
              "      <th>2018</th>\n",
              "      <td>3487193</td>\n",
              "    </tr>\n",
              "    <tr>\n",
              "      <th>2019</th>\n",
              "      <td>3437438</td>\n",
              "    </tr>\n",
              "    <tr>\n",
              "      <th>2020</th>\n",
              "      <td>3287724</td>\n",
              "    </tr>\n",
              "  </tbody>\n",
              "</table>\n",
              "<p>141 rows × 1 columns</p>\n",
              "</div>"
            ],
            "text/plain": [
              "        Count\n",
              "          sum\n",
              "Year         \n",
              "1880   194419\n",
              "1881   185772\n",
              "1882   213385\n",
              "1883   208932\n",
              "1884   234244\n",
              "...       ...\n",
              "2016  3642755\n",
              "2017  3548457\n",
              "2018  3487193\n",
              "2019  3437438\n",
              "2020  3287724\n",
              "\n",
              "[141 rows x 1 columns]"
            ]
          },
          "execution_count": 6,
          "metadata": {},
          "output_type": "execute_result"
        }
      ],
      "source": [
        "baby.groupby('Year').agg({'Count':['sum']})"
      ]
    },
    {
      "cell_type": "code",
      "execution_count": 7,
      "metadata": {
        "id": "CUw3ORbZsZvK"
      },
      "outputs": [
        {
          "data": {
            "text/html": [
              "<div>\n",
              "<style scoped>\n",
              "    .dataframe tbody tr th:only-of-type {\n",
              "        vertical-align: middle;\n",
              "    }\n",
              "\n",
              "    .dataframe tbody tr th {\n",
              "        vertical-align: top;\n",
              "    }\n",
              "\n",
              "    .dataframe thead tr th {\n",
              "        text-align: left;\n",
              "    }\n",
              "\n",
              "    .dataframe thead tr:last-of-type th {\n",
              "        text-align: right;\n",
              "    }\n",
              "</style>\n",
              "<table border=\"1\" class=\"dataframe\">\n",
              "  <thead>\n",
              "    <tr>\n",
              "      <th></th>\n",
              "      <th colspan=\"2\" halign=\"left\">Count</th>\n",
              "    </tr>\n",
              "    <tr>\n",
              "      <th></th>\n",
              "      <th>sum</th>\n",
              "      <th>max</th>\n",
              "    </tr>\n",
              "    <tr>\n",
              "      <th>Year</th>\n",
              "      <th></th>\n",
              "      <th></th>\n",
              "    </tr>\n",
              "  </thead>\n",
              "  <tbody>\n",
              "    <tr>\n",
              "      <th>1880</th>\n",
              "      <td>194419</td>\n",
              "      <td>9655</td>\n",
              "    </tr>\n",
              "    <tr>\n",
              "      <th>1881</th>\n",
              "      <td>185772</td>\n",
              "      <td>8769</td>\n",
              "    </tr>\n",
              "    <tr>\n",
              "      <th>1882</th>\n",
              "      <td>213385</td>\n",
              "      <td>9557</td>\n",
              "    </tr>\n",
              "    <tr>\n",
              "      <th>1883</th>\n",
              "      <td>208932</td>\n",
              "      <td>8894</td>\n",
              "    </tr>\n",
              "    <tr>\n",
              "      <th>1884</th>\n",
              "      <td>234244</td>\n",
              "      <td>9388</td>\n",
              "    </tr>\n",
              "    <tr>\n",
              "      <th>...</th>\n",
              "      <td>...</td>\n",
              "      <td>...</td>\n",
              "    </tr>\n",
              "    <tr>\n",
              "      <th>2016</th>\n",
              "      <td>3642755</td>\n",
              "      <td>19380</td>\n",
              "    </tr>\n",
              "    <tr>\n",
              "      <th>2017</th>\n",
              "      <td>3548457</td>\n",
              "      <td>18824</td>\n",
              "    </tr>\n",
              "    <tr>\n",
              "      <th>2018</th>\n",
              "      <td>3487193</td>\n",
              "      <td>19924</td>\n",
              "    </tr>\n",
              "    <tr>\n",
              "      <th>2019</th>\n",
              "      <td>3437438</td>\n",
              "      <td>20555</td>\n",
              "    </tr>\n",
              "    <tr>\n",
              "      <th>2020</th>\n",
              "      <td>3287724</td>\n",
              "      <td>19659</td>\n",
              "    </tr>\n",
              "  </tbody>\n",
              "</table>\n",
              "<p>141 rows × 2 columns</p>\n",
              "</div>"
            ],
            "text/plain": [
              "        Count       \n",
              "          sum    max\n",
              "Year                \n",
              "1880   194419   9655\n",
              "1881   185772   8769\n",
              "1882   213385   9557\n",
              "1883   208932   8894\n",
              "1884   234244   9388\n",
              "...       ...    ...\n",
              "2016  3642755  19380\n",
              "2017  3548457  18824\n",
              "2018  3487193  19924\n",
              "2019  3437438  20555\n",
              "2020  3287724  19659\n",
              "\n",
              "[141 rows x 2 columns]"
            ]
          },
          "execution_count": 7,
          "metadata": {},
          "output_type": "execute_result"
        }
      ],
      "source": [
        "baby.groupby('Year').agg({'Count':['sum', 'max']})"
      ]
    },
    {
      "cell_type": "markdown",
      "metadata": {
        "id": "XnvUTaCD3uwT",
        "tags": [],
        "user_expressions": []
      },
      "source": [
        "### Example: Using .value_counts()"
      ]
    },
    {
      "cell_type": "markdown",
      "metadata": {
        "id": "Wb18zv2x3uwT"
      },
      "source": [
        "One of the more common dataframe tasks is to count the number of times every unique item in a column appears. For example, we might be interested in the number of times each name appears in the  following `classroom` dataframe:"
      ]
    },
    {
      "cell_type": "code",
      "execution_count": 8,
      "metadata": {
        "id": "xlKXT5ih3uwT",
        "tags": [
          "remove-cell"
        ]
      },
      "outputs": [],
      "source": [
        "classroom = pd.DataFrame({\n",
        "    'name': ['Eden', 'Sachit', 'Eden', 'Sachit', 'Sachit', 'Luke'],\n",
        "})"
      ]
    },
    {
      "cell_type": "code",
      "execution_count": 9,
      "metadata": {
        "id": "fPHERkl-3uwT"
      },
      "outputs": [
        {
          "data": {
            "text/html": [
              "<div>\n",
              "<style scoped>\n",
              "    .dataframe tbody tr th:only-of-type {\n",
              "        vertical-align: middle;\n",
              "    }\n",
              "\n",
              "    .dataframe tbody tr th {\n",
              "        vertical-align: top;\n",
              "    }\n",
              "\n",
              "    .dataframe thead th {\n",
              "        text-align: right;\n",
              "    }\n",
              "</style>\n",
              "<table border=\"1\" class=\"dataframe\">\n",
              "  <thead>\n",
              "    <tr style=\"text-align: right;\">\n",
              "      <th></th>\n",
              "      <th>name</th>\n",
              "    </tr>\n",
              "  </thead>\n",
              "  <tbody>\n",
              "    <tr>\n",
              "      <th>0</th>\n",
              "      <td>Eden</td>\n",
              "    </tr>\n",
              "    <tr>\n",
              "      <th>1</th>\n",
              "      <td>Sachit</td>\n",
              "    </tr>\n",
              "    <tr>\n",
              "      <th>2</th>\n",
              "      <td>Eden</td>\n",
              "    </tr>\n",
              "    <tr>\n",
              "      <th>3</th>\n",
              "      <td>Sachit</td>\n",
              "    </tr>\n",
              "    <tr>\n",
              "      <th>4</th>\n",
              "      <td>Sachit</td>\n",
              "    </tr>\n",
              "    <tr>\n",
              "      <th>5</th>\n",
              "      <td>Luke</td>\n",
              "    </tr>\n",
              "  </tbody>\n",
              "</table>\n",
              "</div>"
            ],
            "text/plain": [
              "     name\n",
              "0    Eden\n",
              "1  Sachit\n",
              "2    Eden\n",
              "3  Sachit\n",
              "4  Sachit\n",
              "5    Luke"
            ]
          },
          "execution_count": 9,
          "metadata": {},
          "output_type": "execute_result"
        }
      ],
      "source": [
        "classroom"
      ]
    },
    {
      "cell_type": "markdown",
      "metadata": {
        "id": "zYcD_WxA3uwU"
      },
      "source": [
        "One way to do this is to use our grouping recipe with the `.size()` aggregation function:"
      ]
    },
    {
      "cell_type": "code",
      "execution_count": 10,
      "metadata": {
        "id": "7lMmjp-C3uwU"
      },
      "outputs": [
        {
          "data": {
            "text/plain": [
              "name\n",
              "Eden      2\n",
              "Luke      1\n",
              "Sachit    3\n",
              "Name: name, dtype: int64"
            ]
          },
          "execution_count": 10,
          "metadata": {},
          "output_type": "execute_result"
        }
      ],
      "source": [
        "(classroom\n",
        " .groupby('name')\n",
        " ['name']\n",
        " .size()\n",
        ")"
      ]
    },
    {
      "cell_type": "markdown",
      "metadata": {
        "id": "2Y5HCXea3uwU"
      },
      "source": [
        "This operation is so common that `pandas` provides a shorthand—the `.value_counts()` method for `pd.Series` objects:"
      ]
    },
    {
      "cell_type": "code",
      "execution_count": 11,
      "metadata": {
        "id": "AIo6qFbb3uwV"
      },
      "outputs": [
        {
          "data": {
            "text/plain": [
              "name\n",
              "Sachit    3\n",
              "Eden      2\n",
              "Luke      1\n",
              "Name: count, dtype: int64"
            ]
          },
          "execution_count": 11,
          "metadata": {},
          "output_type": "execute_result"
        }
      ],
      "source": [
        "classroom['name'].value_counts()"
      ]
    },
    {
      "cell_type": "markdown",
      "metadata": {
        "id": "ZB6X2AYf3uwV"
      },
      "source": [
        "By default, the `.value_counts()` method will sort the resulting series from highest to lowest number, making it convenient to see the most and least common values. We point out this method because we use it often in other chapters of the book."
      ]
    },
    {
      "cell_type": "markdown",
      "metadata": {
        "id": "20EXYq3a3uwV"
      },
      "source": [
        "## Grouping on Multiple Columns\n",
        "\n",
        "We pass multiple columns into `.groupby` as a list to group by multiple\n",
        "columns at once. This is useful when we need to further subdivide our groups.\n",
        "For example, we can group by both year and sex to see how many male and female\n",
        "babies were born over time:"
      ]
    },
    {
      "cell_type": "code",
      "execution_count": 12,
      "metadata": {
        "id": "fXTZ0dUX3uwV"
      },
      "outputs": [
        {
          "data": {
            "text/plain": [
              "Year  Sex\n",
              "1880  F        83929\n",
              "      M       110490\n",
              "1881  F        85034\n",
              "      M       100738\n",
              "1882  F        99699\n",
              "              ...   \n",
              "2018  M      1810309\n",
              "2019  F      1651911\n",
              "      M      1785527\n",
              "2020  F      1581301\n",
              "      M      1706423\n",
              "Name: Count, Length: 282, dtype: int64"
            ]
          },
          "execution_count": 12,
          "metadata": {},
          "output_type": "execute_result"
        }
      ],
      "source": [
        "counts_by_year_and_sex = (baby\n",
        " .groupby(['Year', 'Sex']) # Arg to groupby is a list of column names\n",
        " ['Count']\n",
        " .sum()\n",
        ")\n",
        "counts_by_year_and_sex"
      ]
    },
    {
      "cell_type": "markdown",
      "metadata": {
        "id": "BMPzYVSm3uwW"
      },
      "source": [
        "Notice how the code closely follows the grouping recipe.\n",
        "\n",
        "The `counts_by_year_and_sex` series has what we call a multilevel index with\n",
        "two levels, one for each column that was grouped. It's a bit easier to see if\n",
        "we convert the series to a dataframe:"
      ]
    },
    {
      "cell_type": "code",
      "execution_count": 13,
      "metadata": {
        "id": "PD7Tb1em3uwW"
      },
      "outputs": [
        {
          "data": {
            "text/html": [
              "<div>\n",
              "<style scoped>\n",
              "    .dataframe tbody tr th:only-of-type {\n",
              "        vertical-align: middle;\n",
              "    }\n",
              "\n",
              "    .dataframe tbody tr th {\n",
              "        vertical-align: top;\n",
              "    }\n",
              "\n",
              "    .dataframe thead th {\n",
              "        text-align: right;\n",
              "    }\n",
              "</style>\n",
              "<table border=\"1\" class=\"dataframe\">\n",
              "  <thead>\n",
              "    <tr style=\"text-align: right;\">\n",
              "      <th></th>\n",
              "      <th></th>\n",
              "      <th>Count</th>\n",
              "    </tr>\n",
              "    <tr>\n",
              "      <th>Year</th>\n",
              "      <th>Sex</th>\n",
              "      <th></th>\n",
              "    </tr>\n",
              "  </thead>\n",
              "  <tbody>\n",
              "    <tr>\n",
              "      <th rowspan=\"2\" valign=\"top\">1880</th>\n",
              "      <th>F</th>\n",
              "      <td>83929</td>\n",
              "    </tr>\n",
              "    <tr>\n",
              "      <th>M</th>\n",
              "      <td>110490</td>\n",
              "    </tr>\n",
              "    <tr>\n",
              "      <th rowspan=\"2\" valign=\"top\">1881</th>\n",
              "      <th>F</th>\n",
              "      <td>85034</td>\n",
              "    </tr>\n",
              "    <tr>\n",
              "      <th>M</th>\n",
              "      <td>100738</td>\n",
              "    </tr>\n",
              "    <tr>\n",
              "      <th>1882</th>\n",
              "      <th>F</th>\n",
              "      <td>99699</td>\n",
              "    </tr>\n",
              "    <tr>\n",
              "      <th>...</th>\n",
              "      <th>...</th>\n",
              "      <td>...</td>\n",
              "    </tr>\n",
              "    <tr>\n",
              "      <th>2018</th>\n",
              "      <th>M</th>\n",
              "      <td>1810309</td>\n",
              "    </tr>\n",
              "    <tr>\n",
              "      <th rowspan=\"2\" valign=\"top\">2019</th>\n",
              "      <th>F</th>\n",
              "      <td>1651911</td>\n",
              "    </tr>\n",
              "    <tr>\n",
              "      <th>M</th>\n",
              "      <td>1785527</td>\n",
              "    </tr>\n",
              "    <tr>\n",
              "      <th rowspan=\"2\" valign=\"top\">2020</th>\n",
              "      <th>F</th>\n",
              "      <td>1581301</td>\n",
              "    </tr>\n",
              "    <tr>\n",
              "      <th>M</th>\n",
              "      <td>1706423</td>\n",
              "    </tr>\n",
              "  </tbody>\n",
              "</table>\n",
              "<p>282 rows × 1 columns</p>\n",
              "</div>"
            ],
            "text/plain": [
              "            Count\n",
              "Year Sex         \n",
              "1880 F      83929\n",
              "     M     110490\n",
              "1881 F      85034\n",
              "     M     100738\n",
              "1882 F      99699\n",
              "...           ...\n",
              "2018 M    1810309\n",
              "2019 F    1651911\n",
              "     M    1785527\n",
              "2020 F    1581301\n",
              "     M    1706423\n",
              "\n",
              "[282 rows x 1 columns]"
            ]
          },
          "execution_count": 13,
          "metadata": {},
          "output_type": "execute_result"
        }
      ],
      "source": [
        "# The result only has one column\n",
        "counts_by_year_and_sex.to_frame()"
      ]
    },
    {
      "cell_type": "markdown",
      "metadata": {
        "id": "7KjYS8tm3uwW"
      },
      "source": [
        "There are two levels to the index because we grouped by two columns. It can be\n",
        "a bit tricky to work with multilevel indices, so we can reset the index to go\n",
        "back to a dataframe with a single index:"
      ]
    },
    {
      "cell_type": "code",
      "execution_count": 14,
      "metadata": {
        "id": "oUX5TExO3uwW"
      },
      "outputs": [
        {
          "data": {
            "text/html": [
              "<div>\n",
              "<style scoped>\n",
              "    .dataframe tbody tr th:only-of-type {\n",
              "        vertical-align: middle;\n",
              "    }\n",
              "\n",
              "    .dataframe tbody tr th {\n",
              "        vertical-align: top;\n",
              "    }\n",
              "\n",
              "    .dataframe thead th {\n",
              "        text-align: right;\n",
              "    }\n",
              "</style>\n",
              "<table border=\"1\" class=\"dataframe\">\n",
              "  <thead>\n",
              "    <tr style=\"text-align: right;\">\n",
              "      <th></th>\n",
              "      <th>Year</th>\n",
              "      <th>Sex</th>\n",
              "      <th>Count</th>\n",
              "    </tr>\n",
              "  </thead>\n",
              "  <tbody>\n",
              "    <tr>\n",
              "      <th>0</th>\n",
              "      <td>1880</td>\n",
              "      <td>F</td>\n",
              "      <td>83929</td>\n",
              "    </tr>\n",
              "    <tr>\n",
              "      <th>1</th>\n",
              "      <td>1880</td>\n",
              "      <td>M</td>\n",
              "      <td>110490</td>\n",
              "    </tr>\n",
              "    <tr>\n",
              "      <th>2</th>\n",
              "      <td>1881</td>\n",
              "      <td>F</td>\n",
              "      <td>85034</td>\n",
              "    </tr>\n",
              "    <tr>\n",
              "      <th>3</th>\n",
              "      <td>1881</td>\n",
              "      <td>M</td>\n",
              "      <td>100738</td>\n",
              "    </tr>\n",
              "    <tr>\n",
              "      <th>4</th>\n",
              "      <td>1882</td>\n",
              "      <td>F</td>\n",
              "      <td>99699</td>\n",
              "    </tr>\n",
              "    <tr>\n",
              "      <th>...</th>\n",
              "      <td>...</td>\n",
              "      <td>...</td>\n",
              "      <td>...</td>\n",
              "    </tr>\n",
              "    <tr>\n",
              "      <th>277</th>\n",
              "      <td>2018</td>\n",
              "      <td>M</td>\n",
              "      <td>1810309</td>\n",
              "    </tr>\n",
              "    <tr>\n",
              "      <th>278</th>\n",
              "      <td>2019</td>\n",
              "      <td>F</td>\n",
              "      <td>1651911</td>\n",
              "    </tr>\n",
              "    <tr>\n",
              "      <th>279</th>\n",
              "      <td>2019</td>\n",
              "      <td>M</td>\n",
              "      <td>1785527</td>\n",
              "    </tr>\n",
              "    <tr>\n",
              "      <th>280</th>\n",
              "      <td>2020</td>\n",
              "      <td>F</td>\n",
              "      <td>1581301</td>\n",
              "    </tr>\n",
              "    <tr>\n",
              "      <th>281</th>\n",
              "      <td>2020</td>\n",
              "      <td>M</td>\n",
              "      <td>1706423</td>\n",
              "    </tr>\n",
              "  </tbody>\n",
              "</table>\n",
              "<p>282 rows × 3 columns</p>\n",
              "</div>"
            ],
            "text/plain": [
              "     Year Sex    Count\n",
              "0    1880   F    83929\n",
              "1    1880   M   110490\n",
              "2    1881   F    85034\n",
              "3    1881   M   100738\n",
              "4    1882   F    99699\n",
              "..    ...  ..      ...\n",
              "277  2018   M  1810309\n",
              "278  2019   F  1651911\n",
              "279  2019   M  1785527\n",
              "280  2020   F  1581301\n",
              "281  2020   M  1706423\n",
              "\n",
              "[282 rows x 3 columns]"
            ]
          },
          "execution_count": 14,
          "metadata": {},
          "output_type": "execute_result"
        }
      ],
      "source": [
        "counts_by_year_and_sex.reset_index()"
      ]
    },
    {
      "cell_type": "markdown",
      "metadata": {
        "id": "qrqU14nG3uwX"
      },
      "source": [
        "## Custom Aggregation Functions\n",
        "\n",
        "After grouping, `pandas` gives us flexible ways to aggregate the data. So far,\n",
        "we've seen how to use `.sum()` after grouping:"
      ]
    },
    {
      "cell_type": "code",
      "execution_count": 15,
      "metadata": {
        "id": "gxXQldOo3uwX"
      },
      "outputs": [
        {
          "data": {
            "text/plain": [
              "Year\n",
              "1880     194419\n",
              "1881     185772\n",
              "1882     213385\n",
              "1883     208932\n",
              "1884     234244\n",
              "         ...   \n",
              "2016    3642755\n",
              "2017    3548457\n",
              "2018    3487193\n",
              "2019    3437438\n",
              "2020    3287724\n",
              "Name: Count, Length: 141, dtype: int64"
            ]
          },
          "execution_count": 15,
          "metadata": {},
          "output_type": "execute_result"
        }
      ],
      "source": [
        "(baby\n",
        " .groupby('Year')\n",
        " ['Count']\n",
        " .sum() # aggregate by summing\n",
        ")"
      ]
    },
    {
      "cell_type": "markdown",
      "metadata": {
        "id": "EIiwNN2u3uwX"
      },
      "source": [
        "`pandas` also supplies other aggregation functions, like `.mean()`, `.size()`,\n",
        "and `.first()`. Here's the same grouping using `.max()`:"
      ]
    },
    {
      "cell_type": "code",
      "execution_count": 16,
      "metadata": {
        "id": "GZvkbTaB3uwX"
      },
      "outputs": [
        {
          "data": {
            "text/plain": [
              "Year\n",
              "1880     9655\n",
              "1881     8769\n",
              "1882     9557\n",
              "1883     8894\n",
              "1884     9388\n",
              "        ...  \n",
              "2016    19380\n",
              "2017    18824\n",
              "2018    19924\n",
              "2019    20555\n",
              "2020    19659\n",
              "Name: Count, Length: 141, dtype: int64"
            ]
          },
          "execution_count": 16,
          "metadata": {},
          "output_type": "execute_result"
        }
      ],
      "source": [
        "(baby\n",
        " .groupby('Year')\n",
        " ['Count']\n",
        " .max() # aggregate by taking the max within each group\n",
        ")"
      ]
    },
    {
      "cell_type": "markdown",
      "metadata": {
        "id": "EUFp6MDS3uwY"
      },
      "source": [
        "But sometimes `pandas` doesn't have the exact aggregation function we want to\n",
        "use. In these cases, we can define and use a custom aggregation function.\n",
        "`pandas` lets us do this through `.agg(fn)`, where `fn` is a function that we\n",
        "define.\n",
        "\n",
        "For instance, if we want to find the difference between the largest and\n",
        "smallest values within each group (the range of the data), we could first\n",
        "define a function called `data_range`, then pass that function into `.agg()`:"
      ]
    },
    {
      "cell_type": "code",
      "execution_count": 17,
      "metadata": {
        "id": "R9sLa6jt3uwY"
      },
      "outputs": [
        {
          "data": {
            "text/plain": [
              "Year\n",
              "1880     9650\n",
              "1881     8764\n",
              "1882     9552\n",
              "1883     8889\n",
              "1884     9383\n",
              "        ...  \n",
              "2016    19375\n",
              "2017    18819\n",
              "2018    19919\n",
              "2019    20550\n",
              "2020    19654\n",
              "Name: Count, Length: 141, dtype: int64"
            ]
          },
          "execution_count": 17,
          "metadata": {},
          "output_type": "execute_result"
        }
      ],
      "source": [
        "# The input to this function is a pd.Series object containing a single column\n",
        "# of data. It gets called once for each group.\n",
        "def data_range(counts):\n",
        "    return counts.max() - counts.min()\n",
        "\n",
        "(baby\n",
        " .groupby('Year')\n",
        " ['Count']\n",
        " .agg(data_range) # aggregate using custom function\n",
        ")\n"
      ]
    },
    {
      "cell_type": "markdown",
      "metadata": {
        "id": "Ca8rUEjj3uwY"
      },
      "source": [
        "We start by defining a `count_unique` function that counts the number of\n",
        "unique values in a series. Then we pass that function into `.agg()`:"
      ]
    },
    {
      "cell_type": "code",
      "execution_count": 18,
      "metadata": {
        "id": "nLfIzWZz3uwY"
      },
      "outputs": [
        {
          "data": {
            "text/plain": [
              "Year\n",
              "1880     1889\n",
              "1881     1829\n",
              "1882     2012\n",
              "1883     1962\n",
              "1884     2158\n",
              "        ...  \n",
              "2016    30431\n",
              "2017    30042\n",
              "2018    29619\n",
              "2019    29417\n",
              "2020    28613\n",
              "Name: Name, Length: 141, dtype: int64"
            ]
          },
          "execution_count": 18,
          "metadata": {},
          "output_type": "execute_result"
        }
      ],
      "source": [
        "# Since this function is short, we could use a lambda instead\n",
        "def count_unique(s):\n",
        "    return len(s.unique())\n",
        "\n",
        "unique_names_by_year = (baby\n",
        " .groupby('Year')\n",
        " ['Name']\n",
        " .agg(count_unique) # aggregate using the custom count_unique function\n",
        ")\n",
        "unique_names_by_year"
      ]
    },
    {
      "cell_type": "code",
      "execution_count": 19,
      "metadata": {
        "id": "M2lQ9pq33uwZ"
      },
      "outputs": [
        {
          "data": {
            "image/png": "[encoded data removed]",
            "text/plain": [
              "<Figure size 640x480 with 1 Axes>"
            ]
          },
          "metadata": {},
          "output_type": "display_data"
        }
      ],
      "source": [
        "unique_names_by_year = unique_names_by_year.reset_index();\n",
        "plt.plot(unique_names_by_year['Year'], unique_names_by_year['Name']);\n",
        "plt.xlabel('Year');\n",
        "plt.ylabel('Name');\n"
      ]
    },
    {
      "cell_type": "markdown",
      "metadata": {
        "id": "U4DKUsNd3uwZ"
      },
      "source": [
        "We see that the number of unique names has generally increased over time, even\n",
        "though the number of babies born annually has plateaued since the 1960s."
      ]
    },
    {
      "cell_type": "markdown",
      "metadata": {
        "id": "JTM2VUT73uwZ"
      },
      "source": [
        "## Pivoting\n",
        "\n",
        "Pivoting is essentially a convenient way to arrange the results of a group and\n",
        "aggregation when grouping with two columns. Earlier in this section we grouped\n",
        "the baby names data by year and sex:"
      ]
    },
    {
      "cell_type": "code",
      "execution_count": null,
      "metadata": {
        "id": "O0PI3R-33uwZ"
      },
      "outputs": [],
      "source": [
        "counts_by_year_and_sex = (baby\n",
        " .groupby(['Year', 'Sex'])\n",
        " ['Count']\n",
        " .sum()\n",
        ")\n",
        "counts_by_year_and_sex.to_frame()"
      ]
    },
    {
      "cell_type": "markdown",
      "metadata": {
        "id": "XBK6GxYc3uwa"
      },
      "source": [
        "This produces a `pd.Series` with the counts. We can also imagine the same data\n",
        "with the `Sex` index level \"pivoted\" to the columns of a dataframe. It's easier\n",
        "to see with an example:"
      ]
    },
    {
      "cell_type": "code",
      "execution_count": 20,
      "metadata": {
        "id": "W_ovrQOJ3uwa"
      },
      "outputs": [
        {
          "name": "stderr",
          "output_type": "stream",
          "text": [
            "C:\\Users\\couga\\AppData\\Local\\Temp\\ipykernel_24900\\728278800.py:1: FutureWarning: The provided callable <built-in function sum> is currently using DataFrameGroupBy.sum. In a future version of pandas, the provided callable will be used directly. To keep current behavior pass the string \"sum\" instead.\n",
            "  mf_pivot = pd.pivot_table(\n"
          ]
        },
        {
          "data": {
            "text/html": [
              "<div>\n",
              "<style scoped>\n",
              "    .dataframe tbody tr th:only-of-type {\n",
              "        vertical-align: middle;\n",
              "    }\n",
              "\n",
              "    .dataframe tbody tr th {\n",
              "        vertical-align: top;\n",
              "    }\n",
              "\n",
              "    .dataframe thead th {\n",
              "        text-align: right;\n",
              "    }\n",
              "</style>\n",
              "<table border=\"1\" class=\"dataframe\">\n",
              "  <thead>\n",
              "    <tr style=\"text-align: right;\">\n",
              "      <th>Sex</th>\n",
              "      <th>F</th>\n",
              "      <th>M</th>\n",
              "    </tr>\n",
              "    <tr>\n",
              "      <th>Year</th>\n",
              "      <th></th>\n",
              "      <th></th>\n",
              "    </tr>\n",
              "  </thead>\n",
              "  <tbody>\n",
              "    <tr>\n",
              "      <th>1880</th>\n",
              "      <td>83929</td>\n",
              "      <td>110490</td>\n",
              "    </tr>\n",
              "    <tr>\n",
              "      <th>1881</th>\n",
              "      <td>85034</td>\n",
              "      <td>100738</td>\n",
              "    </tr>\n",
              "    <tr>\n",
              "      <th>1882</th>\n",
              "      <td>99699</td>\n",
              "      <td>113686</td>\n",
              "    </tr>\n",
              "    <tr>\n",
              "      <th>1883</th>\n",
              "      <td>104307</td>\n",
              "      <td>104625</td>\n",
              "    </tr>\n",
              "    <tr>\n",
              "      <th>1884</th>\n",
              "      <td>119802</td>\n",
              "      <td>114442</td>\n",
              "    </tr>\n",
              "    <tr>\n",
              "      <th>...</th>\n",
              "      <td>...</td>\n",
              "      <td>...</td>\n",
              "    </tr>\n",
              "    <tr>\n",
              "      <th>2016</th>\n",
              "      <td>1748838</td>\n",
              "      <td>1893917</td>\n",
              "    </tr>\n",
              "    <tr>\n",
              "      <th>2017</th>\n",
              "      <td>1702303</td>\n",
              "      <td>1846154</td>\n",
              "    </tr>\n",
              "    <tr>\n",
              "      <th>2018</th>\n",
              "      <td>1676884</td>\n",
              "      <td>1810309</td>\n",
              "    </tr>\n",
              "    <tr>\n",
              "      <th>2019</th>\n",
              "      <td>1651911</td>\n",
              "      <td>1785527</td>\n",
              "    </tr>\n",
              "    <tr>\n",
              "      <th>2020</th>\n",
              "      <td>1581301</td>\n",
              "      <td>1706423</td>\n",
              "    </tr>\n",
              "  </tbody>\n",
              "</table>\n",
              "<p>141 rows × 2 columns</p>\n",
              "</div>"
            ],
            "text/plain": [
              "Sex         F        M\n",
              "Year                  \n",
              "1880    83929   110490\n",
              "1881    85034   100738\n",
              "1882    99699   113686\n",
              "1883   104307   104625\n",
              "1884   119802   114442\n",
              "...       ...      ...\n",
              "2016  1748838  1893917\n",
              "2017  1702303  1846154\n",
              "2018  1676884  1810309\n",
              "2019  1651911  1785527\n",
              "2020  1581301  1706423\n",
              "\n",
              "[141 rows x 2 columns]"
            ]
          },
          "execution_count": 20,
          "metadata": {},
          "output_type": "execute_result"
        }
      ],
      "source": [
        "mf_pivot = pd.pivot_table(\n",
        "    baby,\n",
        "    index='Year',   # Column to turn into new index\n",
        "    columns='Sex',  # Column to turn into new columns\n",
        "    values='Count', # Column to aggregate for values\n",
        "    aggfunc=sum)    # Aggregation function\n",
        "mf_pivot\n"
      ]
    },
    {
      "cell_type": "markdown",
      "metadata": {
        "id": "uldncdTx3uwa"
      },
      "source": [
        "Notice that the data values are identical in the pivot table and the table\n",
        "produced with `.groupby()`; the values are just arranged differently. Pivot\n",
        "tables are useful for quickly summarizing data using two attributes and are\n",
        "often seen in articles and papers.\n"
      ]
    },
    {
      "cell_type": "code",
      "execution_count": 21,
      "metadata": {
        "id": "ClRdY0lcqH3J"
      },
      "outputs": [
        {
          "data": {
            "text/plain": [
              "<matplotlib.legend.Legend at 0x127067925a0>"
            ]
          },
          "execution_count": 21,
          "metadata": {},
          "output_type": "execute_result"
        },
        {
          "data": {
            "image/png": "[encoded data removed]",
            "text/plain": [
              "<Figure size 640x480 with 1 Axes>"
            ]
          },
          "metadata": {},
          "output_type": "display_data"
        }
      ],
      "source": [
        "mf_pivot = mf_pivot.reset_index()\n",
        "plt.plot(mf_pivot['Year'], mf_pivot['F'], label='F');\n",
        "plt.plot(mf_pivot['Year'], mf_pivot['M'], label='M');\n",
        "plt.legend()"
      ]
    },
    {
      "cell_type": "code",
      "execution_count": null,
      "metadata": {
        "id": "6udFKIFjqB73"
      },
      "outputs": [],
      "source": []
    }
  ],
  "metadata": {
    "colab": {
      "provenance": []
    },
    "kernelspec": {
      "display_name": "venv",
      "language": "python",
      "name": "python3"
    },
    "language_info": {
      "codemirror_mode": {
        "name": "ipython",
        "version": 3
      },
      "file_extension": ".py",
      "mimetype": "text/x-python",
      "name": "python",
      "nbconvert_exporter": "python",
      "pygments_lexer": "ipython3",
      "version": "3.12.4"
    },
    "toc": {
      "nav_menu": {},
      "number_sections": false,
      "sideBar": true,
      "skip_h1_title": false,
      "title_cell": "Table of Contents",
      "title_sidebar": "Contents",
      "toc_cell": true,
      "toc_position": {},
      "toc_section_display": true,
      "toc_window_display": false
    }
  },
  "nbformat": 4,
  "nbformat_minor": 0
}
