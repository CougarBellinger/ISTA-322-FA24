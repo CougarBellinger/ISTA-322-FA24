{
  "cells": [
    {
      "cell_type": "markdown",
      "metadata": {
        "id": "Hm-lEcSS1qVm"
      },
      "source": [
        "# HW2 - Movies!\n",
        "\n",
        "\n"
      ]
    },
    {
      "cell_type": "markdown",
      "metadata": {
        "id": "2jrzTrLtcaEn"
      },
      "source": [
        "**Submission Instruction**\n",
        "\n",
        "1- Replace the blank in the notebook title with your name (your notebook name should read like DE_HW2_Sara_Riazi)\n",
        "\n",
        "2- Complete the notebook\n",
        "\n",
        "3- Run all cells in notebook (all cells should have output).\n",
        "\n",
        "4- Download .ipynb &nbsp;\n",
        "\n",
        "5- Submit the .ipynb on the Gradescope\n",
        "\n",
        "6- Double check your submission to make sure all cells have output"
      ]
    },
    {
      "cell_type": "markdown",
      "metadata": {
        "id": "4dK6_6V0_VY0"
      },
      "source": [
        "## Wranging and aggregating movie review data\n",
        "\n",
        "The website MovieLens.com has a research group which provides open access to millions of reviews, for free!  We're going to work with those data for this homework.  [Feel free to check out the website here.](https://grouplens.org/datasets/movielens/)  You can go and download the raw data, but in order to make things a bit easier, the files have been uploaded the Google drive for fast direct downloads.  \n",
        "\n",
        "There are two datasets we'll be working with.\n",
        "* movies - this is a file of 60,000+ movies\n",
        "* reviews - this is a file of 25 *million* individual reviews for the 60k movies\n",
        "\n",
        "The goal for this section of the homework is to do two types of data aggregations that will allow for someone to make inferences on which movies were the most popular, reviewed, polarizing and were cult classics.  \n",
        "\n",
        "To do this we'll first start by making a simple data set that brings just overall review properties together with movies.  We'll then do some deeper groupings to create a dataset that looks at the same properties but over time."
      ]
    },
    {
      "cell_type": "markdown",
      "metadata": {
        "id": "EGSFQInVD6ws"
      },
      "source": [
        "### Data first\n",
        "\n",
        "Let's bring in our two files and libraries.  The ratings file is understandably large.  So it's a good idea to download it and then save a copy as something else and work with that.  This way if you mess up you don't have to download it all over again\n"
      ]
    },
    {
      "cell_type": "code",
      "execution_count": 45,
      "metadata": {
        "id": "39GB_QJjD57f"
      },
      "outputs": [],
      "source": [
        "# Libraries\n",
        "import pandas as pd\n",
        "from datetime import datetime\n",
        "import seaborn as sns\n",
        "import matplotlib.pyplot as plt\n",
        "import numpy as np\n",
        "\n"
      ]
    },
    {
      "cell_type": "code",
      "execution_count": 46,
      "metadata": {
        "id": "6MZ0784dEfia"
      },
      "outputs": [],
      "source": [
        "# Movies data\n",
        "movies = pd.read_csv('http://131.193.32.85:9000/mybucket/movies.csv')\n",
        "movies_backup = movies"
      ]
    },
    {
      "cell_type": "code",
      "execution_count": 47,
      "metadata": {
        "id": "eIjN-nKyvnbu"
      },
      "outputs": [
        {
          "data": {
            "text/html": [
              "<div>\n",
              "<style scoped>\n",
              "    .dataframe tbody tr th:only-of-type {\n",
              "        vertical-align: middle;\n",
              "    }\n",
              "\n",
              "    .dataframe tbody tr th {\n",
              "        vertical-align: top;\n",
              "    }\n",
              "\n",
              "    .dataframe thead th {\n",
              "        text-align: right;\n",
              "    }\n",
              "</style>\n",
              "<table border=\"1\" class=\"dataframe\">\n",
              "  <thead>\n",
              "    <tr style=\"text-align: right;\">\n",
              "      <th></th>\n",
              "      <th>movieId</th>\n",
              "      <th>title</th>\n",
              "      <th>genres</th>\n",
              "    </tr>\n",
              "  </thead>\n",
              "  <tbody>\n",
              "    <tr>\n",
              "      <th>0</th>\n",
              "      <td>1</td>\n",
              "      <td>Toy Story (1995)</td>\n",
              "      <td>Adventure|Animation|Children|Comedy|Fantasy</td>\n",
              "    </tr>\n",
              "    <tr>\n",
              "      <th>1</th>\n",
              "      <td>2</td>\n",
              "      <td>Jumanji (1995)</td>\n",
              "      <td>Adventure|Children|Fantasy</td>\n",
              "    </tr>\n",
              "    <tr>\n",
              "      <th>2</th>\n",
              "      <td>3</td>\n",
              "      <td>Grumpier Old Men (1995)</td>\n",
              "      <td>Comedy|Romance</td>\n",
              "    </tr>\n",
              "    <tr>\n",
              "      <th>3</th>\n",
              "      <td>4</td>\n",
              "      <td>Waiting to Exhale (1995)</td>\n",
              "      <td>Comedy|Drama|Romance</td>\n",
              "    </tr>\n",
              "    <tr>\n",
              "      <th>4</th>\n",
              "      <td>5</td>\n",
              "      <td>Father of the Bride Part II (1995)</td>\n",
              "      <td>Comedy</td>\n",
              "    </tr>\n",
              "    <tr>\n",
              "      <th>...</th>\n",
              "      <td>...</td>\n",
              "      <td>...</td>\n",
              "      <td>...</td>\n",
              "    </tr>\n",
              "    <tr>\n",
              "      <th>62418</th>\n",
              "      <td>209157</td>\n",
              "      <td>We (2018)</td>\n",
              "      <td>Drama</td>\n",
              "    </tr>\n",
              "    <tr>\n",
              "      <th>62419</th>\n",
              "      <td>209159</td>\n",
              "      <td>Window of the Soul (2001)</td>\n",
              "      <td>Documentary</td>\n",
              "    </tr>\n",
              "    <tr>\n",
              "      <th>62420</th>\n",
              "      <td>209163</td>\n",
              "      <td>Bad Poems (2018)</td>\n",
              "      <td>Comedy|Drama</td>\n",
              "    </tr>\n",
              "    <tr>\n",
              "      <th>62421</th>\n",
              "      <td>209169</td>\n",
              "      <td>A Girl Thing (2001)</td>\n",
              "      <td>(no genres listed)</td>\n",
              "    </tr>\n",
              "    <tr>\n",
              "      <th>62422</th>\n",
              "      <td>209171</td>\n",
              "      <td>Women of Devil's Island (1962)</td>\n",
              "      <td>Action|Adventure|Drama</td>\n",
              "    </tr>\n",
              "  </tbody>\n",
              "</table>\n",
              "<p>62423 rows × 3 columns</p>\n",
              "</div>"
            ],
            "text/plain": [
              "       movieId                               title  \\\n",
              "0            1                    Toy Story (1995)   \n",
              "1            2                      Jumanji (1995)   \n",
              "2            3             Grumpier Old Men (1995)   \n",
              "3            4            Waiting to Exhale (1995)   \n",
              "4            5  Father of the Bride Part II (1995)   \n",
              "...        ...                                 ...   \n",
              "62418   209157                           We (2018)   \n",
              "62419   209159           Window of the Soul (2001)   \n",
              "62420   209163                    Bad Poems (2018)   \n",
              "62421   209169                 A Girl Thing (2001)   \n",
              "62422   209171      Women of Devil's Island (1962)   \n",
              "\n",
              "                                            genres  \n",
              "0      Adventure|Animation|Children|Comedy|Fantasy  \n",
              "1                       Adventure|Children|Fantasy  \n",
              "2                                   Comedy|Romance  \n",
              "3                             Comedy|Drama|Romance  \n",
              "4                                           Comedy  \n",
              "...                                            ...  \n",
              "62418                                        Drama  \n",
              "62419                                  Documentary  \n",
              "62420                                 Comedy|Drama  \n",
              "62421                           (no genres listed)  \n",
              "62422                       Action|Adventure|Drama  \n",
              "\n",
              "[62423 rows x 3 columns]"
            ]
          },
          "execution_count": 47,
          "metadata": {},
          "output_type": "execute_result"
        }
      ],
      "source": [
        "movies"
      ]
    },
    {
      "cell_type": "code",
      "execution_count": 48,
      "metadata": {
        "id": "p0yc4ooJdcUC"
      },
      "outputs": [],
      "source": [
        "# Ratings data\n",
        "ratings = pd.read_csv('http://131.193.32.85:9000/mybucket/ratings.csv')"
      ]
    },
    {
      "cell_type": "code",
      "execution_count": 49,
      "metadata": {
        "id": "qI52SkIGPmAW"
      },
      "outputs": [],
      "source": [
        "# Make a copy of ratings; Generally, it's good practice to keep original copies saved before starting to mess with them\n",
        "# Also if you want to re-do some of the cells you can use rating_backup instead of loading data from servers!\n",
        "ratings_backup = ratings.copy"
      ]
    },
    {
      "cell_type": "markdown",
      "metadata": {
        "id": "iPR1QogNFAgm"
      },
      "source": [
        "## Explore your data - [5 points]\n",
        "\n",
        "Below take some time to explore your date.  \n",
        "In one cell, check the following items for **both** datasets:\n",
        "\n",
        "* Head and tail\n",
        "* Shape\n",
        "* Datatypes\n",
        "\n",
        "In a new cell:\n",
        "* The number of NaN values for the rating column of the ratings dataset\n",
        "\n",
        "**Task** Do the head,tail, and shape operations all in one cell.  Count the number of NaNs in another."
      ]
    },
    {
      "cell_type": "code",
      "execution_count": 50,
      "metadata": {
        "id": "E6hE7ikTYeGk"
      },
      "outputs": [
        {
          "name": "stdout",
          "output_type": "stream",
          "text": [
            "movies shape: (62423, 3)\n"
          ]
        }
      ],
      "source": [
        "# shape of movies\n",
        "print(\"movies shape:\", movies.shape)\n"
      ]
    },
    {
      "cell_type": "code",
      "execution_count": 51,
      "metadata": {
        "id": "6xsRcu3IEyxi"
      },
      "outputs": [
        {
          "name": "stdout",
          "output_type": "stream",
          "text": [
            "movies head:    movieId                               title  \\\n",
            "0        1                    Toy Story (1995)   \n",
            "1        2                      Jumanji (1995)   \n",
            "2        3             Grumpier Old Men (1995)   \n",
            "3        4            Waiting to Exhale (1995)   \n",
            "4        5  Father of the Bride Part II (1995)   \n",
            "\n",
            "                                        genres  \n",
            "0  Adventure|Animation|Children|Comedy|Fantasy  \n",
            "1                   Adventure|Children|Fantasy  \n",
            "2                               Comedy|Romance  \n",
            "3                         Comedy|Drama|Romance  \n",
            "4                                       Comedy  \n"
          ]
        }
      ],
      "source": [
        "#head of movies\n",
        "print(\"movies head:\", movies.head())"
      ]
    },
    {
      "cell_type": "code",
      "execution_count": 52,
      "metadata": {
        "id": "aHKbnbfjE64t"
      },
      "outputs": [
        {
          "name": "stdout",
          "output_type": "stream",
          "text": [
            "movies Tail:        movieId                           title                  genres\n",
            "62418   209157                       We (2018)                   Drama\n",
            "62419   209159       Window of the Soul (2001)             Documentary\n",
            "62420   209163                Bad Poems (2018)            Comedy|Drama\n",
            "62421   209169             A Girl Thing (2001)      (no genres listed)\n",
            "62422   209171  Women of Devil's Island (1962)  Action|Adventure|Drama\n"
          ]
        }
      ],
      "source": [
        "#tail of movies\n",
        "print(\"movies Tail:\", movies.tail())"
      ]
    },
    {
      "cell_type": "code",
      "execution_count": 53,
      "metadata": {
        "id": "NIxsJVC1F7jK"
      },
      "outputs": [
        {
          "name": "stdout",
          "output_type": "stream",
          "text": [
            "Number of NaNs in movies:  movieId    0\n",
            "title      0\n",
            "genres     0\n",
            "dtype: int64\n"
          ]
        }
      ],
      "source": [
        "# Get count of NaNs for movies\n",
        "print(\"Number of NaNs in movies: \", movies.isnull().sum())"
      ]
    },
    {
      "cell_type": "code",
      "execution_count": 54,
      "metadata": {
        "id": "ww4Ft5diE7Ba"
      },
      "outputs": [
        {
          "name": "stdout",
          "output_type": "stream",
          "text": [
            "ratings Shape: (25000095, 4)\n",
            "ratings Head:    userId  movieId  rating   timestamp\n",
            "0       1      296     5.0  1147880044\n",
            "1       1      306     3.5  1147868817\n",
            "2       1      307     5.0  1147868828\n",
            "3       1      665     5.0  1147878820\n",
            "4       1      899     3.5  1147868510\n",
            "ratings Tail:           userId  movieId  rating   timestamp\n",
            "25000090  162541    50872     4.5  1240953372\n",
            "25000091  162541    55768     2.5  1240951998\n",
            "25000092  162541    56176     2.0  1240950697\n",
            "25000093  162541    58559     4.0  1240953434\n",
            "25000094  162541    63876     5.0  1240952515\n",
            "number of NaNs in ratings: userId       0\n",
            "movieId      0\n",
            "rating       0\n",
            "timestamp    0\n",
            "dtype: int64\n"
          ]
        }
      ],
      "source": [
        "#Do the same steps for shape, head, and tail, and NaNs of ratings\n",
        "print(\"ratings Shape:\", ratings.shape)\n",
        "print(\"ratings Head:\", ratings.head())\n",
        "print(\"ratings Tail:\", ratings.tail())\n",
        "print(\"number of NaNs in ratings:\", ratings.isnull().sum())\n"
      ]
    },
    {
      "cell_type": "markdown",
      "metadata": {
        "id": "IbY5XgE33Kmc"
      },
      "source": [
        "## Convert timestamp in ratings to a datetime. - [2 points]\n",
        "\n",
        "One issue that you can see from your exploration is that the ratings only have a timestamp.  This timestamp is measured in the number of seconds since 00:00:00 on January 1st, 1970.  You'll need to convert this to a datetime in order to actually do our later data aggregations.  \n",
        "\n",
        "You use `pd.to_datetime` on timestamps like this.  [For full details on the various ways to use this function please look at the Pandas documentation.](https://pandas.pydata.org/pandas-docs/stable/reference/api/pandas.to_datetime.html) Briefly, this is how it's used.\n",
        "\n",
        "```\n",
        ">>> pd.to_datetime(1490195805, unit='s')\n",
        "Timestamp('2017-03-22 15:16:45')\n",
        "```\n",
        "\n",
        "**Task** Make a new column in the movies dataframe called `review_dt` that contains the data from the timestamp column but converted to a datetime datatype.  \n",
        "\n",
        "Note, it's good practice to do this by first assigning the output to a test vector first, rather than directly adding the output to the dataframe. This allows you to make sure your operation did what you wanted before modifying your dataframe. Once you're confident of the output, you can assign the vector to the `ratings` dataframe as a new column.\n",
        "\n",
        "For example\n",
        "```\n",
        "test_vec = pd.to_datetime(arguments)\n",
        "test_vec # to check what it contains\n",
        "```"
      ]
    },
    {
      "cell_type": "code",
      "execution_count": 55,
      "metadata": {
        "id": "ecldZK15dqQC"
      },
      "outputs": [
        {
          "name": "stdout",
          "output_type": "stream",
          "text": [
            "Converting timestamp to datetime...\n"
          ]
        }
      ],
      "source": [
        "# Make test vector\n",
        "print(\"Converting timestamp to datetime...\")\n",
        "review_dt = pd.to_datetime(ratings[\"timestamp\"], unit='s') "
      ]
    },
    {
      "cell_type": "code",
      "execution_count": 56,
      "metadata": {
        "id": "0rWM0NKhowev"
      },
      "outputs": [
        {
          "name": "stdout",
          "output_type": "stream",
          "text": [
            "Head of review_dt vector:\n",
            "0   2006-05-17 15:34:04\n",
            "1   2006-05-17 12:26:57\n",
            "2   2006-05-17 12:27:08\n",
            "3   2006-05-17 15:13:40\n",
            "4   2006-05-17 12:21:50\n",
            "Name: timestamp, dtype: datetime64[ns]\n",
            "Datatype of vector:]\n",
            "datetime64[ns]\n",
            "Max of review_dt vector:\n",
            "2019-11-21 09:15:03\n",
            "Min of review_dt vector:\n",
            "1995-01-09 11:46:49\n"
          ]
        }
      ],
      "source": [
        "# Check vector and datatype to make sure it make sense.\n",
        "print(f\"Head of review_dt vector:\\n{review_dt.head()}\\nDatatype of vector:]\\n{review_dt.dtypes}\")\n",
        "\n",
        "#debugging print\n",
        "print(f\"Max of review_dt vector:\\n{review_dt.max()}\\nMin of review_dt vector:\\n{review_dt.min()}\")"
      ]
    },
    {
      "cell_type": "code",
      "execution_count": 57,
      "metadata": {
        "id": "RBXoYE2Mo1pR"
      },
      "outputs": [],
      "source": [
        "# Now add this to the ratings dataframe\n",
        "ratings[\"review_dt\"] = review_dt"
      ]
    },
    {
      "cell_type": "code",
      "execution_count": 58,
      "metadata": {
        "id": "5RQV_35CdqdS"
      },
      "outputs": [
        {
          "name": "stdout",
          "output_type": "stream",
          "text": [
            "ratings Head:\n",
            "    userId  movieId  rating   timestamp           review_dt\n",
            "0       1      296     5.0  1147880044 2006-05-17 15:34:04\n",
            "1       1      306     3.5  1147868817 2006-05-17 12:26:57\n",
            "2       1      307     5.0  1147868828 2006-05-17 12:27:08\n",
            "3       1      665     5.0  1147878820 2006-05-17 15:13:40\n",
            "4       1      899     3.5  1147868510 2006-05-17 12:21:50\n",
            "ratings datatypes:\n",
            " userId                int64\n",
            "movieId               int64\n",
            "rating              float64\n",
            "timestamp             int64\n",
            "review_dt    datetime64[ns]\n",
            "dtype: object\n"
          ]
        }
      ],
      "source": [
        "# Check the head of your dataframe again\n",
        "print(\"ratings Head:\\n\", ratings.head())\n",
        "print(\"ratings datatypes:\\n\", ratings.dtypes)\n"
      ]
    },
    {
      "cell_type": "code",
      "execution_count": 59,
      "metadata": {
        "id": "jt8syWKWdqji"
      },
      "outputs": [
        {
          "name": "stdout",
          "output_type": "stream",
          "text": [
            "oldest review:\n",
            "1995-01-09 11:46:49\n",
            "newet review:\n",
            "2019-11-21 09:15:03\n",
            "newet review:\n",
            "2019-11-21 09:15:03\n"
          ]
        }
      ],
      "source": [
        "# What's the oldest and newest review?  It should be 1995-01-09 and 2019-11-21, respectively.\n",
        "print(f\"oldest review:\\n{ratings[\"review_dt\"].min()}\")\n",
        "print(f\"newet review:\\n{ratings[\"review_dt\"].max()}\")\n"
      ]
    },
    {
      "cell_type": "markdown",
      "metadata": {
        "id": "3lQ8tFNgpPjF"
      },
      "source": [
        "## Your first aggregation and join - [8 points]\n",
        "\n",
        "The first aggregation and join I want you to do is at the whole movie level.  Your movies dataframe should only have a single row for each movie, but there are obviously thousands of individual reviews for each of those movies. Our goal here is to produce some summary statistics about the reviews for each movie and then join them to the movies dataframe.\n",
        "\n",
        "**Task:** Do the following:\n",
        "* Create an aggregated dataframe called `ratings_by_movie`. This dataframe should be grouped by movie. Use `.agg()` to calculate the mean, standard deviation ('std'), and the number of reviews for each movie.  \n",
        "* Rename the columns of that dataframe `'movieId', 'rating_mean', 'rating_std', and 'rating_count'`\n",
        "* Join this new `ratings_by_movie` dataframe such that it attaches all those summary statistics to their corresponding movies from the 'movies' dataframe.\n",
        "* Call the joined dataframe `movies_with_ratings`"
      ]
    },
    {
      "cell_type": "code",
      "execution_count": 60,
      "metadata": {
        "id": "1diokGd0fghb"
      },
      "outputs": [],
      "source": [
        "# Make ratings_by_movie\n",
        "ratings_by_movie = ratings.groupby(by=\"movieId\", as_index=False).agg(\n",
        "    rating_mean = ('rating', 'mean'),\n",
        "    rating_std = ('rating', 'std'),\n",
        "    rating_count = ('rating', 'count')\n",
        ")"
      ]
    },
    {
      "cell_type": "code",
      "execution_count": 61,
      "metadata": {
        "id": "vaoGm6endqVu"
      },
      "outputs": [
        {
          "name": "stdout",
          "output_type": "stream",
          "text": [
            "Head of intial ratings_by_movie\n",
            "   movieId  rating_mean  rating_std  rating_count\n",
            "0        1     3.893708    0.921552         57309\n",
            "1        2     3.251527    0.959851         24228\n",
            "2        3     3.142028    1.008443         11804\n",
            "3        4     2.853547    1.108531          2523\n",
            "4        5     3.058434    0.996611         11714\n"
          ]
        }
      ],
      "source": [
        "# Check it\n",
        "print(f'Head of intial ratings_by_movie\\n{ratings_by_movie.head()}')"
      ]
    },
    {
      "cell_type": "code",
      "execution_count": 62,
      "metadata": {
        "id": "eiNm1Qo4sUIr"
      },
      "outputs": [
        {
          "name": "stdout",
          "output_type": "stream",
          "text": [
            "Head of ratings_by_movie after column rename\n",
            "   movieId  rating_mean  rating_std  rating_count\n",
            "0        1     3.893708    0.921552         57309\n",
            "1        2     3.251527    0.959851         24228\n",
            "2        3     3.142028    1.008443         11804\n",
            "3        4     2.853547    1.108531          2523\n",
            "4        5     3.058434    0.996611         11714\n"
          ]
        }
      ],
      "source": [
        "# Rename columns\n",
        "ratings_by_movie.columns = ['movieId', 'rating_mean', 'rating_std', 'rating_count']\n",
        "print(f'Head of ratings_by_movie after column rename\\n{ratings_by_movie.head()}')"
      ]
    },
    {
      "cell_type": "code",
      "execution_count": 63,
      "metadata": {
        "id": "gfwRPPcxrY71"
      },
      "outputs": [],
      "source": [
        "# Join it and call movies with ratings\n",
        "movies_with_ratings = movies.merge(ratings_by_movie, on='movieId', how='left')"
      ]
    },
    {
      "cell_type": "code",
      "execution_count": 64,
      "metadata": {
        "id": "_Ee4dKTTsIqd"
      },
      "outputs": [
        {
          "name": "stdout",
          "output_type": "stream",
          "text": [
            "Head of movies_with_ratings\n",
            "   movieId                               title  \\\n",
            "0        1                    Toy Story (1995)   \n",
            "1        2                      Jumanji (1995)   \n",
            "2        3             Grumpier Old Men (1995)   \n",
            "3        4            Waiting to Exhale (1995)   \n",
            "4        5  Father of the Bride Part II (1995)   \n",
            "\n",
            "                                        genres  rating_mean  rating_std  \\\n",
            "0  Adventure|Animation|Children|Comedy|Fantasy     3.893708    0.921552   \n",
            "1                   Adventure|Children|Fantasy     3.251527    0.959851   \n",
            "2                               Comedy|Romance     3.142028    1.008443   \n",
            "3                         Comedy|Drama|Romance     2.853547    1.108531   \n",
            "4                                       Comedy     3.058434    0.996611   \n",
            "\n",
            "   rating_count  \n",
            "0       57309.0  \n",
            "1       24228.0  \n",
            "2       11804.0  \n",
            "3        2523.0  \n",
            "4       11714.0  \n",
            "Shape of movies_with_ratings\n",
            "(62423, 6)\n"
          ]
        }
      ],
      "source": [
        "# Check movies_with_ratings.\n",
        "print(f'Head of movies_with_ratings\\n{movies_with_ratings.head()}')\n",
        "print(f'Shape of movies_with_ratings\\n{movies_with_ratings.shape}')\n"
      ]
    },
    {
      "cell_type": "markdown",
      "metadata": {
        "id": "T7OgtiDVqJob"
      },
      "source": [
        "Is your merged dataframe 62423 rows × 6 columns?"
      ]
    },
    {
      "cell_type": "markdown",
      "metadata": {
        "id": "V7asUN4XtlA6"
      },
      "source": [
        "## Filtering and more transformations - [5 points]\n",
        "\n",
        "Now we want to clean up this dataset a bit and then do a couple more transforms. One issue you can see from your check above is that many movies only have one rating.  We're going to choose to set a minimum number of reviews needed to be included.  We also want to do some binning where movies with certain ratings levels\n",
        "\n",
        "**Task:** Please do the following operations\n",
        "* Filter `movies_with_ratings` so it only contains movies that have at least 10 ratings\n",
        "* Use the function `cut()` to automatically bin our `rating_mean` column into three groups of 'bad', 'fine', or 'good' movies.  Call this `rating_group`.\n",
        "* Use the same function to take the standard deviation in rating and make three groups of 'agreement', 'average', 'controversial'.  Thus, movies with low standard deviation have agreement in the rating, while movies with high standard deviation have controversy in the ratings.  Call this column `ratings_agreement`."
      ]
    },
    {
      "cell_type": "code",
      "execution_count": 65,
      "metadata": {
        "id": "A-q2L_UDtoVU"
      },
      "outputs": [],
      "source": [
        "# Filter first being sure to overwrite dataframe\n",
        "movies_with_ratings = movies_with_ratings[movies_with_ratings['rating_count'] >= 10]"
      ]
    },
    {
      "cell_type": "code",
      "execution_count": 66,
      "metadata": {
        "id": "51jG155vvC64"
      },
      "outputs": [
        {
          "name": "stdout",
          "output_type": "stream",
          "text": [
            "Shape of filtered movies_with_ratings\n",
            "(24330, 6)\n"
          ]
        }
      ],
      "source": [
        "# Check how many rows you're left with. You should have a little over 24000\n",
        "print(f'Shape of filtered movies_with_ratings\\n{movies_with_ratings.shape}')"
      ]
    },
    {
      "cell_type": "markdown",
      "metadata": {
        "id": "Gdax-0B9x2dN"
      },
      "source": [
        "I didn't show you how to use `cut()` in the lesson, but it's a transform just like anything else.  You could use a `np.where()` statement like we did, but `cut()` is a bit easier.  All it does is take 1) a column as the first argument, 2) the number of bins you want to group it in as the second argument, and then 3) the labels you want to give those bins as the third.  It automatically divides them up into equal sized bins.\n",
        "\n",
        "For example, if I make the following list:\n",
        "```\n",
        "rating = [2, 4, 9, 8, 5, 3, 6, 10, 2, 1, 6, 7]\n",
        "```\n",
        "\n",
        "And run `cut()` on it with three bins and levels 'bad', 'fine', and 'good':\n",
        "```\n",
        "pd.cut(rating, 3, labels=['bad', 'fine', 'good'])\n",
        "```\n",
        "\n",
        "I get a return of:\n",
        "```\n",
        "[bad, bad, good, good, fine, ..., good, bad, bad, fine, fine]\n",
        "Length: 12\n",
        "Categories (3, object): [bad < fine < good]\n",
        "```\n",
        "\n",
        "Note how it orders them for you based on the order of the labels.  "
      ]
    },
    {
      "cell_type": "code",
      "execution_count": 67,
      "metadata": {
        "id": "SYVhXGaGx1-7"
      },
      "outputs": [
        {
          "data": {
            "text/plain": [
              "['bad', 'bad', 'good', 'good', 'fine', ..., 'good', 'bad', 'bad', 'fine', 'fine']\n",
              "Length: 12\n",
              "Categories (3, object): ['bad' < 'fine' < 'good']"
            ]
          },
          "execution_count": 67,
          "metadata": {},
          "output_type": "execute_result"
        }
      ],
      "source": [
        "# If you want to test it!\n",
        "rating = [2, 4, 9, 8, 5, 3, 6, 10, 2, 1, 6, 7]\n",
        "pd.cut(rating, 3, labels=['bad', 'fine', 'good'])"
      ]
    },
    {
      "cell_type": "markdown",
      "metadata": {
        "id": "gFPOYIVQNCdD"
      },
      "source": [
        "Note: if get a SettingWithCopyWarning that's ok here.\n",
        "Pandas tries to warn us that we are working with a copy of movies_with_rating,\n",
        "and the changes won't reflace back to the original movies_with_rating dataframe. But that's ok for us"
      ]
    },
    {
      "cell_type": "code",
      "execution_count": 68,
      "metadata": {
        "id": "3DVYIrbDvG4i"
      },
      "outputs": [],
      "source": [
        "# Now make 'bad', 'fine', 'good' levels for ratings\n",
        "# Assign to new column called 'rating_group'\n",
        "movies_with_ratings['rating_group'] = pd.cut(movies_with_ratings['rating_mean'], 3, labels=['bad', 'fine', 'good'])"
      ]
    },
    {
      "cell_type": "code",
      "execution_count": 69,
      "metadata": {
        "id": "VmC2I-kFwWgo"
      },
      "outputs": [
        {
          "data": {
            "text/html": [
              "<div>\n",
              "<style scoped>\n",
              "    .dataframe tbody tr th:only-of-type {\n",
              "        vertical-align: middle;\n",
              "    }\n",
              "\n",
              "    .dataframe tbody tr th {\n",
              "        vertical-align: top;\n",
              "    }\n",
              "\n",
              "    .dataframe thead th {\n",
              "        text-align: right;\n",
              "    }\n",
              "</style>\n",
              "<table border=\"1\" class=\"dataframe\">\n",
              "  <thead>\n",
              "    <tr style=\"text-align: right;\">\n",
              "      <th></th>\n",
              "      <th>movieId</th>\n",
              "      <th>title</th>\n",
              "      <th>genres</th>\n",
              "      <th>rating_mean</th>\n",
              "      <th>rating_std</th>\n",
              "      <th>rating_count</th>\n",
              "      <th>rating_group</th>\n",
              "    </tr>\n",
              "  </thead>\n",
              "  <tbody>\n",
              "    <tr>\n",
              "      <th>0</th>\n",
              "      <td>1</td>\n",
              "      <td>Toy Story (1995)</td>\n",
              "      <td>Adventure|Animation|Children|Comedy|Fantasy</td>\n",
              "      <td>3.893708</td>\n",
              "      <td>0.921552</td>\n",
              "      <td>57309.0</td>\n",
              "      <td>good</td>\n",
              "    </tr>\n",
              "    <tr>\n",
              "      <th>1</th>\n",
              "      <td>2</td>\n",
              "      <td>Jumanji (1995)</td>\n",
              "      <td>Adventure|Children|Fantasy</td>\n",
              "      <td>3.251527</td>\n",
              "      <td>0.959851</td>\n",
              "      <td>24228.0</td>\n",
              "      <td>good</td>\n",
              "    </tr>\n",
              "    <tr>\n",
              "      <th>2</th>\n",
              "      <td>3</td>\n",
              "      <td>Grumpier Old Men (1995)</td>\n",
              "      <td>Comedy|Romance</td>\n",
              "      <td>3.142028</td>\n",
              "      <td>1.008443</td>\n",
              "      <td>11804.0</td>\n",
              "      <td>fine</td>\n",
              "    </tr>\n",
              "    <tr>\n",
              "      <th>3</th>\n",
              "      <td>4</td>\n",
              "      <td>Waiting to Exhale (1995)</td>\n",
              "      <td>Comedy|Drama|Romance</td>\n",
              "      <td>2.853547</td>\n",
              "      <td>1.108531</td>\n",
              "      <td>2523.0</td>\n",
              "      <td>fine</td>\n",
              "    </tr>\n",
              "    <tr>\n",
              "      <th>4</th>\n",
              "      <td>5</td>\n",
              "      <td>Father of the Bride Part II (1995)</td>\n",
              "      <td>Comedy</td>\n",
              "      <td>3.058434</td>\n",
              "      <td>0.996611</td>\n",
              "      <td>11714.0</td>\n",
              "      <td>fine</td>\n",
              "    </tr>\n",
              "    <tr>\n",
              "      <th>...</th>\n",
              "      <td>...</td>\n",
              "      <td>...</td>\n",
              "      <td>...</td>\n",
              "      <td>...</td>\n",
              "      <td>...</td>\n",
              "      <td>...</td>\n",
              "      <td>...</td>\n",
              "    </tr>\n",
              "    <tr>\n",
              "      <th>61967</th>\n",
              "      <td>207405</td>\n",
              "      <td>Doctor Sleep (2019)</td>\n",
              "      <td>Horror</td>\n",
              "      <td>3.730769</td>\n",
              "      <td>0.785109</td>\n",
              "      <td>39.0</td>\n",
              "      <td>good</td>\n",
              "    </tr>\n",
              "    <tr>\n",
              "      <th>62027</th>\n",
              "      <td>207612</td>\n",
              "      <td>Tell Me Who I Am (2019)</td>\n",
              "      <td>Documentary</td>\n",
              "      <td>3.357143</td>\n",
              "      <td>1.099450</td>\n",
              "      <td>14.0</td>\n",
              "      <td>good</td>\n",
              "    </tr>\n",
              "    <tr>\n",
              "      <th>62088</th>\n",
              "      <td>207830</td>\n",
              "      <td>Terminator: Dark Fate (2019)</td>\n",
              "      <td>Action|Sci-Fi</td>\n",
              "      <td>3.372727</td>\n",
              "      <td>0.794764</td>\n",
              "      <td>55.0</td>\n",
              "      <td>good</td>\n",
              "    </tr>\n",
              "    <tr>\n",
              "      <th>62313</th>\n",
              "      <td>208715</td>\n",
              "      <td>Let It Snow (2019)</td>\n",
              "      <td>Comedy|Romance</td>\n",
              "      <td>2.933333</td>\n",
              "      <td>1.222799</td>\n",
              "      <td>15.0</td>\n",
              "      <td>fine</td>\n",
              "    </tr>\n",
              "    <tr>\n",
              "      <th>62319</th>\n",
              "      <td>208737</td>\n",
              "      <td>Midway (2019)</td>\n",
              "      <td>Action|Drama|War</td>\n",
              "      <td>3.333333</td>\n",
              "      <td>0.887625</td>\n",
              "      <td>12.0</td>\n",
              "      <td>good</td>\n",
              "    </tr>\n",
              "  </tbody>\n",
              "</table>\n",
              "<p>24330 rows × 7 columns</p>\n",
              "</div>"
            ],
            "text/plain": [
              "       movieId                               title  \\\n",
              "0            1                    Toy Story (1995)   \n",
              "1            2                      Jumanji (1995)   \n",
              "2            3             Grumpier Old Men (1995)   \n",
              "3            4            Waiting to Exhale (1995)   \n",
              "4            5  Father of the Bride Part II (1995)   \n",
              "...        ...                                 ...   \n",
              "61967   207405                 Doctor Sleep (2019)   \n",
              "62027   207612             Tell Me Who I Am (2019)   \n",
              "62088   207830        Terminator: Dark Fate (2019)   \n",
              "62313   208715                  Let It Snow (2019)   \n",
              "62319   208737                       Midway (2019)   \n",
              "\n",
              "                                            genres  rating_mean  rating_std  \\\n",
              "0      Adventure|Animation|Children|Comedy|Fantasy     3.893708    0.921552   \n",
              "1                       Adventure|Children|Fantasy     3.251527    0.959851   \n",
              "2                                   Comedy|Romance     3.142028    1.008443   \n",
              "3                             Comedy|Drama|Romance     2.853547    1.108531   \n",
              "4                                           Comedy     3.058434    0.996611   \n",
              "...                                            ...          ...         ...   \n",
              "61967                                       Horror     3.730769    0.785109   \n",
              "62027                                  Documentary     3.357143    1.099450   \n",
              "62088                                Action|Sci-Fi     3.372727    0.794764   \n",
              "62313                               Comedy|Romance     2.933333    1.222799   \n",
              "62319                             Action|Drama|War     3.333333    0.887625   \n",
              "\n",
              "       rating_count rating_group  \n",
              "0           57309.0         good  \n",
              "1           24228.0         good  \n",
              "2           11804.0         fine  \n",
              "3            2523.0         fine  \n",
              "4           11714.0         fine  \n",
              "...             ...          ...  \n",
              "61967          39.0         good  \n",
              "62027          14.0         good  \n",
              "62088          55.0         good  \n",
              "62313          15.0         fine  \n",
              "62319          12.0         good  \n",
              "\n",
              "[24330 rows x 7 columns]"
            ]
          },
          "execution_count": 69,
          "metadata": {},
          "output_type": "execute_result"
        }
      ],
      "source": [
        "# Check it\n",
        "movies_with_ratings"
      ]
    },
    {
      "cell_type": "markdown",
      "metadata": {
        "id": "-AA4ffUqrHoU"
      },
      "source": [
        "Do Toy Story and Jumanji have 'good' ratings?  Does Grumpier Old Men have a 'fair' rating?"
      ]
    },
    {
      "cell_type": "code",
      "execution_count": 70,
      "metadata": {
        "id": "xZpmz44l0AZB"
      },
      "outputs": [],
      "source": [
        "# Now use cut() again to create your ratings_agreement column.\n",
        "# Use three bins and order of 'agreement', 'average',  and 'controversial'\n",
        "movies_with_ratings['ratings_agreement'] = pd.cut(movies_with_ratings['rating_std'], 3, labels=['agreement', 'average', 'controversial'])"
      ]
    },
    {
      "cell_type": "code",
      "execution_count": 71,
      "metadata": {
        "id": "jQ1Nk7nbIkhl"
      },
      "outputs": [
        {
          "name": "stdout",
          "output_type": "stream",
          "text": [
            "\n",
            "Rating Group Statistics:\n",
            "                count      mean       std       min       25%       50%  \\\n",
            "rating_group                                                              \n",
            "bad             426.0  1.688237  0.228236  0.678571  1.597436  1.750000   \n",
            "fine          10753.0  2.818177  0.304257  1.946970  2.630435  2.884968   \n",
            "good          13151.0  3.562540  0.223832  3.215035  3.377778  3.538462   \n",
            "\n",
            "                   75%       max  \n",
            "rating_group                      \n",
            "bad           1.854009  1.943946  \n",
            "fine          3.071412  3.214552  \n",
            "good          3.719940  4.483096  \n",
            "\n",
            "Rating Agreement Statistics:\n",
            "                     count      mean       std       min       25%       50%  \\\n",
            "ratings_agreement                                                              \n",
            "agreement           1132.0  0.571619  0.118814  0.000000  0.526502  0.607870   \n",
            "average            22244.0  1.001487  0.148103  0.690497  0.892427  0.989153   \n",
            "controversial        954.0  1.502402  0.106286  1.381137  1.420151  1.474607   \n",
            "\n",
            "                        75%       max  \n",
            "ratings_agreement                      \n",
            "agreement          0.657706  0.690378  \n",
            "average            1.100066  1.380733  \n",
            "controversial      1.556963  2.071382  \n"
          ]
        },
        {
          "name": "stderr",
          "output_type": "stream",
          "text": [
            "C:\\Users\\couga\\AppData\\Local\\Temp\\ipykernel_36576\\2851411417.py:3: FutureWarning: The default of observed=False is deprecated and will be changed to True in a future version of pandas. Pass observed=False to retain current behavior or observed=True to adopt the future default and silence this warning.\n",
            "  print(movies_with_ratings.groupby('rating_group')['rating_mean'].describe())\n",
            "C:\\Users\\couga\\AppData\\Local\\Temp\\ipykernel_36576\\2851411417.py:6: FutureWarning: The default of observed=False is deprecated and will be changed to True in a future version of pandas. Pass observed=False to retain current behavior or observed=True to adopt the future default and silence this warning.\n",
            "  print(movies_with_ratings.groupby('ratings_agreement')['rating_std'].describe())\n"
          ]
        }
      ],
      "source": [
        "# Check to make sure that your bin categories make sense\n",
        "print(\"\\nRating Group Statistics:\")\n",
        "print(movies_with_ratings.groupby('rating_group')['rating_mean'].describe())\n",
        "\n",
        "print(\"\\nRating Agreement Statistics:\")\n",
        "print(movies_with_ratings.groupby('ratings_agreement')['rating_std'].describe())"
      ]
    },
    {
      "cell_type": "markdown",
      "metadata": {
        "id": "SwMX5K530m-j"
      },
      "source": [
        "###  Exploring our data [2 points]\n",
        "\n",
        "Making bins like this allows us to figure out things like which movies are both bad, but have differing opinions on.  For example, we can filter out movies that are in the bad category but have a lot of controversy about those ratings.  This could mean they're 'cult classic' movies where despite the low rating some people actually really love the movies.  \n",
        "\n",
        "A dataset like this could be used in a recommendation engine where if you see people liking these 'bad but good' movies you could suggest others that meet the came criteria.  \n",
        "\n",
        "**Task:** You don't have to do anything, the code to let you figure out if you have done everything correctly so far."
      ]
    },
    {
      "cell_type": "code",
      "execution_count": 72,
      "metadata": {
        "id": "8k2C-Lzs0Z33"
      },
      "outputs": [
        {
          "data": {
            "text/html": [
              "<div>\n",
              "<style scoped>\n",
              "    .dataframe tbody tr th:only-of-type {\n",
              "        vertical-align: middle;\n",
              "    }\n",
              "\n",
              "    .dataframe tbody tr th {\n",
              "        vertical-align: top;\n",
              "    }\n",
              "\n",
              "    .dataframe thead th {\n",
              "        text-align: right;\n",
              "    }\n",
              "</style>\n",
              "<table border=\"1\" class=\"dataframe\">\n",
              "  <thead>\n",
              "    <tr style=\"text-align: right;\">\n",
              "      <th></th>\n",
              "      <th>movieId</th>\n",
              "      <th>title</th>\n",
              "      <th>genres</th>\n",
              "      <th>rating_mean</th>\n",
              "      <th>rating_std</th>\n",
              "      <th>rating_count</th>\n",
              "      <th>rating_group</th>\n",
              "      <th>ratings_agreement</th>\n",
              "    </tr>\n",
              "  </thead>\n",
              "  <tbody>\n",
              "    <tr>\n",
              "      <th>8618</th>\n",
              "      <td>26157</td>\n",
              "      <td>Manos: The Hands of Fate (1966)</td>\n",
              "      <td>Horror</td>\n",
              "      <td>1.798165</td>\n",
              "      <td>1.550268</td>\n",
              "      <td>109.0</td>\n",
              "      <td>bad</td>\n",
              "      <td>controversial</td>\n",
              "    </tr>\n",
              "    <tr>\n",
              "      <th>16964</th>\n",
              "      <td>89281</td>\n",
              "      <td>Birdemic: Shock and Terror (2010)</td>\n",
              "      <td>Romance|Thriller</td>\n",
              "      <td>1.521739</td>\n",
              "      <td>1.503492</td>\n",
              "      <td>115.0</td>\n",
              "      <td>bad</td>\n",
              "      <td>controversial</td>\n",
              "    </tr>\n",
              "  </tbody>\n",
              "</table>\n",
              "</div>"
            ],
            "text/plain": [
              "       movieId                              title            genres  \\\n",
              "8618     26157    Manos: The Hands of Fate (1966)            Horror   \n",
              "16964    89281  Birdemic: Shock and Terror (2010)  Romance|Thriller   \n",
              "\n",
              "       rating_mean  rating_std  rating_count rating_group ratings_agreement  \n",
              "8618      1.798165    1.550268         109.0          bad     controversial  \n",
              "16964     1.521739    1.503492         115.0          bad     controversial  "
            ]
          },
          "execution_count": 72,
          "metadata": {},
          "output_type": "execute_result"
        }
      ],
      "source": [
        "movies_with_ratings[(movies_with_ratings['rating_group'] == 'bad') &\n",
        "                    (movies_with_ratings['ratings_agreement'] == 'controversial') &\n",
        "                    (movies_with_ratings['rating_count'] >= 100)]"
      ]
    },
    {
      "cell_type": "markdown",
      "metadata": {
        "id": "oV_12zdoUn3s"
      },
      "source": [
        "If you have done everything correctly so far, you will get:\n",
        "The Hands of Fate (1966)\tHorror and\tBirdemic: Shock and Terror (2010)\tas the outcome.\n"
      ]
    },
    {
      "cell_type": "markdown",
      "metadata": {
        "id": "zPBvEkD42NDF"
      },
      "source": [
        "## Grouping within years - [5 points]\n",
        "\n",
        "Now that we've done our overall grouping by movie, let's get a bit more detail about these ratings. Specifically, let's engineer a dataset that breaks down the average rating not only by movie, but also by the year the person provided the review.  This would allow for someone to see which movies continue to do well over time, which ones become more popular, and which ones don't age well!\n",
        "\n",
        "**Task:** You're going to do the following steps:\n",
        "* Create a new `ratings_by_movie_year` that groups both by `movieId` but also by your `review_dt` column.  I want you to group into year intervals.  \n",
        "* Join `movies` to `ratings_by_movie_year` so that you have the summary review statistics for each year the movie has been out\n",
        "* Clean up and filter your dataframe"
      ]
    },
    {
      "cell_type": "markdown",
      "metadata": {
        "id": "tioZCC2YB7Qa"
      },
      "source": [
        "First, create `ratings_by_movie`.  You can group by two levels by just adding a list of what levels you want to group by in the `groupby()` statement.  I'll give you some help there, but you have to complete the rest in order to group by movieId first and review_dt second."
      ]
    },
    {
      "cell_type": "code",
      "execution_count": 73,
      "metadata": {
        "id": "nXvUmhqxyiAp"
      },
      "outputs": [],
      "source": [
        "# Note the groupby syntax.  I first am grouping by movieId\n",
        "# But then also am calling dt.year on our datetime column\n",
        "# This will then tell Python to do the aggregations within year as well\n",
        "ratings_by_movie_year = ratings.groupby(['movieId', ratings['review_dt'].dt.year]).agg({\n",
        "    'rating': ['mean', 'std', 'count']\n",
        "})"
      ]
    },
    {
      "cell_type": "code",
      "execution_count": 74,
      "metadata": {
        "id": "jZ8EJYtD0QXM"
      },
      "outputs": [],
      "source": [
        "# Check\n",
        "..."
      ]
    },
    {
      "cell_type": "markdown",
      "metadata": {
        "id": "owv03D5lCh6s"
      },
      "source": [
        "You need to rename columns, but this is a bit trickier as you have two levels of your dataframe index. I'm going to give you the code below.  But, what it's doing is resetting that one level of the index `review_dt` and putting it back as a regular column.  I'm then renaming the resulting columns."
      ]
    },
    {
      "cell_type": "code",
      "execution_count": 75,
      "metadata": {
        "id": "J-Xp1BY_dp3r"
      },
      "outputs": [
        {
          "data": {
            "text/html": [
              "<div>\n",
              "<style scoped>\n",
              "    .dataframe tbody tr th:only-of-type {\n",
              "        vertical-align: middle;\n",
              "    }\n",
              "\n",
              "    .dataframe tbody tr th {\n",
              "        vertical-align: top;\n",
              "    }\n",
              "\n",
              "    .dataframe thead th {\n",
              "        text-align: right;\n",
              "    }\n",
              "</style>\n",
              "<table border=\"1\" class=\"dataframe\">\n",
              "  <thead>\n",
              "    <tr style=\"text-align: right;\">\n",
              "      <th></th>\n",
              "      <th>year</th>\n",
              "      <th>rating_mean</th>\n",
              "      <th>rating_std</th>\n",
              "      <th>rating_count</th>\n",
              "    </tr>\n",
              "    <tr>\n",
              "      <th>movieId</th>\n",
              "      <th></th>\n",
              "      <th></th>\n",
              "      <th></th>\n",
              "      <th></th>\n",
              "    </tr>\n",
              "  </thead>\n",
              "  <tbody>\n",
              "    <tr>\n",
              "      <th>1</th>\n",
              "      <td>1996</td>\n",
              "      <td>4.132756</td>\n",
              "      <td>0.884990</td>\n",
              "      <td>6237</td>\n",
              "    </tr>\n",
              "    <tr>\n",
              "      <th>1</th>\n",
              "      <td>1997</td>\n",
              "      <td>3.872500</td>\n",
              "      <td>0.894079</td>\n",
              "      <td>6000</td>\n",
              "    </tr>\n",
              "    <tr>\n",
              "      <th>1</th>\n",
              "      <td>1998</td>\n",
              "      <td>3.889515</td>\n",
              "      <td>0.944972</td>\n",
              "      <td>887</td>\n",
              "    </tr>\n",
              "    <tr>\n",
              "      <th>1</th>\n",
              "      <td>1999</td>\n",
              "      <td>3.975140</td>\n",
              "      <td>0.913960</td>\n",
              "      <td>2494</td>\n",
              "    </tr>\n",
              "    <tr>\n",
              "      <th>1</th>\n",
              "      <td>2000</td>\n",
              "      <td>4.136634</td>\n",
              "      <td>0.865127</td>\n",
              "      <td>3535</td>\n",
              "    </tr>\n",
              "    <tr>\n",
              "      <th>...</th>\n",
              "      <td>...</td>\n",
              "      <td>...</td>\n",
              "      <td>...</td>\n",
              "      <td>...</td>\n",
              "    </tr>\n",
              "    <tr>\n",
              "      <th>209157</th>\n",
              "      <td>2019</td>\n",
              "      <td>1.500000</td>\n",
              "      <td>NaN</td>\n",
              "      <td>1</td>\n",
              "    </tr>\n",
              "    <tr>\n",
              "      <th>209159</th>\n",
              "      <td>2019</td>\n",
              "      <td>3.000000</td>\n",
              "      <td>NaN</td>\n",
              "      <td>1</td>\n",
              "    </tr>\n",
              "    <tr>\n",
              "      <th>209163</th>\n",
              "      <td>2019</td>\n",
              "      <td>4.500000</td>\n",
              "      <td>NaN</td>\n",
              "      <td>1</td>\n",
              "    </tr>\n",
              "    <tr>\n",
              "      <th>209169</th>\n",
              "      <td>2019</td>\n",
              "      <td>3.000000</td>\n",
              "      <td>NaN</td>\n",
              "      <td>1</td>\n",
              "    </tr>\n",
              "    <tr>\n",
              "      <th>209171</th>\n",
              "      <td>2019</td>\n",
              "      <td>3.000000</td>\n",
              "      <td>NaN</td>\n",
              "      <td>1</td>\n",
              "    </tr>\n",
              "  </tbody>\n",
              "</table>\n",
              "<p>323737 rows × 4 columns</p>\n",
              "</div>"
            ],
            "text/plain": [
              "         year  rating_mean  rating_std  rating_count\n",
              "movieId                                             \n",
              "1        1996     4.132756    0.884990          6237\n",
              "1        1997     3.872500    0.894079          6000\n",
              "1        1998     3.889515    0.944972           887\n",
              "1        1999     3.975140    0.913960          2494\n",
              "1        2000     4.136634    0.865127          3535\n",
              "...       ...          ...         ...           ...\n",
              "209157   2019     1.500000         NaN             1\n",
              "209159   2019     3.000000         NaN             1\n",
              "209163   2019     4.500000         NaN             1\n",
              "209169   2019     3.000000         NaN             1\n",
              "209171   2019     3.000000         NaN             1\n",
              "\n",
              "[323737 rows x 4 columns]"
            ]
          },
          "execution_count": 75,
          "metadata": {},
          "output_type": "execute_result"
        }
      ],
      "source": [
        "# Reset index (you cannot rerun this cell (or any cell that includes reset_index) twice unless you re-create ratings_by_movie_year)\n",
        "ratings_by_movie_year = ratings_by_movie_year.reset_index(level = 'review_dt')\n",
        "ratings_by_movie_year.columns = ['year', 'rating_mean', 'rating_std', 'rating_count']\n",
        "ratings_by_movie_year"
      ]
    },
    {
      "cell_type": "code",
      "execution_count": 76,
      "metadata": {
        "id": "q9EFQCOshC4U"
      },
      "outputs": [],
      "source": [
        "# Now join the movie dataframe onto ratings_by_movie_year\n",
        "ratings_by_movie_year = movies.merge(ratings_by_movie_year, on='movieId', how='inner')"
      ]
    },
    {
      "cell_type": "code",
      "execution_count": 77,
      "metadata": {
        "id": "yBLjjJ880vvh"
      },
      "outputs": [
        {
          "name": "stdout",
          "output_type": "stream",
          "text": [
            "First few rows:\n",
            "   movieId             title                                       genres  \\\n",
            "0        1  Toy Story (1995)  Adventure|Animation|Children|Comedy|Fantasy   \n",
            "1        1  Toy Story (1995)  Adventure|Animation|Children|Comedy|Fantasy   \n",
            "2        1  Toy Story (1995)  Adventure|Animation|Children|Comedy|Fantasy   \n",
            "3        1  Toy Story (1995)  Adventure|Animation|Children|Comedy|Fantasy   \n",
            "4        1  Toy Story (1995)  Adventure|Animation|Children|Comedy|Fantasy   \n",
            "\n",
            "   year  rating_mean  rating_std  rating_count  \n",
            "0  1996     4.132756    0.884990          6237  \n",
            "1  1997     3.872500    0.894079          6000  \n",
            "2  1998     3.889515    0.944972           887  \n",
            "3  1999     3.975140    0.913960          2494  \n",
            "4  2000     4.136634    0.865127          3535  \n",
            "\n",
            "Dataframe Info:\n",
            "<class 'pandas.core.frame.DataFrame'>\n",
            "RangeIndex: 323737 entries, 0 to 323736\n",
            "Data columns (total 7 columns):\n",
            " #   Column        Non-Null Count   Dtype  \n",
            "---  ------        --------------   -----  \n",
            " 0   movieId       323737 non-null  int64  \n",
            " 1   title         323737 non-null  object \n",
            " 2   genres        323737 non-null  object \n",
            " 3   year          323737 non-null  int32  \n",
            " 4   rating_mean   323737 non-null  float64\n",
            " 5   rating_std    250937 non-null  float64\n",
            " 6   rating_count  323737 non-null  int64  \n",
            "dtypes: float64(2), int32(1), int64(2), object(2)\n",
            "memory usage: 16.1+ MB\n",
            "None\n"
          ]
        }
      ],
      "source": [
        "# Check the resulting dataframe\n",
        "print(\"First few rows:\")\n",
        "print(ratings_by_movie_year.head())\n",
        "print(\"\\nDataframe Info:\")\n",
        "print(ratings_by_movie_year.info())"
      ]
    },
    {
      "cell_type": "code",
      "execution_count": 78,
      "metadata": {
        "id": "XJ3nToeiDmOi"
      },
      "outputs": [
        {
          "name": "stdout",
          "output_type": "stream",
          "text": [
            "Number of rows: 323737\n",
            "Shape of dataframe: (323737, 7)\n",
            "\n",
            "Toy Story's 1996 ratings:\n",
            "   movieId             title                                       genres  \\\n",
            "0        1  Toy Story (1995)  Adventure|Animation|Children|Comedy|Fantasy   \n",
            "\n",
            "   year  rating_mean  rating_std  rating_count  \n",
            "0  1996     4.132756     0.88499          6237  \n"
          ]
        }
      ],
      "source": [
        "# How many rows are there in the resulting dataframe?\n",
        "print(f\"Number of rows: {len(ratings_by_movie_year)}\")\n",
        "print(f\"Shape of dataframe: {ratings_by_movie_year.shape}\")\n",
        "\n",
        "# Check if Toy Story's 1996 rating is correct\n",
        "toy_story_1996 = ratings_by_movie_year[\n",
        "    (ratings_by_movie_year['title'].str.contains('Toy Story', na=False)) & \n",
        "    (ratings_by_movie_year['year'] == 1996)\n",
        "]\n",
        "print(\"\\nToy Story's 1996 ratings:\")\n",
        "print(toy_story_1996)"
      ]
    },
    {
      "cell_type": "markdown",
      "metadata": {
        "id": "HiEw5JSvrRrL"
      },
      "source": [
        "In your dataframe do you see Toy Story having a mean rating of 4.132756 in 1996?  Is your dataframe 323737 rows × 7 columns?"
      ]
    },
    {
      "cell_type": "markdown",
      "metadata": {
        "id": "3_7syYtlE6gI"
      },
      "source": [
        "### A quick plot  [3 points]\n",
        "\n",
        "Now you have a dataset where one could explore how movies have done over time. I've made a couple plots below to show you want I mean. You don't have to add new code here. As long as you can generate a plausible plot, it means that you have done everything so far correctly and you get the points"
      ]
    },
    {
      "cell_type": "code",
      "execution_count": 79,
      "metadata": {
        "id": "XbtQBaBeFkod"
      },
      "outputs": [
        {
          "data": {
            "text/html": [
              "<div>\n",
              "<style scoped>\n",
              "    .dataframe tbody tr th:only-of-type {\n",
              "        vertical-align: middle;\n",
              "    }\n",
              "\n",
              "    .dataframe tbody tr th {\n",
              "        vertical-align: top;\n",
              "    }\n",
              "\n",
              "    .dataframe thead th {\n",
              "        text-align: right;\n",
              "    }\n",
              "</style>\n",
              "<table border=\"1\" class=\"dataframe\">\n",
              "  <thead>\n",
              "    <tr style=\"text-align: right;\">\n",
              "      <th></th>\n",
              "      <th>movieId</th>\n",
              "      <th>title</th>\n",
              "      <th>genres</th>\n",
              "      <th>rating_mean</th>\n",
              "      <th>rating_std</th>\n",
              "      <th>rating_count</th>\n",
              "      <th>rating_group</th>\n",
              "      <th>ratings_agreement</th>\n",
              "    </tr>\n",
              "  </thead>\n",
              "  <tbody>\n",
              "    <tr>\n",
              "      <th>351</th>\n",
              "      <td>356</td>\n",
              "      <td>Forrest Gump (1994)</td>\n",
              "      <td>Comedy|Drama|Romance|War</td>\n",
              "      <td>4.048011</td>\n",
              "      <td>0.93881</td>\n",
              "      <td>81491.0</td>\n",
              "      <td>good</td>\n",
              "      <td>average</td>\n",
              "    </tr>\n",
              "  </tbody>\n",
              "</table>\n",
              "</div>"
            ],
            "text/plain": [
              "     movieId                title                    genres  rating_mean  \\\n",
              "351      356  Forrest Gump (1994)  Comedy|Drama|Romance|War     4.048011   \n",
              "\n",
              "     rating_std  rating_count rating_group ratings_agreement  \n",
              "351     0.93881       81491.0         good           average  "
            ]
          },
          "execution_count": 79,
          "metadata": {},
          "output_type": "execute_result"
        }
      ],
      "source": [
        "# What movie has the max rating?\n",
        "movies_with_ratings.loc[movies_with_ratings['rating_count'] == movies_with_ratings['rating_count'].max()]"
      ]
    },
    {
      "cell_type": "markdown",
      "metadata": {
        "id": "MiyL7HK-XrfM"
      },
      "source": [
        "\n",
        "If you have done everything correctly you should get Forrest Gump (1994)"
      ]
    },
    {
      "cell_type": "code",
      "execution_count": 80,
      "metadata": {
        "id": "FnlX1JKNhOo_"
      },
      "outputs": [
        {
          "data": {
            "text/plain": [
              "np.int64(356)"
            ]
          },
          "execution_count": 80,
          "metadata": {},
          "output_type": "execute_result"
        }
      ],
      "source": [
        "# Grabbing just the ID for that movie.\n",
        "movies_with_ratings['movieId'][movies_with_ratings['rating_count'] == movies_with_ratings['rating_count'].max()].values[0]"
      ]
    },
    {
      "cell_type": "code",
      "execution_count": 81,
      "metadata": {
        "id": "bImfyPtG088g"
      },
      "outputs": [
        {
          "ename": "NameError",
          "evalue": "name 'most_viewed_df' is not defined",
          "output_type": "error",
          "traceback": [
            "\u001b[31m---------------------------------------------------------------------------\u001b[39m",
            "\u001b[31mNameError\u001b[39m                                 Traceback (most recent call last)",
            "\u001b[36mCell\u001b[39m\u001b[36m \u001b[39m\u001b[32mIn[81]\u001b[39m\u001b[32m, line 4\u001b[39m\n\u001b[32m      1\u001b[39m \u001b[38;5;66;03m# Forest gump has been reviewed over 80000 times!\u001b[39;00m\n\u001b[32m      2\u001b[39m \u001b[38;5;66;03m# Let's extract that movie id to an object and then make just that dataframe\u001b[39;00m\n\u001b[32m      3\u001b[39m movies_with_ratings[\u001b[33m'\u001b[39m\u001b[33mmovieId\u001b[39m\u001b[33m'\u001b[39m][movies_with_ratings[\u001b[33m'\u001b[39m\u001b[33mrating_count\u001b[39m\u001b[33m'\u001b[39m] == movies_with_ratings[\u001b[33m'\u001b[39m\u001b[33mrating_count\u001b[39m\u001b[33m'\u001b[39m].max()].values[\u001b[32m0\u001b[39m]\n\u001b[32m----> \u001b[39m\u001b[32m4\u001b[39m \u001b[43mmost_viewed_df\u001b[49m\n",
            "\u001b[31mNameError\u001b[39m: name 'most_viewed_df' is not defined"
          ]
        }
      ],
      "source": [
        "# Forest gump has been reviewed over 80000 times!\n",
        "# Let's extract that movie id to an object and then make just that dataframe\n",
        "movies_with_ratings['movieId'][movies_with_ratings['rating_count'] == movies_with_ratings['rating_count'].max()].values[0]\n",
        "most_viewed_df"
      ]
    },
    {
      "cell_type": "code",
      "execution_count": null,
      "metadata": {
        "id": "eAjP5del1KtX"
      },
      "outputs": [
        {
          "ename": "NameError",
          "evalue": "name 'most_viewed_df' is not defined",
          "output_type": "error",
          "traceback": [
            "\u001b[31m---------------------------------------------------------------------------\u001b[39m",
            "\u001b[31mNameError\u001b[39m                                 Traceback (most recent call last)",
            "\u001b[36mCell\u001b[39m\u001b[36m \u001b[39m\u001b[32mIn[42]\u001b[39m\u001b[32m, line 2\u001b[39m\n\u001b[32m      1\u001b[39m \u001b[38;5;66;03m#  A quick lineplot shows that although forest gump has a really high rating on average, it seems to have some bad years for some reason.\u001b[39;00m\n\u001b[32m----> \u001b[39m\u001b[32m2\u001b[39m sns.lineplot(data = \u001b[43mmost_viewed_df\u001b[49m, x = \u001b[33m'\u001b[39m\u001b[33myear\u001b[39m\u001b[33m'\u001b[39m, y = \u001b[33m'\u001b[39m\u001b[33mrating_mean\u001b[39m\u001b[33m'\u001b[39m)\n",
            "\u001b[31mNameError\u001b[39m: name 'most_viewed_df' is not defined"
          ]
        }
      ],
      "source": [
        "#  A quick lineplot shows that although forest gump has a really high rating on average, it seems to have some bad years for some reason.\n",
        "sns.lineplot(data = most_viewed_df, x = 'year', y = 'rating_mean')"
      ]
    },
    {
      "cell_type": "code",
      "execution_count": null,
      "metadata": {},
      "outputs": [],
      "source": [
        "# Let's look at the summary statistics for Forrest Gump across years\n",
        "print(\"Summary statistics for Forrest Gump ratings by year:\")\n",
        "print(most_viewed_df.describe())\n",
        "\n",
        "# Find the year with highest and lowest ratings\n",
        "best_year = most_viewed_df.loc[most_viewed_df['rating_mean'].idxmax()]\n",
        "worst_year = most_viewed_df.loc[most_viewed_df['rating_mean'].idxmin()]\n",
        "\n",
        "print(f\"\\nBest rated year: {best_year['year']} with average rating {best_year['rating_mean']:.2f}\")\n",
        "print(f\"Worst rated year: {worst_year['year']} with average rating {worst_year['rating_mean']:.2f}\")\n",
        "\n",
        "# Add a trend line to see the overall pattern\n",
        "plt.figure(figsize=(10, 6))\n",
        "sns.regplot(data=most_viewed_df, x='year', y='rating_mean', scatter_kws={'alpha':0.5})\n",
        "plt.title(\"Forrest Gump Ratings Over Time with Trend\")\n",
        "plt.show()"
      ]
    },
    {
      "cell_type": "markdown",
      "metadata": {
        "id": "XUJh36KJHR1W"
      },
      "source": [
        "You can also look up some of your favorite movies.  Here we are looking up 'Dredd'.  We can search in the titles for movies we like, and then call that ID to filter a new dataframe.  We can then make some plots"
      ]
    },
    {
      "cell_type": "code",
      "execution_count": null,
      "metadata": {
        "id": "XmVzdCTNKRtI"
      },
      "outputs": [],
      "source": [
        "# Search for Dredd\n",
        "movies_with_ratings[movies_with_ratings['title'].str.contains('Dredd')]"
      ]
    },
    {
      "cell_type": "code",
      "execution_count": null,
      "metadata": {
        "id": "cHvRgMtcHQR5"
      },
      "outputs": [],
      "source": [
        "# Call the dredd to make a dataframe\n",
        "dredd_id = movies_with_ratings['movieId'][movies_with_ratings['title'].str.contains('^Dredd')].values[0]\n",
        "dredd_df = ratings_by_movie_year[ratings_by_movie_year['movieId'] == dredd_id]\n",
        "dredd_df"
      ]
    },
    {
      "cell_type": "code",
      "execution_count": null,
      "metadata": {
        "id": "AibrzL2qK82t"
      },
      "outputs": [],
      "source": [
        "# Our plot shows that the year after release it was reviewed pretty poorly,\n",
        "# but the score gradually grew as people realized how awesome it was :)\n",
        "sns.lineplot(x = 'year', y = 'rating_mean', data = dredd_df)"
      ]
    },
    {
      "cell_type": "code",
      "execution_count": null,
      "metadata": {},
      "outputs": [],
      "source": [
        "# Compare the rating trajectories\n",
        "plt.figure(figsize=(12, 6))\n",
        "sns.lineplot(data=most_viewed_df, x='year', y='rating_mean', label='Forrest Gump')\n",
        "sns.lineplot(data=dredd_df, x='year', y='rating_mean', label='Dredd')\n",
        "plt.title(\"Rating Comparison: Forrest Gump vs Dredd\")\n",
        "plt.legend()\n",
        "plt.show()\n",
        "\n",
        "# Print some statistics about both movies\n",
        "print(\"\\nForrest Gump Statistics:\")\n",
        "print(most_viewed_df['rating_mean'].describe())\n",
        "print(\"\\nDredd Statistics:\")\n",
        "print(dredd_df['rating_mean'].describe())"
      ]
    }
  ],
  "metadata": {
    "colab": {
      "provenance": []
    },
    "kernelspec": {
      "display_name": "venv",
      "language": "python",
      "name": "python3"
    },
    "language_info": {
      "codemirror_mode": {
        "name": "ipython",
        "version": 3
      },
      "file_extension": ".py",
      "mimetype": "text/x-python",
      "name": "python",
      "nbconvert_exporter": "python",
      "pygments_lexer": "ipython3",
      "version": "3.12.4"
    }
  },
  "nbformat": 4,
  "nbformat_minor": 0
}
