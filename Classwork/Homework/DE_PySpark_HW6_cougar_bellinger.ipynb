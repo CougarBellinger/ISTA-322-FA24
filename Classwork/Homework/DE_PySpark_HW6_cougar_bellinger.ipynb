{
  "cells": [
    {
      "cell_type": "markdown",
      "source": [
        "# HW6 - Transforming vote tallies\n",
        "\n",
        "This homework give you some insight into the transformations that are underlying all the voting dashboards you've undoubtedly seen all over the news.  Here we are going to use 2020 Presidential election data.\n",
        "\n",
        "The dataset for this week contains voting outcomes for different batches of votes in the battleground states.  The data consist of the following:\n",
        "* The state of the votes\n",
        "* The time the voting results were reported\n",
        "* The number of votes in the batch (new_votes)\n",
        "* The number of those new votes that were for Joe Biden (votes_biden)\n",
        "\n",
        "The key metric of interest is in how each candidate, Biden and Trump, are doing over time in terms of the percentage of votes they're getting with each batch.  This is easier to think of compared to raw numbers for a variety of reasons.  One is that the number of votes varies state-to-state and batch-to-batch, so just thinking about raw numbers doesn't inform very much.  The other is that people are often thinking about the percentage a candidate needs to take the lead or win the state.  If each batch is hitting at or above that percentage, then they have a good chance of winning the state.  \n",
        "\n",
        "The goal of this homework is to generate the percentages of votes in each state that are going to Trump and Biden **on an hourly reporting basis**. Each line is a batch of votes that were reported at a given time.  Sometimes there are multiple in an hour.  We want to report a coarser resolution which is why we want to group by hours and days.  \n",
        "\n",
        "Given you have only the variables listed above, you're going to need to do a few things to make this happen:\n",
        "* Import your data and apply a timestamp\n",
        "* Make a column for the number of votes received by Trump\n",
        "* Aggregate your data to get the number of votes for each on a daily and hourly basis\n",
        "* Create columns of the percentages of votes each have received in the aggregated data\n",
        "\n",
        "**NOTE 1** - This is by every measure 'small' data, but it needs to be coded in pyspark.\n",
        "\n",
        "**NOTE 2** - These are all votes that were reported after the initial waves of in-person and early reported mail-in votes.  So if you explore you might see that the total votes in this dataset don't seem to match up with what you would find elsewhere.  That's only because those early votes aren't added in.  These are just batch totals of later reported batches.\n",
        "\n",
        "\n",
        "\n",
        "**Submission Instruction:**\n",
        "\n",
        "* Make a copy and replace blank in the title with your name\n",
        "* Run all the cells\n",
        "* Download the notebook (.ipynb)\n",
        "* Submit on Gradescope\n",
        "\n"
      ],
      "metadata": {
        "application/vnd.databricks.v1+cell": {
          "title": "",
          "showTitle": false,
          "inputWidgets": {},
          "nuid": "5274b423-6f54-47ac-8ddd-c9531bd8e760"
        },
        "id": "_385yHcwgs5l"
      }
    },
    {
      "cell_type": "code",
      "source": [
        "!pip install pyspark"
      ],
      "metadata": {
        "id": "761TiB9_YQWo"
      },
      "execution_count": null,
      "outputs": []
    },
    {
      "cell_type": "markdown",
      "source": [
        "## Importing your data - 3 point\n",
        "\n",
        "The URL to import your data is\n",
        "\n",
        "http://131.193.32.85:9000/mybucket/votes_2020_hw5.txt\n",
        "\n",
        "You need to import the data with the appropriate options applied.  You will need to apply a timestampFormat option as well, but it's best to import the data first, look at the format, and then create your timestamp string.  Note, this is fractional seconds in the timestamp. <a href=\"https://spark.apache.org/docs/latest/sql-ref-datetime-pattern.html\" target=\"_blank\">Remember you can see a full list of datetime formatting here</a>\n",
        "\n",
        "Also, although it's a text file you can import it as a CSV and specify a delimiter as an option.  \n",
        "\n",
        "Call the imported dataframe 'votes'"
      ],
      "metadata": {
        "application/vnd.databricks.v1+cell": {
          "title": "",
          "showTitle": false,
          "inputWidgets": {},
          "nuid": "c4b17a43-d676-4ab6-8041-34318c381ed7"
        },
        "id": "bRUzAD_ngs5r"
      }
    },
    {
      "cell_type": "code",
      "source": [
        "# Make a filepath\n",
        "..."
      ],
      "metadata": {
        "application/vnd.databricks.v1+cell": {
          "title": "",
          "showTitle": false,
          "inputWidgets": {},
          "nuid": "12a8458b-4c35-4378-aba5-3091a4c55fa1"
        },
        "id": "KqW0ga5ogs5s",
        "outputId": "70c2a003-1939-4719-90a5-4bb140ce80a4"
      },
      "outputs": [
        {
          "output_type": "display_data",
          "metadata": {
            "application/vnd.databricks.v1+output": {
              "data": "",
              "errorSummary": "",
              "metadata": {},
              "errorTraceType": null,
              "type": "ipynbError",
              "arguments": {}
            }
          },
          "data": {
            "text/html": [
              "<style scoped>\n  .ansiout {\n    display: block;\n    unicode-bidi: embed;\n    white-space: pre-wrap;\n    word-wrap: break-word;\n    word-break: break-all;\n    font-family: \"Source Code Pro\", \"Menlo\", monospace;;\n    font-size: 13px;\n    color: #555;\n    margin-left: 4px;\n    line-height: 19px;\n  }\n</style>"
            ]
          },
          "transient": null
        }
      ],
      "execution_count": null
    },
    {
      "cell_type": "code",
      "source": [
        "# import as votes\n",
        "..."
      ],
      "metadata": {
        "application/vnd.databricks.v1+cell": {
          "title": "",
          "showTitle": false,
          "inputWidgets": {},
          "nuid": "8bf1a6a0-fe74-40f3-8fae-37cefff7be8a"
        },
        "id": "wfk2uPflgs5v",
        "outputId": "a6623c5c-ef98-411a-e6a9-2c52636b2b1e"
      },
      "outputs": [
        {
          "output_type": "display_data",
          "metadata": {
            "application/vnd.databricks.v1+output": {
              "data": "",
              "errorSummary": "",
              "metadata": {},
              "errorTraceType": null,
              "type": "ipynbError",
              "arguments": {}
            }
          },
          "data": {
            "text/html": [
              "<style scoped>\n  .ansiout {\n    display: block;\n    unicode-bidi: embed;\n    white-space: pre-wrap;\n    word-wrap: break-word;\n    word-break: break-all;\n    font-family: \"Source Code Pro\", \"Menlo\", monospace;;\n    font-size: 13px;\n    color: #555;\n    margin-left: 4px;\n    line-height: 19px;\n  }\n</style>"
            ]
          },
          "transient": null
        }
      ],
      "execution_count": null
    },
    {
      "cell_type": "code",
      "source": [
        "# Check data\n",
        "votes.show()"
      ],
      "metadata": {
        "application/vnd.databricks.v1+cell": {
          "title": "",
          "showTitle": false,
          "inputWidgets": {},
          "nuid": "26ac2a24-da87-40ea-b034-5c15a8fe1af9"
        },
        "id": "YWILcKW3gs5w",
        "outputId": "8aa85b64-bdba-4e4e-cbba-476e7a5bd24c"
      },
      "outputs": [
        {
          "output_type": "display_data",
          "metadata": {
            "application/vnd.databricks.v1+output": {
              "data": "",
              "errorSummary": "",
              "metadata": {},
              "errorTraceType": null,
              "type": "ipynbError",
              "arguments": {}
            }
          },
          "data": {
            "text/html": [
              "<style scoped>\n  .ansiout {\n    display: block;\n    unicode-bidi: embed;\n    white-space: pre-wrap;\n    word-wrap: break-word;\n    word-break: break-all;\n    font-family: \"Source Code Pro\", \"Menlo\", monospace;;\n    font-size: 13px;\n    color: #555;\n    margin-left: 4px;\n    line-height: 19px;\n  }\n</style>"
            ]
          },
          "transient": null
        }
      ],
      "execution_count": null
    },
    {
      "cell_type": "markdown",
      "source": [
        "## Create number of votes for trump - 3 points\n",
        "\n",
        "Just like it sounds.  Create a column in votes called 'votes_trump' that has the number of votes he received in the batch.\n",
        "\n",
        "You'll need to import all the functions from pyspark.sql.functions to do this and later steps."
      ],
      "metadata": {
        "application/vnd.databricks.v1+cell": {
          "title": "",
          "showTitle": false,
          "inputWidgets": {},
          "nuid": "3c460cef-6a16-49c3-b323-1d0314f6384d"
        },
        "id": "P_klvDGugs5x"
      }
    },
    {
      "cell_type": "code",
      "source": [
        "# make votes_trump"
      ],
      "metadata": {
        "application/vnd.databricks.v1+cell": {
          "title": "",
          "showTitle": false,
          "inputWidgets": {},
          "nuid": "abc440d5-5630-4b44-850a-b1cb8fd885fc"
        },
        "id": "LLGlB8i2gs5y",
        "outputId": "0909f699-c068-486b-c66a-420b517a2e46"
      },
      "outputs": [
        {
          "output_type": "display_data",
          "metadata": {
            "application/vnd.databricks.v1+output": {
              "data": "",
              "errorSummary": "",
              "metadata": {},
              "errorTraceType": null,
              "type": "ipynbError",
              "arguments": {}
            }
          },
          "data": {
            "text/html": [
              "<style scoped>\n  .ansiout {\n    display: block;\n    unicode-bidi: embed;\n    white-space: pre-wrap;\n    word-wrap: break-word;\n    word-break: break-all;\n    font-family: \"Source Code Pro\", \"Menlo\", monospace;;\n    font-size: 13px;\n    color: #555;\n    margin-left: 4px;\n    line-height: 19px;\n  }\n</style>"
            ]
          },
          "transient": null
        }
      ],
      "execution_count": null
    },
    {
      "cell_type": "code",
      "source": [
        "# Check\n",
        "..."
      ],
      "metadata": {
        "application/vnd.databricks.v1+cell": {
          "title": "",
          "showTitle": false,
          "inputWidgets": {},
          "nuid": "a59513af-8a45-40e4-bc61-ec10d36f50c8"
        },
        "id": "5HpRu_IQgs50",
        "outputId": "a9174f2a-defd-46d1-b544-d87e15abaf42"
      },
      "outputs": [
        {
          "output_type": "display_data",
          "metadata": {
            "application/vnd.databricks.v1+output": {
              "data": "",
              "errorSummary": "",
              "metadata": {},
              "errorTraceType": null,
              "type": "ipynbError",
              "arguments": {}
            }
          },
          "data": {
            "text/html": [
              "<style scoped>\n  .ansiout {\n    display: block;\n    unicode-bidi: embed;\n    white-space: pre-wrap;\n    word-wrap: break-word;\n    word-break: break-all;\n    font-family: \"Source Code Pro\", \"Menlo\", monospace;;\n    font-size: 13px;\n    color: #555;\n    margin-left: 4px;\n    line-height: 19px;\n  }\n</style>"
            ]
          },
          "transient": null
        }
      ],
      "execution_count": null
    },
    {
      "cell_type": "markdown",
      "source": [
        "## Aggregate data - 6 points\n",
        "\n",
        "Time to group your data. You're going to need to group by day, hour, and then state to get the totals.  I showed you how to group by a single column that's not a datetime in the previous lesson.  Do do more than one you just add them in separated by commas.  The only issue is that you need to extract day and hour from the timestamp.  To do this for the day of the month your grouping variable would be `dayofmonth('timestamp')`.  I'll let you figure out how to do it for hour and day.  Grouping by state should be easy.\n",
        "\n",
        "For the aggregation you need to calculate the sums that will allow you to get the percentage of votes that went to Biden vs Trump in a given hour.\n",
        "\n",
        "Call the resulting dataframe votes_hourly"
      ],
      "metadata": {
        "application/vnd.databricks.v1+cell": {
          "title": "",
          "showTitle": false,
          "inputWidgets": {},
          "nuid": "0a04e4c4-7987-434b-a4a8-a702d0a9d8d1"
        },
        "id": "5z_l9DTVgs50"
      }
    },
    {
      "cell_type": "code",
      "source": [
        "# make votes_hourly"
      ],
      "metadata": {
        "application/vnd.databricks.v1+cell": {
          "title": "",
          "showTitle": false,
          "inputWidgets": {},
          "nuid": "f1196891-c790-4aa3-b064-9fb6035bd1f8"
        },
        "id": "pmMCPoLlgs52",
        "outputId": "53544155-d46b-44a3-ee71-edcebd279e90"
      },
      "outputs": [
        {
          "output_type": "display_data",
          "metadata": {
            "application/vnd.databricks.v1+output": {
              "data": "",
              "errorSummary": "",
              "metadata": {},
              "errorTraceType": null,
              "type": "ipynbError",
              "arguments": {}
            }
          },
          "data": {
            "text/html": [
              "<style scoped>\n  .ansiout {\n    display: block;\n    unicode-bidi: embed;\n    white-space: pre-wrap;\n    word-wrap: break-word;\n    word-break: break-all;\n    font-family: \"Source Code Pro\", \"Menlo\", monospace;;\n    font-size: 13px;\n    color: #555;\n    margin-left: 4px;\n    line-height: 19px;\n  }\n</style>"
            ]
          },
          "transient": null
        }
      ],
      "execution_count": null
    },
    {
      "cell_type": "markdown",
      "source": [
        "## Calculating percentage of votes per hour - 6 points\n",
        "\n",
        "Now go and make your columns of the percentage of votes received each hour by each candidate. Call these 'percent_biden' and 'percent_trump'"
      ],
      "metadata": {
        "application/vnd.databricks.v1+cell": {
          "title": "",
          "showTitle": false,
          "inputWidgets": {},
          "nuid": "3d9a0bab-5a25-4765-99c4-9d0cc42adc9e"
        },
        "id": "z0Qzit3kgs53"
      }
    },
    {
      "cell_type": "code",
      "source": [],
      "metadata": {
        "application/vnd.databricks.v1+cell": {
          "title": "",
          "showTitle": false,
          "inputWidgets": {},
          "nuid": "fc7c420d-53a3-4e4a-a062-0f580b6957d8"
        },
        "id": "inDC7Igsgs54",
        "outputId": "ba41825b-d7e3-4fb1-8e4a-111f7a5134e5"
      },
      "outputs": [
        {
          "output_type": "display_data",
          "metadata": {
            "application/vnd.databricks.v1+output": {
              "data": "",
              "errorSummary": "",
              "metadata": {},
              "errorTraceType": null,
              "type": "ipynbError",
              "arguments": {}
            }
          },
          "data": {
            "text/html": [
              "<style scoped>\n  .ansiout {\n    display: block;\n    unicode-bidi: embed;\n    white-space: pre-wrap;\n    word-wrap: break-word;\n    word-break: break-all;\n    font-family: \"Source Code Pro\", \"Menlo\", monospace;;\n    font-size: 13px;\n    color: #555;\n    margin-left: 4px;\n    line-height: 19px;\n  }\n</style>"
            ]
          },
          "transient": null
        }
      ],
      "execution_count": null
    },
    {
      "cell_type": "markdown",
      "source": [
        "## Rounding values - 3 point\n",
        "\n",
        "Those percent_biden and percent_trump columns have too many digits.  You can import a rounding `round()` function from pyspark using `from pyspark.sql.functions import round`.  Go and import that function and then apply round to those columns so that they have 3 digits after the decimal.  It's fine to overwrite them with the rounded values."
      ],
      "metadata": {
        "application/vnd.databricks.v1+cell": {
          "title": "",
          "showTitle": false,
          "inputWidgets": {},
          "nuid": "e8efb2a6-1e69-48bb-900d-67b851f79bca"
        },
        "id": "ciD5WqAegs55"
      }
    },
    {
      "cell_type": "code",
      "source": [],
      "metadata": {
        "application/vnd.databricks.v1+cell": {
          "title": "",
          "showTitle": false,
          "inputWidgets": {},
          "nuid": "2293174c-dfb8-4058-becd-1b48d7036e95"
        },
        "id": "5UEij_YSgs55",
        "outputId": "92d59411-02e4-424b-b290-1ac063a190d5"
      },
      "outputs": [
        {
          "output_type": "display_data",
          "metadata": {
            "application/vnd.databricks.v1+output": {
              "data": "",
              "errorSummary": "",
              "metadata": {},
              "errorTraceType": null,
              "type": "ipynbError",
              "arguments": {}
            }
          },
          "data": {
            "text/html": [
              "<style scoped>\n  .ansiout {\n    display: block;\n    unicode-bidi: embed;\n    white-space: pre-wrap;\n    word-wrap: break-word;\n    word-break: break-all;\n    font-family: \"Source Code Pro\", \"Menlo\", monospace;;\n    font-size: 13px;\n    color: #555;\n    margin-left: 4px;\n    line-height: 19px;\n  }\n</style>"
            ]
          },
          "transient": null
        }
      ],
      "execution_count": null
    },
    {
      "cell_type": "markdown",
      "source": [
        "## SQL query - 9 points\n",
        "\n",
        "Now let's leverage those SQL powers to summarize our data a bit more within Georgia, which was a critical state for 2020 election.  I want you to write two queries.  \n",
        "1. The first should be just getting all data from Georgia. You can use \"Like '%Georgia%' \" to match for Georigia state in your query (you may see negative values because the data has not been cleaned).\n",
        "2. The second should get the daily percent of votes going to Trump for each state. Keep in mind that the percent votes will need to be recalculated (ie averaging the hourly percentages won't work).\n",
        "\n",
        "Remember you need to register your dataframe as a table to access it!"
      ],
      "metadata": {
        "application/vnd.databricks.v1+cell": {
          "title": "",
          "showTitle": false,
          "inputWidgets": {},
          "nuid": "58406f42-8063-457a-a757-61e2d6b4f8dc"
        },
        "id": "4RfNx-bLgs56"
      }
    },
    {
      "cell_type": "code",
      "source": [
        "# query 1"
      ],
      "metadata": {
        "application/vnd.databricks.v1+cell": {
          "title": "",
          "showTitle": false,
          "inputWidgets": {},
          "nuid": "35f26f0d-4bb9-4466-9a9c-c128328bf665"
        },
        "id": "pJ_87m_rgs57",
        "outputId": "882b510d-dc51-41cf-e11b-976cf604ffb8"
      },
      "outputs": [
        {
          "output_type": "display_data",
          "metadata": {
            "application/vnd.databricks.v1+output": {
              "data": "",
              "errorSummary": "",
              "metadata": {},
              "errorTraceType": null,
              "type": "ipynbError",
              "arguments": {}
            }
          },
          "data": {
            "text/html": [
              "<style scoped>\n  .ansiout {\n    display: block;\n    unicode-bidi: embed;\n    white-space: pre-wrap;\n    word-wrap: break-word;\n    word-break: break-all;\n    font-family: \"Source Code Pro\", \"Menlo\", monospace;;\n    font-size: 13px;\n    color: #555;\n    margin-left: 4px;\n    line-height: 19px;\n  }\n</style>"
            ]
          },
          "transient": null
        }
      ],
      "execution_count": null
    },
    {
      "cell_type": "code",
      "source": [
        "# query 2"
      ],
      "metadata": {
        "application/vnd.databricks.v1+cell": {
          "title": "",
          "showTitle": false,
          "inputWidgets": {},
          "nuid": "03e4cefa-3689-49ef-8c27-708b67701098"
        },
        "id": "nvManeCggs57",
        "outputId": "7501b32b-02a4-4100-ca4f-e595fba6ac2f"
      },
      "outputs": [
        {
          "output_type": "display_data",
          "metadata": {
            "application/vnd.databricks.v1+output": {
              "data": "",
              "errorSummary": "",
              "metadata": {},
              "errorTraceType": null,
              "type": "ipynbError",
              "arguments": {}
            }
          },
          "data": {
            "text/html": [
              "<style scoped>\n  .ansiout {\n    display: block;\n    unicode-bidi: embed;\n    white-space: pre-wrap;\n    word-wrap: break-word;\n    word-break: break-all;\n    font-family: \"Source Code Pro\", \"Menlo\", monospace;;\n    font-size: 13px;\n    color: #555;\n    margin-left: 4px;\n    line-height: 19px;\n  }\n</style>"
            ]
          },
          "transient": null
        }
      ],
      "execution_count": null
    }
  ],
  "metadata": {
    "application/vnd.databricks.v1+notebook": {
      "notebookName": "ISTA_322_HW6_StudentFall2021",
      "dashboards": [
        {
          "elements": [
            {
              "elementNUID": "35f26f0d-4bb9-4466-9a9c-c128328bf665",
              "guid": "5db53781-3594-4d4c-a00f-ff41b2a13430",
              "options": null,
              "position": null,
              "elementType": "command"
            }
          ],
          "guid": "553111bb-6467-4f96-a860-575ecd3b3bee",
          "layoutOption": {
            "stack": true,
            "grid": true
          },
          "version": "DashboardViewV1",
          "nuid": "dc17e056-49b8-458d-9878-4e5c89cbb861",
          "origId": 347964148883662,
          "title": "Untitled",
          "width": 1024,
          "globalVars": {}
        }
      ],
      "notebookMetadata": {
        "pythonIndentUnit": 4
      },
      "language": "python",
      "widgets": {},
      "notebookOrigID": 347964148883643
    },
    "colab": {
      "provenance": []
    }
  },
  "nbformat": 4,
  "nbformat_minor": 0
}