{
  "nbformat": 4,
  "nbformat_minor": 0,
  "metadata": {
    "colab": {
      "provenance": []
    },
    "kernelspec": {
      "name": "python3",
      "display_name": "Python 3"
    }
  },
  "cells": [
    {
      "cell_type": "markdown",
      "source": [
        "##  HW3 - Flatting JSON data from Yelp\n",
        "\n",
        "\n"
      ],
      "metadata": {
        "id": "29gIfv-RlJ2e"
      }
    },
    {
      "cell_type": "markdown",
      "source": [
        "**Submission Instruction**\n",
        "\n",
        "1- Replace black in the tile with your name.\n",
        "\n",
        "2- Complete your notebook and run all the cells\n",
        "\n",
        "3- Download .ipynb\n",
        "\n",
        "4- Submit .ipynb file on Gradescope"
      ],
      "metadata": {
        "id": "ZFLsyvKclNXk"
      }
    },
    {
      "cell_type": "markdown",
      "metadata": {
        "id": "0gnJUY4rMsiK"
      },
      "source": [
        "**Setting Up Yelp API**\n",
        "\n",
        "For this assignment we're going to be using the Yelp API via the python package `yelpapi`.  Like with the Spotify API, you need to go get a yelp developer account here: https://www.yelp.com/fusion. Here is step-by-step guide:\n",
        "\n",
        "1- Go to https://www.yelp.com/fusion\n",
        "\n",
        "2- Click on Start Free Trial and Click on Start Free 30-day Trial on Premium\n",
        "\n",
        "3- Sign Up and Confirm your email address\n",
        "\n",
        "4- After Signing Up you will see the Create New App page.\n",
        "\n",
        "5- Put a name for your app, you can select Education as Industry. As your contact email put it a made up business email. I used riazi@microsoft.com. Finally select Premium as the Access Tier (without Premium access you cannot fetch reviews from Yelp and cannot complete this notebook). You can put NA under description.\n",
        "\n",
        "6- Collect the write down your API Key. When you get the API key you can proceed with the homework.\n",
        "\n",
        "The goal will be to make a dataset of local taco places that are doing well during Coronavirus. Specifically, we want to make a dataset that takes their average score since they've been open and compares it to the average score of the last three reviews.  Shops that have been doing well should hopefully have these two averages be similar.\n",
        "\n",
        "There will be three main steps to this process:\n",
        "\n",
        "* First you'll search by location type and get aggregate information for everything that falls in the ice cream category.\n",
        "* Second you'll get reviews for all those locations.  Yelp only returns three reviews when you call an ID, but that still works. Given you can only query one ID at a time, you'll need to write a loop to create a dataframe of all the reviews.  \n",
        "* Third, you'll aggregate the latest review information to see how their average review score compares to their overall average review score.  "
      ]
    },
    {
      "cell_type": "code",
      "metadata": {
        "id": "y-4mybJavcJV"
      },
      "source": [
        "# Run this cell the first time, but after installing the yelpapi you need to reset the session. After reset skip this cell\n",
        "# Mount google drive\n",
        "import os, sys\n",
        "from google.colab import drive\n",
        "drive.mount('/content/mnt')\n",
        "nb_path = '/content/notebooks'\n",
        "os.symlink('/content/mnt/My Drive/Colab Notebooks', nb_path)\n",
        "sys.path.insert(0, nb_path)  # or append(nb_path)"
      ],
      "execution_count": null,
      "outputs": []
    },
    {
      "cell_type": "code",
      "source": [
        "#Run this cell after the resetting the session\n",
        "# Mount google drive\n",
        "import os, sys\n",
        "from google.colab import drive\n",
        "drive.mount('/content/mnt')\n",
        "nb_path = '/content/notebooks'\n",
        "\n",
        "sys.path.insert(0, nb_path)  # or append(nb_path)"
      ],
      "metadata": {
        "id": "hdAK690u8v3q"
      },
      "execution_count": null,
      "outputs": []
    },
    {
      "cell_type": "code",
      "metadata": {
        "id": "JRGKRj6c2fOF"
      },
      "source": [
        "# Install yelpapi once. Next time you run this notebook, you can skip this.\n",
        "!pip install --target=$nb_path yelpapi"
      ],
      "execution_count": null,
      "outputs": []
    },
    {
      "cell_type": "markdown",
      "source": [],
      "metadata": {
        "id": "N9gAeONVNRct"
      }
    },
    {
      "cell_type": "code",
      "metadata": {
        "id": "FK9qOuArYia8"
      },
      "source": [
        "# Now enter your API key so you can make requests\n",
        "from yelpapi import YelpAPI\n",
        "from pandas import json_normalize\n",
        "# yelp_api = YelpAPI('ENTER YOUR KEY HERE')\n",
        "api_key = 'ENTER YOUR KEY HERE'\n",
        "yelp_api = YelpAPI(api_key)\n"
      ],
      "execution_count": null,
      "outputs": []
    },
    {
      "cell_type": "markdown",
      "metadata": {
        "id": "cMj50Z03kBWt"
      },
      "source": [
        "### Making calls to with Yelp API\n",
        "\n",
        "There are many functions in the `yelpapi` package.  The first one we'll use is `search_query()`.  You can put in a term you want to search for followed up by the location and it'll give you all the locations that match.  For example, the following would search for all ice cream places here in Chicago.\n",
        "\n",
        "```\n",
        "ice = yelp_api.search_query(term = 'ice cream', location = 'Chicago, IL')\n",
        "```\n",
        "\n",
        "This will give you a response of all the ice cream places in Chicago. It'll be in JSON form so will need flattening before being useful."
      ]
    },
    {
      "cell_type": "markdown",
      "metadata": {
        "id": "FLRf120imkkc"
      },
      "source": [
        "### Getting all taco shops and flattening - [6 points]\n",
        "\n",
        "**Task:** Start by making a dataframe that uses the `search_query()` function to search using the term 'taco'.  Call this `taco_shops`.  After that, flatten the json results to `taco_shops_df`."
      ]
    },
    {
      "cell_type": "code",
      "metadata": {
        "id": "j0qLoWa5SnlA"
      },
      "source": [
        "# search for taco shops and store to taco_shops\n",
        "... = yelp_api.search_query(...,  ...)"
      ],
      "execution_count": null,
      "outputs": []
    },
    {
      "cell_type": "code",
      "metadata": {
        "id": "tHuZEmWKUWFS"
      },
      "source": [
        "# Look at taco_shops\n",
        "..."
      ],
      "execution_count": null,
      "outputs": []
    },
    {
      "cell_type": "code",
      "metadata": {
        "id": "LEbc8hBMosE3"
      },
      "source": [
        "# What keys are present?\n",
        "..."
      ],
      "execution_count": null,
      "outputs": []
    },
    {
      "cell_type": "markdown",
      "metadata": {
        "id": "DT4CMQ_HoysJ"
      },
      "source": [
        "Now use the json_normalize function to flatten `taco_shops`.  Note that you need to select the key that contains the businesses when flattening.  But this one is easier than the examples from the homework in that you don't need to provide any other arguments.  \n",
        "\n",
        "Store the result as `taco_shops_df`\n",
        "\n",
        "After that select only the columns 'id', 'alias', 'name', 'review_count', and 'rating'."
      ]
    },
    {
      "cell_type": "code",
      "metadata": {
        "id": "XEM0ShY-E7Gz"
      },
      "source": [
        "# Flatten to taco_shops_df\n",
        "taco_shops_df = ...\n",
        "taco_shops_df.head() # Check"
      ],
      "execution_count": null,
      "outputs": []
    },
    {
      "cell_type": "code",
      "metadata": {
        "id": "AYqZknYopfsH"
      },
      "source": [
        "# Select only necessary columns\n",
        "... = ....[['...', '...', ...]]\n",
        "taco_shops_df.shape # Check shape.  Is it 20 x 5?"
      ],
      "execution_count": null,
      "outputs": []
    },
    {
      "cell_type": "markdown",
      "metadata": {
        "id": "W91ds4_hrOq4"
      },
      "source": [
        "## Getting reviews for the taco shops - [12 points]\n",
        "\n",
        "Now we're going to use the `reviews_query()` function to get the last three reviews for a given ID.  The issue here is that you can only feed it one ID at a time.  So, we'll have to write a loop that queries for each ID in `taco_shops_df` and builds out a dataframe of reviews.  \n",
        "\n",
        "**Task:**  Write a for loop that does the following steps:\n",
        "* First make an empty list outside of the loop called `taco_shops_reviews_df`\n",
        "* Initalize your loop so that it runs the length of `taco_shops_df` you made earlier.\n",
        "* For each i in loop, use the id from `taco_shops_df` to get reviews from yelp using the `reviews_query()` function in `yelp_api` and store it to an object called `reviews`.\n",
        "* Flatten `reviews` to an objected called `reviews_df`\n",
        "* Add `location_id` to `reviews_df` - I gave you the code to do this :)\n",
        "* Append `reviews_df` to `taco_shops_reviews_df`\n",
        "* After the loop Transform `taco_shops_reviews_df` to a dataframe with the same name using concat\n",
        "* Finally select only the columns `'id', 'text', 'rating', 'time_created', 'location_id'`\n",
        "* Note: You need to slow down retreving the reviews using time.sleep(1)"
      ]
    },
    {
      "cell_type": "code",
      "metadata": {
        "id": "mt4ynTOZr9wL"
      },
      "source": [
        "# Write our loop\n",
        ".... = list()\n",
        "\n",
        "for i in ...:\n",
        "\n",
        "  ... = ...\n",
        "  ... = ...\n",
        "  reviews_df['location_id'] = taco_shops_df['id'][i]\n",
        "  ... = ... ....(...)\n"
      ],
      "execution_count": null,
      "outputs": []
    },
    {
      "cell_type": "code",
      "metadata": {
        "id": "pWEWCichIC5n"
      },
      "source": [
        "# Select columns 'id', 'text', 'rating', 'time_created', 'location_id'\n",
        "..."
      ],
      "execution_count": null,
      "outputs": []
    },
    {
      "cell_type": "markdown",
      "metadata": {
        "id": "NO73i3jGuu0F"
      },
      "source": [
        "### Aggregating your review data - [6 points]\n",
        "\n",
        "**Task:** Now go and do a data aggregation to get the mean review score across the three reviews. Remember, we want this grouped by location_id.  Call this dataframe `latest_reviews_agg`.\n",
        "\n",
        "In your groupby you should set `as_index` to false to make joining on the ID values easier.\n",
        "\n",
        "You should also rename the second column to `rating_mean` vs. leaving it as the dual level name.\n"
      ]
    },
    {
      "cell_type": "code",
      "metadata": {
        "id": "WNKI9PQiIO2W"
      },
      "source": [
        "# Do your groupby to get mean rating.\n",
        "# Call it latest_reviews_agg.\n",
        "... = ...(..., as_index=False)....."
      ],
      "execution_count": null,
      "outputs": []
    },
    {
      "cell_type": "code",
      "metadata": {
        "id": "9Skuffd6vozN"
      },
      "source": [
        "# Check it!\n",
        "..."
      ],
      "execution_count": null,
      "outputs": []
    },
    {
      "cell_type": "code",
      "metadata": {
        "id": "LBgC9uGSvqKq"
      },
      "source": [
        "# Rename so the two column names are 'location_id' and 'mean_rating'\n",
        "... = ..."
      ],
      "execution_count": null,
      "outputs": []
    },
    {
      "cell_type": "markdown",
      "metadata": {
        "id": "xhiS7p5zwkAe"
      },
      "source": [
        "### Join your two datasets and one last transform - [6 points]\n",
        "\n",
        "**Task:** Now it's time to join `latest_reviews_agg` back to your `taco_shops_df` dataframe.  You're going to want to join them on the location_id, but remember it is called just 'id' in the `taco_shops_df`  dataframe.  Call this joined dataset `taco_shops_comp`\n",
        "\n",
        "After you make that dataset do one last transform.  In this I want you to make a new column called 'still_good' where the value is 'yes' if the mean_rating is greater than or equal to the average rating since they opened, or 'no' if the rating has dropped.   The idea here is that this could be a value that one would use to see if their average score of the latest reviews has improved or suffered during Covid.  "
      ]
    },
    {
      "cell_type": "code",
      "metadata": {
        "id": "3-EqPtCbw5bB"
      },
      "source": [
        "# Join and name taco_shops_comp\n",
        "\n",
        "..."
      ],
      "execution_count": null,
      "outputs": []
    },
    {
      "cell_type": "markdown",
      "source": [
        "When you are comparing the columns make sure to not comparing taco_shops_df and taco_shops_comp since their tuples may have different orders! Use both columns from taco_shops_comp"
      ],
      "metadata": {
        "id": "ZX91i3iDDPdx"
      }
    },
    {
      "cell_type": "code",
      "metadata": {
        "id": "TciLXtc4xjo7"
      },
      "source": [
        "# Make still_good column\n",
        "..."
      ],
      "execution_count": null,
      "outputs": []
    },
    {
      "cell_type": "code",
      "metadata": {
        "id": "r3hfzsTh12EU"
      },
      "source": [
        "# So, do any locations have a lower average in their last three reviews compared to their average overall score?\n",
        "#Find the name of taco shops are not good anymore.\n",
        "\n",
        "..."
      ],
      "execution_count": null,
      "outputs": []
    },
    {
      "cell_type": "markdown",
      "source": [],
      "metadata": {
        "id": "oRroYvUBADEP"
      }
    }
  ]
}