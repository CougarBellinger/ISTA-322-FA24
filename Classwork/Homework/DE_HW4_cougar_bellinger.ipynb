{
  "nbformat": 4,
  "nbformat_minor": 0,
  "metadata": {
    "colab": {
      "provenance": []
    },
    "kernelspec": {
      "name": "python3",
      "display_name": "Python 3"
    }
  },
  "cells": [
    {
      "cell_type": "markdown",
      "metadata": {
        "id": "Zhg-S72IiAQu"
      },
      "source": [
        "#HW4 - SQL\n",
        "\n",
        "This homework has you working with a new database of information on ticket sales for various types of events.  Your job will be to do some initial exploring and then demonstrate your ability to do all the different types of SQL queries we learned over the last week.  You'll also need to make one function that'll make looking at the tables easier.\n",
        "\n",
        "These questions are written in the way someone would ask them to you.  In other words, I'm using 'plain english' questions vs. ones where I'm very explicit in terms of what columns and tables to use.  Your exploring of the database and functions to ease that process will come in handy here!  \n",
        "\n",
        "The database has been created using a set of data from Amazon. You can read more about what each table contains here: https://docs.aws.amazon.com/redshift/latest/dg/c_sampledb.html.  "
      ]
    },
    {
      "cell_type": "markdown",
      "source": [
        "**Submission Instruction**\n",
        "\n",
        "1- Replace the blank with your name (e.g. DE_HW4-Sara_Riazi)\n",
        "\n",
        "2- Run your notebook (all the outputs must be visible).\n",
        "\n",
        "3- Download .ipynb  \n",
        "\n",
        "4- Submit on Gradescope"
      ],
      "metadata": {
        "id": "xQTg-imNHqMU"
      }
    },
    {
      "cell_type": "markdown",
      "metadata": {
        "id": "9vl8U0A_cGuT"
      },
      "source": [
        "## Libraries and import functions"
      ]
    },
    {
      "cell_type": "code",
      "source": [
        "!pip install mysql-connector-python"
      ],
      "metadata": {
        "id": "2d4tvYnVfoQF"
      },
      "execution_count": null,
      "outputs": []
    },
    {
      "cell_type": "markdown",
      "metadata": {
        "id": "UXhsKxyRcI_V"
      },
      "source": [
        "First bring the libraries we'll need!"
      ]
    },
    {
      "cell_type": "code",
      "metadata": {
        "id": "RggZ8nQeh_Jh"
      },
      "source": [
        "import mysql.connector\n",
        "import pandas as pd"
      ],
      "execution_count": null,
      "outputs": []
    },
    {
      "cell_type": "markdown",
      "metadata": {
        "id": "2muZ_cu0caXD"
      },
      "source": [
        "Now bring get_conn_cur and run_query funtions as well as connection information as we used in the practice notebook for SQL (Lab 3)!  "
      ]
    },
    {
      "cell_type": "code",
      "source": [
        "#connection"
      ],
      "metadata": {
        "id": "y1sJaLzAga19"
      },
      "execution_count": null,
      "outputs": []
    },
    {
      "cell_type": "code",
      "source": [
        "#run_query"
      ],
      "metadata": {
        "id": "0KdLYaZ9gTCK"
      },
      "execution_count": null,
      "outputs": []
    },
    {
      "cell_type": "markdown",
      "metadata": {
        "id": "7G75hD0x0wOL"
      },
      "source": [
        "## Make a SQL head function - 5 point\n",
        "\n",
        "Make function to get the pandas equivalent of `.head()`\n",
        "\n",
        "This function should be called `sql_head` and take a single argument of `table_name` where you specify the table name you want the head information from.  It should return the column names along with the first five rows of the table along.  \n",
        "\n",
        "**For full points, return a pandas dataframe with this information so it displays nicely :)**"
      ]
    },
    {
      "cell_type": "code",
      "metadata": {
        "id": "Ss-wjFNk1isZ"
      },
      "source": [
        "# make sql_head function\n",
        "\n"
      ],
      "execution_count": null,
      "outputs": []
    },
    {
      "cell_type": "code",
      "metadata": {
        "id": "LGndJjU62GUW"
      },
      "source": [
        "# Check that it works!\n",
        "sql_head(table_name = 'ticketsdb_sales')"
      ],
      "execution_count": null,
      "outputs": []
    },
    {
      "cell_type": "markdown",
      "metadata": {
        "id": "E6qirxhjkEtL"
      },
      "source": [
        "## Explore and SELECT - 5 point\n",
        "\n",
        "Let's start this homework with some basic queries to get a look at what's in the various tables. Remember that we are using one Database for all schemas in this course. So running \"show tables\" will list all tables from previous schemas too.\n",
        "* use run_query first to run \"show tables\"\n",
        "* look at the column name, we only wants the tables that starts with 'ticketsdb' which is the schema of this notebook.\n",
        "* run \"show tables where Tables_in_ista322dbs like 'ticketsdb_%' \" query using run_query to see all tables for ticketsdb schema.\n",
        "* Now use the `sql_head()` function you created to get the first five rows of all tables in the ticketsdb schema"
      ]
    },
    {
      "cell_type": "code",
      "source": [],
      "metadata": {
        "id": "ZXMaQkVwr5FW"
      },
      "execution_count": null,
      "outputs": []
    },
    {
      "cell_type": "markdown",
      "metadata": {
        "id": "s6D9Npg2ltDk"
      },
      "source": [
        "## WHERE - 5 points\n",
        "\n",
        "Now let's do a bit of filtering with WHERE.  Write and run queries to get the following results.  \n",
        "**LIMIT all returns to first five rows.**\n",
        "\n",
        "* Get venues with >= 10000 seats from the venues table\n",
        "* Get venues in Arizona\n",
        "* Get users who have a first name that starts with H\n",
        "* Get **just email addresses** of users who gave a .edu email address\n",
        "\n",
        "\n"
      ]
    },
    {
      "cell_type": "code",
      "metadata": {
        "id": "6DpxpPiLnkii"
      },
      "source": [
        "# Get big venues... so those with >= than 10000 seats\n"
      ],
      "execution_count": null,
      "outputs": []
    },
    {
      "cell_type": "code",
      "metadata": {
        "id": "PynGxpC8vCXQ"
      },
      "source": [
        "# Get venues in AZ\n"
      ],
      "execution_count": null,
      "outputs": []
    },
    {
      "cell_type": "code",
      "metadata": {
        "id": "DyRmDFLnwif9"
      },
      "source": [
        "#Get users who have a first name that starts with H\n"
      ],
      "execution_count": null,
      "outputs": []
    },
    {
      "cell_type": "code",
      "metadata": {
        "id": "onB5yPF2v0Ly"
      },
      "source": [
        "# Get all .edu email addresses... just the email addresses\n"
      ],
      "execution_count": null,
      "outputs": []
    },
    {
      "cell_type": "markdown",
      "metadata": {
        "id": "hmPMAbexytqq"
      },
      "source": [
        "## GROUP BY and HAVING - 5 points\n",
        "\n",
        "Time to practice some GROUP BY and HAVING operations. Please write and run queries that do the following:\n",
        "\n",
        "GROUP BY application\n",
        "* Find the top five venues that hosted the most events: Alias the count of events as 'events_hosted'. Also return the venue ID\n",
        "* Get the number of events hosted in each month. You'll need to use `date_part()` in your select to select just the months. Alias this as 'month' and then the count of the number of events hosted as 'events_hosted'.\n",
        "* Get the top five sellers who made the most commission. Alias their total commission made as 'total_com'. Also get their average commission made and alias as 'avg_com'.  Be sure to also display the seller_id.  \n",
        "\n",
        "HAVING application\n",
        "* Using the same query as the last one, instead of getting the top five sellers get all sellers who have made a total commission greater than $4000.\n",
        "* Using the same query as the first groupby, instead of returning the top five venues, return just the ID's of venues that have had greater than 60 events."
      ]
    },
    {
      "cell_type": "code",
      "metadata": {
        "id": "u2Fs7dqiCO9G"
      },
      "source": [
        "### GROUP BY application\n",
        "# Find the top five venues that hosted the most events: Alias the count of events as 'events_hosted'. Also return the venue ID\n"
      ],
      "execution_count": null,
      "outputs": []
    },
    {
      "cell_type": "code",
      "metadata": {
        "id": "f3WLD5hpC-qE"
      },
      "source": [
        "# Get the number of events hosted in each month. You'll need to use `month()` in your select to select just the months.\n",
        "# Alias this as 'month' and then the count of the number of events hosted as 'events_hosted'\n"
      ],
      "execution_count": null,
      "outputs": []
    },
    {
      "cell_type": "code",
      "metadata": {
        "id": "VJ9betzKDyPN"
      },
      "source": [
        "# Get the top five sellers who made the most commission. Alias their total commission made as 'total_com'.\n",
        "# Also get their average commission made and alias as 'avg_com'. Be sure to also display the seller_id\n"
      ],
      "execution_count": null,
      "outputs": []
    },
    {
      "cell_type": "code",
      "metadata": {
        "id": "k-nEGAiFRHYt"
      },
      "source": [
        "### HAVING application\n",
        "# Using the same query as the last groupby, instead of getting the top five sellers get all sellers who have made a total commission greater than $4000\n"
      ],
      "execution_count": null,
      "outputs": []
    },
    {
      "cell_type": "code",
      "metadata": {
        "id": "CW2lqAEmTiqv"
      },
      "source": [
        "# Using the same query as the first groupby, instead of returning the top five venues, return just the ID's of venues that have had greater than 60 events"
      ],
      "execution_count": null,
      "outputs": []
    },
    {
      "cell_type": "markdown",
      "metadata": {
        "id": "Y8VfZvu3E38A"
      },
      "source": [
        "## JOIN - 5 points\n",
        "\n",
        "Time for some joins. You've probably noticed by now that there is at least one relational key in each table, but some have more.  For example, sales has a unique sale id, listing id, seller id, buyer id, date id.  This allows you to link each sale to relevant information in other tables.  \n",
        "\n",
        "Please write queries to do the following items:\n",
        "\n",
        "* Join information of users to each sale made (using seller id).  \n",
        "* Join information about each venue to each event."
      ]
    },
    {
      "cell_type": "code",
      "metadata": {
        "id": "04Pk2WBRF-bb"
      },
      "source": [
        "# Join users information to each sale using seller id (correct solution has 172456 rows)"
      ],
      "execution_count": null,
      "outputs": []
    },
    {
      "cell_type": "code",
      "metadata": {
        "id": "Zefy2LUoG5WU"
      },
      "source": [
        "# For each event attach the venue information (correct solution has 8659 rows)\n"
      ],
      "execution_count": null,
      "outputs": []
    },
    {
      "cell_type": "markdown",
      "metadata": {
        "id": "5rHfJTedHoYL"
      },
      "source": [
        "## Subqueries - 5 points\n",
        "\n",
        "To wrap up let's do several subqueries. Please do the following:\n",
        "\n",
        "* Get all purchases made by users of live in Arizona\n",
        "* Get event information for all events that took place in a venue where the venue name ends with 'Stadium'.\n",
        "* Get event information for all events where the total ticket sales were greater than $50,000.  "
      ]
    },
    {
      "cell_type": "code",
      "metadata": {
        "id": "w22xPuPWI4WV"
      },
      "source": [
        "# Get all purchases from users who live in Arizona (correct solution has 1855 rows)\n"
      ],
      "execution_count": null,
      "outputs": []
    },
    {
      "cell_type": "code",
      "metadata": {
        "id": "y-lAGfPPHntJ"
      },
      "source": [
        "# Get event information for all events that took place in a venue where the name ended in 'Stadium' (correct solution has 1029 rows)\n"
      ],
      "execution_count": null,
      "outputs": []
    },
    {
      "cell_type": "code",
      "metadata": {
        "id": "YtbNOd8nLWZ5"
      },
      "source": [
        "# Get event name where the total sales for that event were greater than $50000 (correct solution has three rows for Adriana Lecouvreur,Phantom of the Opera, and Janet Jackson )\n",
        "# Note that we are looking for  event name!\n"
      ],
      "execution_count": null,
      "outputs": []
    }
  ]
}