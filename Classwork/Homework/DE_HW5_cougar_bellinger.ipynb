{
  "nbformat": 4,
  "nbformat_minor": 0,
  "metadata": {
    "colab": {
      "provenance": []
    },
    "kernelspec": {
      "name": "python3",
      "display_name": "Python 3"
    }
  },
  "cells": [
    {
      "cell_type": "markdown",
      "metadata": {
        "id": "PIVONmeB6R-W"
      },
      "source": [
        "\n",
        "\n",
        "\n",
        "# HW 5 - Building a normalized RDB\n",
        "\n",
        "The goal of this homework is to take a semi-structured non-normalized CSV file and turn it into a set of normalized tables that you then push to your MySQL database on AWS (or to your local MySQL).\n",
        "\n",
        "The original dataset contains 100k district court decisions, but it has been to downsampled to only 1000 rows to make the uploads faster. Each row contains info about a judge, their demographics, party affiliation, etc. Rows also contain information about the case they were deciding on. Was it a criminal or civil case? What year was it? Was the direction of the decision liberal or conservative?\n",
        "\n",
        "While the current denormalized format is fine for analysis, it's not fine for a database as it violates many normalization rules. Your goal is to normalize it by designing a simple schema, then wrangling it into the proper dataframes, then pushing it all to database server.\n",
        "\n",
        "For the first part of this assignment you should wind up with four tables. One with case information, one with judge information, one that has casetype information, and for category info. Each table should be reduced so that there are not then repeating rows, and primary keys should be assigned within each. These tables should be called 'casedb_case', 'casedb_judge','casedb_casetype', and 'casedb_category'.\n",
        "\n",
        "For the last part you should make a rollup table that calculates the percent of liberal decisions for each party level and each case category. This will allow for one to get a quick look at how the political party affiliation of judges impacts the direction of a decision for different case categories (e.g. criminal, civil, labor)."
      ]
    },
    {
      "cell_type": "markdown",
      "source": [
        "**Submission**\n",
        "\n",
        "1) Make a copy and replace blank with your name\n",
        "\n",
        "2) Complete and run all cells. (For DDL and DML cells, re-running will result in error unless you drop your table first)\n",
        "\n",
        "3) Download .ipynb of the notebook (make sure all cells have appropariate output).\n",
        "\n",
        "4) Submit on Gradescope\n"
      ],
      "metadata": {
        "id": "rfsXUUUU5k1w"
      }
    },
    {
      "cell_type": "markdown",
      "metadata": {
        "id": "_jWNnlFk-vrU"
      },
      "source": [
        "## Bring in data, explore, make schema\n",
        "\n",
        "Start by bringing in your data to `cases`. Call a `.head()` on it to see what columns are there and what they contain."
      ]
    },
    {
      "cell_type": "code",
      "metadata": {
        "id": "GlsBOmibKzFV"
      },
      "source": [
        "import pandas as pd\n",
        "all_cases_df = pd.read_csv('https://docs.google.com/spreadsheets/d/1AWLK06JOlSKImgoHNTbj7oXR5mRfsL2WWeQF6ofMq1g/gviz/tq?tqx=out:csv')"
      ],
      "execution_count": null,
      "outputs": []
    },
    {
      "cell_type": "code",
      "source": [
        "all_cases_df.head()"
      ],
      "metadata": {
        "id": "1ILLPCdHZ9uG"
      },
      "execution_count": null,
      "outputs": []
    },
    {
      "cell_type": "markdown",
      "metadata": {
        "id": "ZxZrpJn7AoBV"
      },
      "source": [
        "### Make schema\n",
        "\n",
        "OK, given that head, you need to make four related tables that will make up a normalized database. Those tables are 'casedb_cases', 'casedb_judges', 'casedb_category', and 'casedb_casetype'. If it's not clear what info should go into each, explore the data more. Find the functional dependencies, and create the tables based on thoes.\n",
        "\n",
        "Remember, you might not have keys, will need to reduce the rows, select certain columns, etc. There isn't a defined path here.\n",
        "\n"
      ]
    },
    {
      "cell_type": "markdown",
      "source": [
        "Let's start by bringing the coonection info, run_query, and sql_head"
      ],
      "metadata": {
        "id": "mkIRAb-LfCqV"
      }
    },
    {
      "cell_type": "code",
      "source": [
        "!pip install mysql-connector-python"
      ],
      "metadata": {
        "id": "mSrDn6BQfVtm"
      },
      "execution_count": null,
      "outputs": []
    },
    {
      "cell_type": "code",
      "source": [
        "import mysql.connector"
      ],
      "metadata": {
        "id": "djjTkl9jguj_"
      },
      "execution_count": null,
      "outputs": []
    },
    {
      "cell_type": "code",
      "source": [
        "#get_conn_cur/run_query/sql_head\n"
      ],
      "metadata": {
        "id": "PAz3PTKbfJea"
      },
      "execution_count": null,
      "outputs": []
    },
    {
      "cell_type": "markdown",
      "metadata": {
        "id": "OCipTbdcHQzN"
      },
      "source": [
        "## Make casetype - 5 points\n",
        "\n",
        "\n",
        "We start by tables that do not have foreign keys. First create a table that contains just each casetype info. I would call this table that you're going to upload `casestype_df` so you don't overwrite your raw data.\n",
        "\n",
        "Go make the casetype table. This should have only two columns that allow you to link the casetype name back to the ID in the 'cases' table. Note that when you select attributes from the `all_cases_df` there would be many duplicated rows, so you have remove duplicated rows using `drop_dublicates`. Finally, there should be only 27 rows for casetype.\n",
        "\n"
      ]
    },
    {
      "cell_type": "code",
      "source": [
        "# Make casetype_df\n"
      ],
      "metadata": {
        "id": "aaOpLIDUcezQ"
      },
      "execution_count": null,
      "outputs": []
    },
    {
      "cell_type": "markdown",
      "source": [
        "\n",
        "### Make cases table in your database\n",
        "\n",
        "Put the helper function to create the connection here.\n",
        "Once you do that you'll need to do the following\n",
        "\n",
        "* Connect, make a table called 'casedb_casetype' with the correct column names,data types, and primary key. Be sure to execute and commit the table.\n",
        "* Make tuples of your data\n",
        "* Write a SQL string that allows you to insert each tuple of data into the correct columns\n",
        "* Execute the string many times to fill out 'cases'\n",
        "* Commit changes and check the table.\n",
        "\n",
        "I'm not going to leave a full roadmap beyond this. Feel free to add cells as needed to do the above."
      ],
      "metadata": {
        "id": "9nPSh44BhGIL"
      }
    },
    {
      "cell_type": "code",
      "source": [
        "#create casedb_casetype table\n"
      ],
      "metadata": {
        "id": "-aODN7iBdb62"
      },
      "execution_count": null,
      "outputs": []
    },
    {
      "cell_type": "code",
      "source": [
        "#run this cell\n",
        "sql_head(table_name='casedb_casetype')"
      ],
      "metadata": {
        "id": "gWmt23_9fJg4"
      },
      "execution_count": null,
      "outputs": []
    },
    {
      "cell_type": "code",
      "source": [
        "#load data into casedb_casetype\n"
      ],
      "metadata": {
        "id": "oOKBwZXag2Zl"
      },
      "execution_count": null,
      "outputs": []
    },
    {
      "cell_type": "code",
      "source": [
        "#TEST #this must return 27\n",
        "run_query(\"\"\"SELECT COUNT(*) FROM casedb_casetype;\"\"\")"
      ],
      "metadata": {
        "id": "birngaDeiSQK"
      },
      "execution_count": null,
      "outputs": []
    },
    {
      "cell_type": "code",
      "source": [
        "#TEST #this must return contempt of court\n",
        "run_query(\"\"\"SELECT casetype_name FROM casedb_casetype WHERE casetype_id = 4;\"\"\")"
      ],
      "metadata": {
        "id": "wOA2T5nrigBi"
      },
      "execution_count": null,
      "outputs": []
    },
    {
      "cell_type": "markdown",
      "source": [
        "#Make Categoty 5 points\n",
        "\n",
        "Do the same to create the `casedb_category` table and load data"
      ],
      "metadata": {
        "id": "YGGfTyzubaRZ"
      }
    },
    {
      "cell_type": "code",
      "source": [
        "#create category_df\n",
        "\n"
      ],
      "metadata": {
        "id": "kJWYf8vLjhhI"
      },
      "execution_count": null,
      "outputs": []
    },
    {
      "cell_type": "code",
      "source": [
        "#create table\n"
      ],
      "metadata": {
        "id": "MdBkyNkRjlFa"
      },
      "execution_count": null,
      "outputs": []
    },
    {
      "cell_type": "code",
      "source": [
        "#load data\n"
      ],
      "metadata": {
        "id": "ya88jKCJjnDu"
      },
      "execution_count": null,
      "outputs": []
    },
    {
      "cell_type": "code",
      "source": [
        "#TEST\n",
        "run_query(\"SELECT COUNT(*) FROM casedb_category;\")"
      ],
      "metadata": {
        "id": "51mYTwzgk6h5"
      },
      "execution_count": null,
      "outputs": []
    },
    {
      "cell_type": "code",
      "source": [
        "#TEST\n",
        "run_query(\"SELECT category_name FROM casedb_category WHERE category_id = 3;\")"
      ],
      "metadata": {
        "id": "HBmLTTWelFxS"
      },
      "execution_count": null,
      "outputs": []
    },
    {
      "cell_type": "code",
      "source": [
        "#[-2] each failed test\n",
        "#[-1] missing primary key\n",
        "#[-4] only create dataframe"
      ],
      "metadata": {
        "id": "ImXoRTHQlSgD"
      },
      "execution_count": null,
      "outputs": []
    },
    {
      "cell_type": "markdown",
      "metadata": {
        "id": "Cb9Q6spxDvrh"
      },
      "source": [
        "## Make judges - 5 points\n",
        "\n",
        "Now make your judges table from the original `all_cases_df` dataframe.\n",
        "\n",
        "Judges should have five columns, including the `judge_id` that you have to create using `pd.factorize` (https://pandas.pydata.org/pandas-docs/stable/reference/api/pandas.factorize.html) on judge name. There should be 553 rows after you drop duplicates (remember that judges may have had more than one case).\n",
        "\n",
        "After you make the dataset go and push to a SQL table called 'judges'."
      ]
    },
    {
      "cell_type": "code",
      "source": [
        "#Create judge id and assign to judge_id attribute on all_cases_df\n"
      ],
      "metadata": {
        "id": "Mqsgtf0mmMA4"
      },
      "execution_count": null,
      "outputs": []
    },
    {
      "cell_type": "code",
      "source": [
        "#create judge_df\n",
        "\n"
      ],
      "metadata": {
        "id": "ODfedVc7nR0P"
      },
      "execution_count": null,
      "outputs": []
    },
    {
      "cell_type": "code",
      "source": [
        "#create table casedb_judge\n"
      ],
      "metadata": {
        "id": "iQ0KotmSnsbu"
      },
      "execution_count": null,
      "outputs": []
    },
    {
      "cell_type": "code",
      "source": [
        "#load data\n"
      ],
      "metadata": {
        "id": "z0xyIQfZoG4Y"
      },
      "execution_count": null,
      "outputs": []
    },
    {
      "cell_type": "code",
      "source": [
        "#TEST\n",
        "run_query(\"SELECT COUNT(*) FROM casedb_judge\")"
      ],
      "metadata": {
        "id": "tJ71HI_RpZPf"
      },
      "execution_count": null,
      "outputs": []
    },
    {
      "cell_type": "code",
      "source": [
        "#TEST\n",
        "run_query('SELECT judge_name FROM casedb_judge WHERE judge_id = 2')"
      ],
      "metadata": {
        "id": "DCKt5toXpmJP"
      },
      "execution_count": null,
      "outputs": []
    },
    {
      "cell_type": "markdown",
      "metadata": {
        "id": "owGhO5VuA-Tw"
      },
      "source": [
        "## Make cases table. - 5 points\n",
        "\n",
        "Finally we create the table that contains case's info: `casedb_cases`.\n",
        "\n",
        "This table should have five columns and 1000 rows.\n",
        "\n",
        "Note, one of these columns should be a judge_id that links to the judges table. You'll need to make this foreign key. You have two other foriegn_keys as well.\n",
        "\n"
      ]
    },
    {
      "cell_type": "code",
      "metadata": {
        "id": "ewrQQhsdPRRx"
      },
      "source": [
        "# select necessary columns to make cases_df\n"
      ],
      "execution_count": null,
      "outputs": []
    },
    {
      "cell_type": "code",
      "source": [
        "#create table casedb_cases (note that case_id requires larger data type than INT)\n",
        "\n"
      ],
      "metadata": {
        "id": "qH5fvNhlrWkI"
      },
      "execution_count": null,
      "outputs": []
    },
    {
      "cell_type": "markdown",
      "source": [],
      "metadata": {
        "id": "3KfMqctzuEOl"
      }
    },
    {
      "cell_type": "code",
      "source": [
        "#load data into cases\n"
      ],
      "metadata": {
        "id": "NKeMaLd7sHD5"
      },
      "execution_count": null,
      "outputs": []
    },
    {
      "cell_type": "code",
      "source": [
        "#TEST\n",
        "run_query(\"SELECT COUNT(*) FROM casedb_case;\")"
      ],
      "metadata": {
        "id": "Bnj4TI3Gw3kE"
      },
      "execution_count": null,
      "outputs": []
    },
    {
      "cell_type": "code",
      "source": [
        "#TEST\n",
        "run_query(\"SELECT * FROM casedb_case WHERE case_id = 15660871\")"
      ],
      "metadata": {
        "id": "Qe_GZQtmxAuS"
      },
      "execution_count": null,
      "outputs": []
    },
    {
      "cell_type": "markdown",
      "metadata": {
        "id": "WaThd4pgJVAa"
      },
      "source": [
        "## A quick test of your tables - 3 point\n",
        "\n",
        "Below is a query to get the number of unique judges that have ruled on criminal court motion cases. You should get a value of 119 as your return if your database is set up correctly!"
      ]
    },
    {
      "cell_type": "code",
      "metadata": {
        "id": "UTvY-T16JXoL"
      },
      "source": [
        "run_query(\"\"\"SELECT COUNT(DISTINCT(casedb_judge.judge_id)) FROM casedb_case\n",
        "    JOIN casedb_judge ON casedb_case.judge_id = casedb_judge.judge_id\n",
        "        WHERE casetype_id = (SELECT casetype_id FROM casedb_casetype\n",
        "                  WHERE casetype_name = 'criminal court motions'); \"\"\")\n"
      ],
      "execution_count": null,
      "outputs": []
    },
    {
      "cell_type": "markdown",
      "metadata": {
        "id": "wyx-UfY3KY7z"
      },
      "source": [
        "## Make rollup table - 7 points\n",
        "\n",
        "Now let's make that rollup table! The goal here is to make a summary table easily accessed. We're going to roll the whole thing up by the judges party and the category, but you could imagine doing this for each judge to track how they make decisions over time which would then be useful for an analytics database. The one we're making could also be used as a dimension table where we needed overall party averages.\n",
        "\n",
        "We want to get a percentage of liberal decisions by each grouping level (party_name, category_name). To do this we need first, the number of cases seen at each level, and second, the number of liberal decisions made at each level. `cases` contains the columns `libcon_id` which is a 0 if the decision was conservative in its ruling, and a 1 if it was liberal in its ruling. Thus, you can get a percentage of liberal decisions if you divide the sum of that column by the total observations. Your `agg()` can both get the sum and count.\n",
        "\n",
        "After you groupby you'll need to reset the index, rename the columns, then make the percentage.\n",
        "\n",
        "Once you do that you can push to a SQL table called 'rollup'\n",
        "\n",
        "Let's get started"
      ]
    },
    {
      "cell_type": "code",
      "metadata": {
        "id": "zDWZ_LJyKdNw"
      },
      "source": [
        "# Make a groupby called cases_rollup. This should group by party_name and categrory name. It should aggregate the count and sum of libcon_id\n"
      ],
      "execution_count": null,
      "outputs": []
    },
    {
      "cell_type": "code",
      "metadata": {
        "id": "nQ2UOxTsKfOE"
      },
      "source": [
        "# reset your index\n"
      ],
      "execution_count": null,
      "outputs": []
    },
    {
      "cell_type": "code",
      "metadata": {
        "id": "plS7fzUiLCyi"
      },
      "source": [
        "# rename your columns now. Keep the first to the same but call the last two 'total_cases' and 'num_lib_decisions'\n"
      ],
      "execution_count": null,
      "outputs": []
    },
    {
      "cell_type": "markdown",
      "metadata": {
        "id": "b7pn9Bj5NSuM"
      },
      "source": [
        "Now make a new column called 'percent_liberal'\n",
        "\n",
        "This should calucalte the percentage of decisions that were liberal in nature. Multiple it by 100 so that it's a full percent. Also use the `round()` function on the whole thing to keep it in whole percentages."
      ]
    },
    {
      "cell_type": "code",
      "metadata": {
        "id": "lRbgcHXhNKhv"
      },
      "source": [
        "# make your metric called 'percent_liberal'\n"
      ],
      "execution_count": null,
      "outputs": []
    },
    {
      "cell_type": "markdown",
      "metadata": {
        "id": "AoBcuXvJN_pl"
      },
      "source": [
        "\n",
        "Now go and push the whole thing to a table called 'rollup'\n",
        "\n",
        "There should be five columns and nine rows."
      ]
    },
    {
      "cell_type": "code",
      "metadata": {
        "id": "BKyrsDMeOoHG"
      },
      "source": [
        "#create casedb_rollup table\n",
        "\n"
      ],
      "execution_count": null,
      "outputs": []
    },
    {
      "cell_type": "code",
      "source": [
        "#load data\n"
      ],
      "metadata": {
        "id": "Wh0u3soxzdSM"
      },
      "execution_count": null,
      "outputs": []
    },
    {
      "cell_type": "code",
      "metadata": {
        "id": "X7qTkp1SO1mb"
      },
      "source": [
        "# Run this cell\n",
        "sql_head('casedb_rollup')"
      ],
      "execution_count": null,
      "outputs": []
    }
  ]
}